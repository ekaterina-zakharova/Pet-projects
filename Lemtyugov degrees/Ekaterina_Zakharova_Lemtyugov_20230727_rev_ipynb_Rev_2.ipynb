{
 "cells": [
  {
   "cell_type": "markdown",
   "id": "2WDYll3nsNoq",
   "metadata": {
    "id": "2WDYll3nsNoq"
   },
   "source": [
    "<div class=\"alert alert-info\">\n",
    "<img src=\"http://s3.amazonaws.com/pix.iemoji.com/images/emoji/apple/ios-12/256/waving-hand.png\" align=left width=30, heigth=30>\n",
    "</div>\n",
    "<b> Комментарий ревьюера</b>\n",
    "Привет, Катерина! Давай знакомиться! Меня зовут Эдуард Ротарь, и я буду проверять твой проект. Сразу предлагаю общение на «ты» 🙂, но если тебе не очень удобно, могу на «вы».\n",
    "\n",
    "Мои комментарии - это рекомендации, ты можешь их учесть, если захочешь.\n",
    "\n",
    "Я их буду помечать так:\n",
    "\n",
    "1. Значок 🛑, выделены моменты, которые необходимо доработать. После их доработки проект будет принят.  🙂\n",
    "2. Значок ✅, отмечены удачные и элегантные решения, на которые можно опираться в будущих проектах.\n",
    "3. Значок ⚠️, выделено то, что в следующий раз можно сделать по-другому. Ты можешь учесть эти комментарии при выполнении будущих заданий, можешь, если есть время доработать в этот раз.\n"
   ]
  },
  {
   "attachments": {
    "%D0%BA%D0%B0%D1%80%D1%82%D0%B8%D0%BD%D0%BA%D0%B0_2.png": {
     "image/png": "[encoded data removed]"
    }
   },
   "cell_type": "markdown",
   "id": "636d22a3",
   "metadata": {
    "id": "636d22a3"
   },
   "source": [
    "![%D0%BA%D0%B0%D1%80%D1%82%D0%B8%D0%BD%D0%BA%D0%B0_2.png](attachment:%D0%BA%D0%B0%D1%80%D1%82%D0%B8%D0%BD%D0%BA%D0%B0_2.png)"
   ]
  },
  {
   "cell_type": "markdown",
   "id": "2XIdClCfsBle",
   "metadata": {
    "id": "2XIdClCfsBle"
   },
   "source": [
    "**Комментарий наставника:** Привет, Екатерина и Эдуард! Это Юлия, я добавлю комментарии к работе, если они будут.\n",
    "\n",
    "Спасибо большое за проект и за презентацию!\n",
    "\n",
    "Я их буду помечать так:\n",
    "\n",
    "✅ **Комментарий наставника:**  - все отлично\n",
    "\n",
    "❓ **Комментарий наставника:** - момент, на который можно обратить внимание, чтобы улучшить проект либо альтернативный подход, который можно применить"
   ]
  },
  {
   "cell_type": "markdown",
   "id": "c6f2e731",
   "metadata": {
    "id": "c6f2e731",
    "toc": true
   },
   "source": [
    "<h1>Table of Contents<span class=\"tocSkip\"></span></h1>\n",
    "<div class=\"toc\"><ul class=\"toc-item\"><li><span><a href=\"#Материалы\" data-toc-modified-id=\"Материалы-1\"><span class=\"toc-item-num\">1&nbsp;&nbsp;</span>Материалы</a></span></li><li><span><a href=\"#Введение\" data-toc-modified-id=\"Введение-2\"><span class=\"toc-item-num\">2&nbsp;&nbsp;</span>Введение</a></span><ul class=\"toc-item\"><li><span><a href=\"#Описание-проекта\" data-toc-modified-id=\"Описание-проекта-2.1\"><span class=\"toc-item-num\">2.1&nbsp;&nbsp;</span>Описание проекта</a></span></li><li><span><a href=\"#Цель-проекта\" data-toc-modified-id=\"Цель-проекта-2.2\"><span class=\"toc-item-num\">2.2&nbsp;&nbsp;</span>Цель проекта</a></span></li><li><span><a href=\"#Задачи-проекта\" data-toc-modified-id=\"Задачи-проекта-2.3\"><span class=\"toc-item-num\">2.3&nbsp;&nbsp;</span>Задачи проекта</a></span></li><li><span><a href=\"#Итоговый-результат\" data-toc-modified-id=\"Итоговый-результат-2.4\"><span class=\"toc-item-num\">2.4&nbsp;&nbsp;</span>Итоговый результат</a></span></li><li><span><a href=\"#Характеристика-данных\" data-toc-modified-id=\"Характеристика-данных-2.5\"><span class=\"toc-item-num\">2.5&nbsp;&nbsp;</span>Характеристика данных</a></span></li><li><span><a href=\"#Техническое-задание\" data-toc-modified-id=\"Техническое-задание-2.6\"><span class=\"toc-item-num\">2.6&nbsp;&nbsp;</span>Техническое задание</a></span></li><li><span><a href=\"#Структура-проекта\" data-toc-modified-id=\"Структура-проекта-2.7\"><span class=\"toc-item-num\">2.7&nbsp;&nbsp;</span>Структура проекта</a></span></li></ul></li><li><span><a href=\"#Общая-информация-о-данных\" data-toc-modified-id=\"Общая-информация-о-данных-3\"><span class=\"toc-item-num\">3&nbsp;&nbsp;</span>Общая информация о данных</a></span></li><li><span><a href=\"#Предобработка-данных\" data-toc-modified-id=\"Предобработка-данных-4\"><span class=\"toc-item-num\">4&nbsp;&nbsp;</span>Предобработка данных</a></span><ul class=\"toc-item\"><li><span><a href=\"#Проверка-данных-на-дубликаты\" data-toc-modified-id=\"Проверка-данных-на-дубликаты-4.1\"><span class=\"toc-item-num\">4.1&nbsp;&nbsp;</span>Проверка данных на дубликаты</a></span></li><li><span><a href=\"#Обработка-таблицы-с-данными-об-игроках--&quot;players_data&quot;\" data-toc-modified-id=\"Обработка-таблицы-с-данными-об-игроках--&quot;players_data&quot;-4.2\"><span class=\"toc-item-num\">4.2&nbsp;&nbsp;</span>Обработка таблицы с данными об игроках  \"players_data\"</a></span></li><li><span><a href=\"#Анализ-таблицы-с-игроками-&quot;players&quot;\" data-toc-modified-id=\"Анализ-таблицы-с-игроками-&quot;players&quot;-4.3\"><span class=\"toc-item-num\">4.3&nbsp;&nbsp;</span>Анализ таблицы с игроками \"players\"</a></span></li></ul></li><li><span><a href=\"#Визуализация-переходов-между-командами---Sankey-Chart:\" data-toc-modified-id=\"Визуализация-переходов-между-командами---Sankey-Chart:-5\"><span class=\"toc-item-num\">5&nbsp;&nbsp;</span>Визуализация переходов между командами - Sankey Chart:</a></span></li><li><span><a href=\"#Chord-диаграмма-для-отображения-переходов-игроков\" data-toc-modified-id=\"Chord-диаграмма-для-отображения-переходов-игроков-6\"><span class=\"toc-item-num\">6&nbsp;&nbsp;</span>Chord диаграмма для отображения переходов игроков</a></span></li><li><span><a href=\"#Поиск-одноклубников\" data-toc-modified-id=\"Поиск-одноклубников-7\"><span class=\"toc-item-num\">7&nbsp;&nbsp;</span>Поиск одноклубников</a></span></li><li><span><a href=\"#Расчет-числа-Лемтюгова\" data-toc-modified-id=\"Расчет-числа-Лемтюгова-8\"><span class=\"toc-item-num\">8&nbsp;&nbsp;</span>Расчет числа Лемтюгова</a></span></li><li><span><a href=\"#Визуализация-графа-связей-между-игроками\" data-toc-modified-id=\"Визуализация-графа-связей-между-игроками-9\"><span class=\"toc-item-num\">9&nbsp;&nbsp;</span>Визуализация графа связей между игроками</a></span></li><li><span><a href=\"#Проверка-гипотез\" data-toc-modified-id=\"Проверка-гипотез-10\"><span class=\"toc-item-num\">10&nbsp;&nbsp;</span>Проверка гипотез</a></span><ul class=\"toc-item\"><li><span><a href=\"#Проверка-гипотезы-о-влиянии-роста-и-веса-хокеистов-на-их-&quot;успешность&quot;\" data-toc-modified-id=\"Проверка-гипотезы-о-влиянии-роста-и-веса-хокеистов-на-их-&quot;успешность&quot;-10.1\"><span class=\"toc-item-num\">10.1&nbsp;&nbsp;</span>Проверка гипотезы о влиянии роста и веса хокеистов на их \"успешность\"</a></span></li><li><span><a href=\"#Проверка-гипотезы-о-влиянии-месяца-рождения-хокеистов-на-их-&quot;успешность&quot;\" data-toc-modified-id=\"Проверка-гипотезы-о-влиянии-месяца-рождения-хокеистов-на-их-&quot;успешность&quot;-10.2\"><span class=\"toc-item-num\">10.2&nbsp;&nbsp;</span>Проверка гипотезы о влиянии месяца рождения хокеистов на их \"успешность\"</a></span><ul class=\"toc-item\"><li><span><a href=\"#Проверка-гипотезы-для-вратарей\" data-toc-modified-id=\"Проверка-гипотезы-для-вратарей-10.2.1\"><span class=\"toc-item-num\">10.2.1&nbsp;&nbsp;</span>Проверка гипотезы для вратарей</a></span></li><li><span><a href=\"#Проверка-гипотезы-для-нападающих\" data-toc-modified-id=\"Проверка-гипотезы-для-нападающих-10.2.2\"><span class=\"toc-item-num\">10.2.2&nbsp;&nbsp;</span>Проверка гипотезы для нападающих</a></span></li><li><span><a href=\"#Проверка-гипотезы-для-защитников\" data-toc-modified-id=\"Проверка-гипотезы-для-защитников-10.2.3\"><span class=\"toc-item-num\">10.2.3&nbsp;&nbsp;</span>Проверка гипотезы для защитников</a></span></li></ul></li></ul></li><li><span><a href=\"#Выводы-по-проекту\" data-toc-modified-id=\"Выводы-по-проекту-11\"><span class=\"toc-item-num\">11&nbsp;&nbsp;</span>Выводы по проекту</a></span></li></ul></div>"
   ]
  },
  {
   "cell_type": "markdown",
   "id": "4eefe2f7",
   "metadata": {
    "id": "4eefe2f7"
   },
   "source": [
    "# Расчет числа Лемтюгова"
   ]
  },
  {
   "cell_type": "markdown",
   "id": "0baefe98",
   "metadata": {
    "id": "0baefe98"
   },
   "source": [
    "## Материалы"
   ]
  },
  {
   "cell_type": "markdown",
   "id": "5a06ff74",
   "metadata": {
    "id": "5a06ff74"
   },
   "source": [
    "Ссылка на презентацию: https://disk.yandex.ru/i/zi1TwsztFS6BWA"
   ]
  },
  {
   "cell_type": "markdown",
   "id": "3R_IiCx-slKe",
   "metadata": {
    "id": "3R_IiCx-slKe"
   },
   "source": [
    "<div class=\"alert alert-info\">\n",
    "<img src=\"http://s3.amazonaws.com/pix.iemoji.com/images/emoji/apple/ios-12/256/waving-hand.png\" align=left width=30, heigth=30>\n",
    "</div>\n",
    "<b> Комментарий ревьюера</b>\n",
    "<p>\n",
    "✅ Презентация ОК!"
   ]
  },
  {
   "cell_type": "markdown",
   "id": "a8eeaf04",
   "metadata": {
    "id": "a8eeaf04"
   },
   "source": [
    "## Введение"
   ]
  },
  {
   "cell_type": "markdown",
   "id": "1e8a272c",
   "metadata": {
    "id": "1e8a272c"
   },
   "source": [
    "В научной публицистике известно шуточное число Эрдёша, которое выражает количество соавторов, необходимое, чтобы добраться до крайне плодотворного математика Эрдёша. Т.е. сам Эрдёш имеет число равное 0, все его соавторы - 1, всем, кто имеет общую работу с соавтором Эрдёша, но не с ним самим, присваивается число Эрдёша, равное 2, и так далее. Известно аналогичное число Бэйкона для киноактеров, в данной работе будет рассчитано аналогичное число для российской хоккейной лиги. Предлагается назвать его \"числом Лемтюгова\" в честь Николая Лемтюгова, сменившего за свою карьеру около 10 клубов в КХЛ."
   ]
  },
  {
   "cell_type": "markdown",
   "id": "ff97f45a",
   "metadata": {
    "id": "ff97f45a"
   },
   "source": [
    "### Описание проекта"
   ]
  },
  {
   "cell_type": "markdown",
   "id": "edf644dc",
   "metadata": {
    "id": "edf644dc"
   },
   "source": [
    "Для проекта предоставляются данные после парсинга сайта КХЛ. В ходе проекта необходимо очистить и подготовить данные, расчитать \"Число Лемтюгова\", построить Sankey chart для визуализации переходов игроков, а также построить граф для визуализации \"Числа Лемтюгова\".\n",
    "\n",
    "Также необходимо проверить ряд гипотез:\n",
    "\n",
    " - У Николая Лемтюгова больше всего одноклубников в новейшей российской хоккейной истории. Найти самого популярного хоккеиста или хоккеистов, если это не так.\n",
    "\n",
    "- Любые два хоккеиста в истории КХЛ могут познакомиться за максимум 6 рукопожатий.\n",
    "\n",
    "- Игроки с низким значением числа Лемтюгова играли в среднем в большем количестве команд, чем игроки, у которых это значение больше.\n",
    "\n",
    "- Нет игроков, у которых отсутствует число Лемтюгова (нет связей через других игроков).\n",
    "\n",
    "- С течением времени медианное число Лемтюгова будет увеличиваться.\n",
    "\n",
    "- Существует связь между количеством переходов и ростом/весом игрока.\n",
    "\n",
    "- У хоккеистов из северных городов карьера сложилась более успешно, чем у южан.\n",
    "\n",
    "- Более успешные хоккеисты рождаются в январе-марте."
   ]
  },
  {
   "cell_type": "markdown",
   "id": "2ade38bc",
   "metadata": {
    "id": "2ade38bc"
   },
   "source": [
    "### Цель проекта"
   ]
  },
  {
   "cell_type": "markdown",
   "id": "1c56f12d",
   "metadata": {
    "id": "1c56f12d"
   },
   "source": [
    "Создать аналог числа Эрдёша — Бэйкона для отечественных хоккеистов, называемый \"Числом Лемтюгова\" , чтобы измерять \"близость\" хоккеистов к Николаю Лемтюгову через команды, в которых они играли."
   ]
  },
  {
   "cell_type": "markdown",
   "id": "75bf1a6c",
   "metadata": {
    "id": "75bf1a6c"
   },
   "source": [
    "### Задачи проекта"
   ]
  },
  {
   "cell_type": "markdown",
   "id": "09e9a991",
   "metadata": {
    "id": "09e9a991"
   },
   "source": [
    "   1. Собрать данные об отечественных хоккеистах и командах, в которых они играли.\n",
    "   2. Рассчитать число Лемтюгова для каждого хоккеиста.\n",
    "   3. Построить дэшборд или отчет с графами, отображающими связи между хоккеистами и количеством команд, через которые они были связаны.\n"
   ]
  },
  {
   "cell_type": "markdown",
   "id": "564648e3",
   "metadata": {
    "id": "564648e3"
   },
   "source": [
    "### Итоговый результат"
   ]
  },
  {
   "cell_type": "markdown",
   "id": "46426fa3",
   "metadata": {
    "id": "46426fa3"
   },
   "source": [
    "Итоговым результатом проекта станет презентация с основными выводами и визуализациями по проекту. Ссылка на презентацию находится выше в разделе \"Материалы\"."
   ]
  },
  {
   "cell_type": "markdown",
   "id": "2be581ba",
   "metadata": {
    "id": "2be581ba"
   },
   "source": [
    "### Характеристика данных"
   ]
  },
  {
   "cell_type": "markdown",
   "id": "eab3d7ad",
   "metadata": {
    "id": "eab3d7ad"
   },
   "source": [
    "В нашем распоряжении три таблицы с данными после парсинга:\n",
    "- players_data (путь к файлу: https://raw.githubusercontent.com/ekaterina-zakharova/Pet-projects/main/Lemtyugov%20degrees/Row%20data/khl.csv)  - с данными об игроках и их переходах.\n",
    "- personal_data (путь к файлу : https://raw.githubusercontent.com/CurasaoRG/hockey_project/main/players_personal_data.csv) с персональными данными игроков.\n",
    "- stat_data (путь к файлу https://raw.githubusercontent.com/ekaterina-zakharova/Pet-projects/main/Lemtyugov%20degrees/Row%20data/khl_stat_last.xlsx) - данные о статистике игроков."
   ]
  },
  {
   "cell_type": "markdown",
   "id": "Y1E5b0BJ1ill",
   "metadata": {
    "id": "Y1E5b0BJ1ill"
   },
   "source": [
    "<div class=\"alert alert-info\">\n",
    "<img src=\"http://s3.amazonaws.com/pix.iemoji.com/images/emoji/apple/ios-12/256/waving-hand.png\" align=left width=30, heigth=30>\n",
    "</div>\n",
    "<p>\n",
    "<p> 🛑 Думаю важно, что-бы ссылки работали."
   ]
  },
  {
   "cell_type": "markdown",
   "id": "8e500ee3",
   "metadata": {
    "id": "8e500ee3"
   },
   "source": [
    "### Техническое задание"
   ]
  },
  {
   "cell_type": "markdown",
   "id": "ewRsfPy9sLEI",
   "metadata": {
    "id": "ewRsfPy9sLEI"
   },
   "source": []
  },
  {
   "cell_type": "markdown",
   "id": "89d0d3ba",
   "metadata": {
    "id": "89d0d3ba"
   },
   "source": [
    "1. Необходимо исследовать данные и объединить датасеты в соответствии с задачами.\n",
    "2. Для каждого хоккеиста необходимо рассчитать число Лемтюгова. Число Лемтюгова можно определить как минимальное количество команд, через которые данный хоккеист связан с Николаем Лемтюговым.\n",
    "\n",
    "Одноклубниками считаются хоккеисты, которые были участниками одной команды в одно время (с учетом переходов игроков).\n",
    "Учитываются одноклубники по лиге КХЛ.\n",
    "\n",
    "3. Проверка гипотез\n",
    "4. Презентация результатов."
   ]
  },
  {
   "cell_type": "markdown",
   "id": "8719e0b3",
   "metadata": {
    "id": "8719e0b3"
   },
   "source": [
    "### Структура проекта"
   ]
  },
  {
   "cell_type": "markdown",
   "id": "45e8d6aa",
   "metadata": {
    "id": "45e8d6aa"
   },
   "source": [
    "1. На первом этапе проведем анализ и предобработку предоставленных данных: корректировка типов данных, проверка на дубликаты.\n",
    "2. Далее необходимо подготовить данные для дальнейшей работы - произвести необходимые манипуляции с таблицей и группировки.\n",
    "3. Анализ таблицы с данными игроков и их переходами - поиск лидера по переходам из команды в команду.\n",
    "4. Построение Sankey chart по переходам игроков.\n",
    "5. Построение Хордовой диаграммы для отображения переходов Топ-20 игроков.\n",
    "6. Поиск одноклубников по пересечению дат нахождения в командах.\n",
    "7. Расчет \"Числа Лемтюгова\".\n",
    "8. Расчет и построение графа для визуализации связей между игроками.\n",
    "9. Проверка гипотез."
   ]
  },
  {
   "cell_type": "markdown",
   "id": "XomvVb5P2FYh",
   "metadata": {
    "id": "XomvVb5P2FYh"
   },
   "source": [
    "<div class=\"alert alert-info\">\n",
    "<img src=\"http://s3.amazonaws.com/pix.iemoji.com/images/emoji/apple/ios-12/256/waving-hand.png\" align=left width=30, heigth=30>\n",
    "</div>\n",
    "<b> Комментарий ревьюера</b>\n",
    "<p>\n",
    "✅ Структура и текст, ОК!"
   ]
  },
  {
   "cell_type": "markdown",
   "id": "106efeb4",
   "metadata": {
    "id": "106efeb4"
   },
   "source": [
    "## Общая информация о данных"
   ]
  },
  {
   "cell_type": "code",
   "execution_count": null,
   "id": "119d8859",
   "metadata": {},
   "outputs": [],
   "source": [
    "!pip install scikit-image --quiet\n",
    "!pip install datashader --quiet\n",
    "!pip install holoviews==1.16 --quiet\n",
    "!pip install bokeh==3.1.1 --quiet"
   ]
  },
  {
   "cell_type": "markdown",
   "id": "b7701f97",
   "metadata": {
    "id": "b7701f97"
   },
   "source": [
    "Загрузим необходимые библиотеки:"
   ]
  },
  {
   "cell_type": "code",
   "execution_count": 3,
   "id": "444b4d65",
   "metadata": {
    "id": "444b4d65"
   },
   "outputs": [],
   "source": [
    "import pandas as pd\n",
    "from datetime import datetime, date, timedelta\n",
    "import numpy as np\n",
    "import scipy.stats as st"
   ]
  },
  {
   "cell_type": "code",
   "execution_count": null,
   "id": "6ff54a71",
   "metadata": {
    "id": "6ff54a71"
   },
   "outputs": [],
   "source": [
    "#Библиотека для работы с очередями - для прохода по графу\n",
    "from queue import Queue"
   ]
  },
  {
   "cell_type": "code",
   "execution_count": null,
   "id": "775336d5",
   "metadata": {
    "id": "775336d5"
   },
   "outputs": [],
   "source": [
    "#Для работы с графами и их визуализации\n",
    "import networkx as nx"
   ]
  },
  {
   "cell_type": "code",
   "execution_count": null,
   "id": "87de44f9",
   "metadata": {
    "id": "87de44f9"
   },
   "outputs": [],
   "source": [
    "#Основные графические библиотеки\n",
    "import matplotlib.pyplot as plt\n",
    "import seaborn as sns\n",
    "import plotly.express as px\n",
    "import plotly.graph_objects as go\n",
    "#Библиотека для парсинга json\n",
    "import json"
   ]
  },
  {
   "cell_type": "code",
   "execution_count": null,
   "id": "0730805c",
   "metadata": {
    "colab": {
     "base_uri": "https://localhost:8080/",
     "height": 596
    },
    "id": "0730805c",
    "outputId": "dca83a14-9278-45be-faa6-98e9f8aa5551"
   },
   "outputs": [],
   "source": [
    "#Библиотека визуализации bokeh и фронтенд для вывода - holoviews\n",
    "import holoviews as hv\n",
    "import bokeh\n",
    "from holoviews import opts, dim\n",
    "import holoviews.plotting.bokeh\n",
    "from bokeh.plotting import show, output_file\n",
    "hv.extension('bokeh')\n",
    "\n",
    "#request - чтобы подтягивать информацию с других сайтов - используется в функции отрисовки sankey чарта\n",
    "import requests\n",
    "\n",
    "#Для отображения прогресса - используется в функции отрисовки sankey чарта\n",
    "from tqdm import tqdm"
   ]
  },
  {
   "cell_type": "markdown",
   "id": "Wvlq0EfPsaTg",
   "metadata": {
    "id": "Wvlq0EfPsaTg"
   },
   "source": [
    "❓ **Комментарий наставника:** Сейчас код выдает ошибку, у меня вот так сработало, попробуй, может поможет:\n",
    "\n",
    "\n",
    "\n",
    "```\n",
    "!pip install scikit-image --quiet\n",
    "!pip install datashader --quiet\n",
    "!pip install holoviews==1.16 --quiet\n",
    "!pip install bokeh==3.1.1 --quiet\n",
    "```\n",
    "\n"
   ]
  },
  {
   "cell_type": "code",
   "execution_count": null,
   "id": "11db7dd7",
   "metadata": {
    "id": "11db7dd7"
   },
   "outputs": [],
   "source": [
    "# Уберем предупреждения Python:\n",
    "pd.options.mode.chained_assignment = None"
   ]
  },
  {
   "cell_type": "markdown",
   "id": "e57bed74",
   "metadata": {
    "id": "e57bed74"
   },
   "source": [
    "Прочитаем исходные данные:"
   ]
  },
  {
   "cell_type": "markdown",
   "id": "TR_NDC3G5mMP",
   "metadata": {
    "id": "TR_NDC3G5mMP"
   },
   "source": [
    "<div class=\"alert alert-info\">\n",
    "<img src=\"http://s3.amazonaws.com/pix.iemoji.com/images/emoji/apple/ios-12/256/waving-hand.png\" align=left width=30, heigth=30>\n",
    "</div>\n",
    "<p>\n",
    "<p> 🛑 Ты использовала свои файлы как исходные, приложи пожалуйста. Или сделай ссылку на открытый источник! Дальше не проверяю."
   ]
  },
  {
   "cell_type": "code",
   "execution_count": null,
   "id": "EDtdvndr3gPB",
   "metadata": {
    "colab": {
     "base_uri": "https://localhost:8080/",
     "height": 359
    },
    "id": "EDtdvndr3gPB",
    "outputId": "d0583e09-29a6-4286-a867-f1dcb609983c"
   },
   "outputs": [],
   "source": [
    "# Данные об игроках:\n",
    "players_data = pd.read_csv('https://raw.githubusercontent.com/ekaterina-zakharova/Pet-projects/main/Lemtyugov%20degrees/Row%20data/khl.csv', parse_dates=(['start_date', 'end_date']), dayfirst=True)\n",
    "players_data.head()"
   ]
  },
  {
   "cell_type": "code",
   "execution_count": null,
   "id": "260ca1e9",
   "metadata": {
    "colab": {
     "base_uri": "https://localhost:8080/",
     "height": 206
    },
    "id": "260ca1e9",
    "outputId": "719668d0-6cd7-4ae9-a140-5321be3b4ea0"
   },
   "outputs": [],
   "source": [
    "# Данные об игроках:\n",
    "players_data = pd.read_csv('https://raw.githubusercontent.com/CurasaoRG/hockey_project/main/players_data.csv', dayfirst=True)\n",
    "players_data.head()"
   ]
  },
  {
   "cell_type": "code",
   "execution_count": null,
   "id": "efd51177",
   "metadata": {
    "id": "efd51177",
    "outputId": "90923d8a-a821-4454-b820-3aba5d52c3a2"
   },
   "outputs": [],
   "source": [
    "# Общая информация о данных:\n",
    "players_data.info()"
   ]
  },
  {
   "cell_type": "code",
   "execution_count": null,
   "id": "1777c9f4",
   "metadata": {
    "id": "1777c9f4",
    "outputId": "f93a0c00-e7d9-40e3-f176-12cd366f21da"
   },
   "outputs": [],
   "source": [
    "# Персональные данные игроков:\n",
    "personal_data = pd.read_csv('https://raw.githubusercontent.com/CurasaoRG/hockey_project/main/players_personal_data.csv', parse_dates=['Date_of_Birth'])\n",
    "personal_data.head()"
   ]
  },
  {
   "cell_type": "code",
   "execution_count": null,
   "id": "6ec32f37",
   "metadata": {
    "id": "6ec32f37",
    "outputId": "5ce5124e-d9f0-47c2-e8db-84b52c88b9b6"
   },
   "outputs": [],
   "source": [
    "# Общая информация о данных:\n",
    "personal_data.info()"
   ]
  },
  {
   "cell_type": "code",
   "execution_count": null,
   "id": "8d7f1efb",
   "metadata": {
    "id": "8d7f1efb",
    "outputId": "e1e99b2d-f6ca-405b-be24-8a50cc2af25e"
   },
   "outputs": [],
   "source": [
    "# Статистика игроков:\n",
    "stat_data = pd.read_csv('https://raw.githubusercontent.com/ekaterina-zakharova/Pet-projects/main/Lemtyugov%20degrees/Row%20data/khl_stat_last.xlsx')\n",
    "stat_data.head()"
   ]
  },
  {
   "cell_type": "code",
   "execution_count": null,
   "id": "f9d06ede",
   "metadata": {
    "id": "f9d06ede",
    "outputId": "226931ca-8dc4-434f-cf95-ddf972968f49",
    "scrolled": true
   },
   "outputs": [],
   "source": [
    "# Общая информация о данных:\n",
    "stat_data.info()"
   ]
  },
  {
   "cell_type": "markdown",
   "id": "fa3a3206",
   "metadata": {
    "id": "fa3a3206"
   },
   "source": [
    "Даты были приведены к нужному типу данных при загрузке таблиц. Предварительно - обрабатывать пропуски в данных не будем, возможно, эти столбцы нам не понадобятся."
   ]
  },
  {
   "cell_type": "markdown",
   "id": "31643548",
   "metadata": {
    "id": "31643548"
   },
   "source": [
    "## Предобработка данных"
   ]
  },
  {
   "cell_type": "markdown",
   "id": "42cfdbc7",
   "metadata": {
    "id": "42cfdbc7"
   },
   "source": [
    "### Проверка данных на дубликаты"
   ]
  },
  {
   "cell_type": "markdown",
   "id": "b1b2bb7b",
   "metadata": {
    "id": "b1b2bb7b"
   },
   "source": [
    "На первом этапе приведем наименования столбцов к нижнему регистру:"
   ]
  },
  {
   "cell_type": "code",
   "execution_count": null,
   "id": "96cf2336",
   "metadata": {
    "id": "96cf2336"
   },
   "outputs": [],
   "source": [
    "personal_data.columns = map(str.lower, personal_data.columns)"
   ]
  },
  {
   "cell_type": "markdown",
   "id": "ad36ebd3",
   "metadata": {
    "id": "ad36ebd3"
   },
   "source": [
    "Проверим таблицы на дубликаты:"
   ]
  },
  {
   "cell_type": "code",
   "execution_count": null,
   "id": "e1fb3624",
   "metadata": {
    "id": "e1fb3624",
    "outputId": "7f01d884-9b1a-412d-8b5f-76ee8bd5e814"
   },
   "outputs": [],
   "source": [
    "display(f'Дубликатов в таблице \"players_data\" : {players_data.duplicated().sum()} штук')"
   ]
  },
  {
   "cell_type": "code",
   "execution_count": null,
   "id": "074397be",
   "metadata": {
    "id": "074397be",
    "outputId": "d5088453-4168-46d9-eedd-9cd0923035d8"
   },
   "outputs": [],
   "source": [
    "display(f'Дубликатов в таблице \"personal_data\" :{personal_data.duplicated().sum()} штук')"
   ]
  },
  {
   "cell_type": "code",
   "execution_count": null,
   "id": "a410319b",
   "metadata": {
    "id": "a410319b",
    "outputId": "cbbf5313-0d37-4254-f7f6-68aa67160b3b"
   },
   "outputs": [],
   "source": [
    "display(f'Дубликатов в таблице \"stat_data\" :{stat_data.duplicated().sum()} штук')"
   ]
  },
  {
   "cell_type": "markdown",
   "id": "995cf404",
   "metadata": {
    "id": "995cf404"
   },
   "source": [
    "### Обработка таблицы с данными об игроках  \"players_data\""
   ]
  },
  {
   "cell_type": "markdown",
   "id": "d797738f",
   "metadata": {
    "id": "d797738f"
   },
   "source": [
    "Посмотрим, сколько у нас уникальных игроков в датасете:"
   ]
  },
  {
   "cell_type": "code",
   "execution_count": null,
   "id": "200bfb90",
   "metadata": {
    "id": "200bfb90",
    "outputId": "ff91a202-7db7-4141-cab0-f818bb348329"
   },
   "outputs": [],
   "source": [
    "len(players_data['player_link'].unique())"
   ]
  },
  {
   "cell_type": "markdown",
   "id": "05473474",
   "metadata": {
    "id": "05473474"
   },
   "source": [
    "Согласно ТЗ таблица \"players_data\" содержит данные только об игроках КХЛ. Выделим список игроков и команд этой лиги."
   ]
  },
  {
   "cell_type": "code",
   "execution_count": null,
   "id": "4da1272b",
   "metadata": {
    "id": "4da1272b"
   },
   "outputs": [],
   "source": [
    "# Список игроков КХЛ:\n",
    "khl_players_list = list(players_data['player'].unique())"
   ]
  },
  {
   "cell_type": "code",
   "execution_count": null,
   "id": "a7910d74",
   "metadata": {
    "id": "a7910d74",
    "outputId": "3536e390-0bf0-4098-c572-0ec3adea69d0"
   },
   "outputs": [],
   "source": [
    "sorted(khl_players_list)"
   ]
  },
  {
   "cell_type": "code",
   "execution_count": null,
   "id": "d3918282",
   "metadata": {
    "id": "d3918282"
   },
   "outputs": [],
   "source": [
    "# Список команд КХЛ:\n",
    "khl_teams_list = list(players_data['team'].unique())"
   ]
  },
  {
   "cell_type": "code",
   "execution_count": null,
   "id": "ea0d32e0",
   "metadata": {
    "id": "ea0d32e0",
    "outputId": "b2a1480e-f47f-49b6-b845-451cea85a2ae",
    "scrolled": true
   },
   "outputs": [],
   "source": [
    "sorted(khl_teams_list)"
   ]
  },
  {
   "cell_type": "markdown",
   "id": "c92b1c51",
   "metadata": {
    "id": "c92b1c51"
   },
   "source": [
    "Выделим уникальные id игроков КХЛ из таблицы \"players_data\":"
   ]
  },
  {
   "cell_type": "code",
   "execution_count": null,
   "id": "972bee04",
   "metadata": {
    "id": "972bee04"
   },
   "outputs": [],
   "source": [
    "players_data['id'] = players_data.player_link.str.split('/', expand=True)[4].astype(int)"
   ]
  },
  {
   "cell_type": "markdown",
   "id": "65c9523b",
   "metadata": {
    "id": "65c9523b"
   },
   "source": [
    "Для дальнейшего удобства оставим в таблице только необходимые столбцы:"
   ]
  },
  {
   "cell_type": "code",
   "execution_count": null,
   "id": "aa0ef9c4",
   "metadata": {
    "id": "aa0ef9c4"
   },
   "outputs": [],
   "source": [
    "players = players_data.drop(['player_link'], axis=1)"
   ]
  },
  {
   "cell_type": "markdown",
   "id": "f3d35515",
   "metadata": {
    "id": "f3d35515"
   },
   "source": [
    "Для построения графиков нам нужны колонки с переходами игроков (из какой команды ушел и в какую пришел):"
   ]
  },
  {
   "cell_type": "code",
   "execution_count": null,
   "id": "449962e2",
   "metadata": {
    "id": "449962e2"
   },
   "outputs": [],
   "source": [
    "players['to_team'] = players['team']"
   ]
  },
  {
   "cell_type": "code",
   "execution_count": null,
   "id": "acb69926",
   "metadata": {
    "id": "acb69926"
   },
   "outputs": [],
   "source": [
    "players['from_team'] = players.groupby('id')['to_team'].shift(-1)"
   ]
  },
  {
   "cell_type": "code",
   "execution_count": null,
   "id": "327c65a7",
   "metadata": {
    "id": "327c65a7",
    "outputId": "5b291195-5c01-4ad6-9d88-ce05eae800df"
   },
   "outputs": [],
   "source": [
    "# Посмотрим на полученную таблицу:\n",
    "players.head(15)"
   ]
  },
  {
   "cell_type": "markdown",
   "id": "15c10960",
   "metadata": {
    "id": "15c10960"
   },
   "source": [
    "Создадим словарь с \"id\" игроков и их именами:"
   ]
  },
  {
   "cell_type": "code",
   "execution_count": null,
   "id": "f853e8a9",
   "metadata": {
    "id": "f853e8a9"
   },
   "outputs": [],
   "source": [
    "id_dic = players[['id', 'player']].to_dict('records')\n",
    "players_dict = {}\n",
    "for i in id_dic:\n",
    "    for k, v in i.items():\n",
    "        players_dict.update({i['id']: i['player']})"
   ]
  },
  {
   "cell_type": "code",
   "execution_count": null,
   "id": "1f2b3259",
   "metadata": {
    "id": "1f2b3259",
    "outputId": "b47f3f37-c299-42df-cb93-f588997d918a"
   },
   "outputs": [],
   "source": [
    "# По созданному словарю найдем Николая Лемтюгова:\n",
    "search_name = 'Nikolai Lemtyugov'\n",
    "[id for id, name in players_dict.items() if name == search_name]"
   ]
  },
  {
   "cell_type": "markdown",
   "id": "7430317a",
   "metadata": {
    "id": "7430317a"
   },
   "source": [
    "### Анализ таблицы с игроками \"players\""
   ]
  },
  {
   "cell_type": "markdown",
   "id": "079e845b",
   "metadata": {
    "id": "079e845b"
   },
   "source": [
    "Посмотрим сколько команд сменил каждый игрок:"
   ]
  },
  {
   "cell_type": "code",
   "execution_count": null,
   "id": "c89cf94a",
   "metadata": {
    "id": "c89cf94a",
    "outputId": "b29a6bb2-de22-41f3-e751-56b61afe1d9f"
   },
   "outputs": [],
   "source": [
    "# Группируем по \"id\" и \"player\", смотрим количество уникальных команд у каждого игрока:\n",
    "teams_number = players.groupby(['id', 'player'], as_index=False).agg(num_teams=('team','nunique'))\\\n",
    "       .sort_values(by='num_teams', ascending=False).reset_index(drop = True)\n",
    "teams_number.head()"
   ]
  },
  {
   "cell_type": "markdown",
   "id": "d4973b9a",
   "metadata": {
    "id": "d4973b9a"
   },
   "source": [
    "Лидируют по количеству команд - Геннадий Столяров, Александр Рязанцев и Денис Казионов. Николай Лемтюгов по этому показателю - на 4 месте."
   ]
  },
  {
   "cell_type": "markdown",
   "id": "bbf40e69",
   "metadata": {
    "id": "bbf40e69"
   },
   "source": [
    "Посмотрим у каких игроков было максимальное число переходов:"
   ]
  },
  {
   "cell_type": "code",
   "execution_count": null,
   "id": "3a9a4b8e",
   "metadata": {
    "id": "3a9a4b8e",
    "outputId": "4bf02496-b813-4bfa-c708-c54c5d1aace5"
   },
   "outputs": [],
   "source": [
    "# Группируем по \"id\" и \"player\", смотрим количество команд у каждого игрока:\n",
    "switch_number = players.groupby(['id', 'player'], as_index=False).agg(num_teams=('team','count'))\\\n",
    "       .sort_values(by='num_teams', ascending=False).reset_index(drop = True)\n",
    "switch_number.head()"
   ]
  },
  {
   "cell_type": "markdown",
   "id": "f501ec07",
   "metadata": {
    "id": "f501ec07"
   },
   "source": [
    "По количеству переходов лидируют Михаил Жуков и Евгений Лапенков. Николай Лемтюгов с 11ю переходами на 4 месте."
   ]
  },
  {
   "cell_type": "markdown",
   "id": "1df093fc",
   "metadata": {
    "id": "1df093fc"
   },
   "source": [
    "Посмотрим на самые популярные команды по количеству переходов:"
   ]
  },
  {
   "cell_type": "code",
   "execution_count": null,
   "id": "a4e22e3a",
   "metadata": {
    "id": "a4e22e3a",
    "outputId": "dd958e76-3563-4364-85f3-b6319547988f"
   },
   "outputs": [],
   "source": [
    "# Группируем по \"from_team\" и \"to_team\", смотрим количество игроков у каждой команды:\n",
    "players.groupby(['from_team', 'to_team'], as_index=False).agg(num_players=('id','count'))\\\n",
    "       .sort_values(by='num_players', ascending=False).reset_index(drop = True).head(10)"
   ]
  },
  {
   "cell_type": "markdown",
   "id": "ddabb13a",
   "metadata": {
    "id": "ddabb13a"
   },
   "source": [
    "Больше всего переходов между ЦСК и ХК Сочи."
   ]
  },
  {
   "cell_type": "markdown",
   "id": "233fdbd1",
   "metadata": {
    "id": "233fdbd1"
   },
   "source": [
    "Посмотрим в каких командах играли больше всего игроков:"
   ]
  },
  {
   "cell_type": "code",
   "execution_count": null,
   "id": "5516f06f",
   "metadata": {
    "id": "5516f06f",
    "outputId": "013e6217-d77c-4c4a-d63e-f242e0934267"
   },
   "outputs": [],
   "source": [
    "# Группируем по \"team\", смотрим количество игроков у каждой команды:\n",
    "players.groupby(['team'], as_index=False).agg(num_players=('id','count'))\\\n",
    "       .sort_values(by='num_players', ascending=False).reset_index(drop = True).head(10)"
   ]
  },
  {
   "cell_type": "markdown",
   "id": "853aff55",
   "metadata": {
    "id": "853aff55"
   },
   "source": [
    "В тройке лидеров команд по количеству игравших в них хоккеистов: Спартак, Нефтехимик и Амур."
   ]
  },
  {
   "cell_type": "markdown",
   "id": "55ed7302",
   "metadata": {
    "id": "55ed7302"
   },
   "source": [
    "## Визуализация переходов между командами - Sankey Chart:"
   ]
  },
  {
   "cell_type": "code",
   "execution_count": null,
   "id": "d18b5746",
   "metadata": {
    "id": "d18b5746"
   },
   "outputs": [],
   "source": [
    "def get_source_index(df, source='from_team'):\n",
    "\n",
    "    \"\"\"Функция генерации индексов source\n",
    "\n",
    "    Args:\n",
    "        df (pd.DataFrame): исходная таблица с признаками step, source, target.\n",
    "    Returns:\n",
    "        dict: словарь с индексами, именами и соответсвиями индексов именам source.\n",
    "    \"\"\"\n",
    "\n",
    "    res_dict = {}\n",
    "\n",
    "    count = 0\n",
    "    # получаем индексы источников\n",
    "    for no, step in enumerate(df['step'].unique().tolist()):\n",
    "        # получаем уникальные наименования для шага\n",
    "        res_dict[no+1] = {}\n",
    "        res_dict[no+1]['sources'] = df[df['step'] == step][source].unique().tolist()\n",
    "        res_dict[no+1]['players'] = df[df['step'] == step]['player'].unique().tolist()\n",
    "        res_dict[no+1]['sources_index'] = []\n",
    "        for i in range(len(res_dict[no+1]['sources'])):\n",
    "            res_dict[no+1]['sources_index'].append(count)\n",
    "            count += 1\n",
    "\n",
    "    # соединим списки\n",
    "    for key in res_dict:\n",
    "        res_dict[key]['sources_dict'] = {}\n",
    "        for name, no in zip(res_dict[key]['sources'], res_dict[key]['sources_index']):\n",
    "            res_dict[key]['sources_dict'][name] = no\n",
    "    return res_dict"
   ]
  },
  {
   "cell_type": "code",
   "execution_count": null,
   "id": "4198d5ed",
   "metadata": {
    "id": "4198d5ed"
   },
   "outputs": [],
   "source": [
    "def generate_random_color():\n",
    "\n",
    "    \"\"\"Случайная генерация цветов rgba\n",
    "\n",
    "    Args:\n",
    "\n",
    "    Returns:\n",
    "        str: Строка со сгенерированными параметрами цвета\n",
    "    \"\"\"\n",
    "\n",
    "    # генериируем значение для каждого канала:\n",
    "    r, g, b = np.random.randint(255, size=3)\n",
    "    return f'rgba({r}, {g}, {b}, 1)'"
   ]
  },
  {
   "cell_type": "code",
   "execution_count": null,
   "id": "199837b6",
   "metadata": {
    "id": "199837b6"
   },
   "outputs": [],
   "source": [
    "def colors_for_sources(mode, df, source='from_team'):\n",
    "\n",
    "    \"\"\"Генерация цветов rgba\n",
    "\n",
    "    Args:\n",
    "        mode (str): сгенерировать случайные цвета, если 'random', а если 'custom' -\n",
    "                    использовать заранее подготовленные\n",
    "    Returns:\n",
    "        dict: словарь с цветами, соответствующими каждому индексу\n",
    "    \"\"\"\n",
    "    # словарь, в который сложим цвета в соответствии с индексом\n",
    "    colors_dict = {}\n",
    "\n",
    "    if mode == 'random':\n",
    "        # генерим случайные цвета\n",
    "        for label in df[source].unique():\n",
    "            r, g, b = np.random.randint(255, size=3)\n",
    "            colors_dict[label] = f'rgba({r}, {g}, {b}, 1)'\n",
    "\n",
    "    elif mode == 'custom':\n",
    "        # присваиваем ранее подготовленные цвета\n",
    "        colors = requests.get('https://raw.githubusercontent.com/rusantsovsv/senkey_tutorial/main/json/colors_senkey.json').json()\n",
    "        for no, label in enumerate(df[source].unique()):\n",
    "            colors_dict[label] = colors['custom_colors'][no]\n",
    "\n",
    "    return colors_dict"
   ]
  },
  {
   "cell_type": "code",
   "execution_count": null,
   "id": "f870bfe5",
   "metadata": {
    "id": "f870bfe5"
   },
   "outputs": [],
   "source": [
    "def percent_users(sources, targets, values):\n",
    "\n",
    "    \"\"\"\n",
    "    Расчет уникальных id в процентах (для вывода в hover text каждого узла)\n",
    "\n",
    "    Args:\n",
    "        sources (list): список с индексами source.\n",
    "        targets (list): список с индексами target.\n",
    "        values (list): список с \"объемами\" потоков.\n",
    "\n",
    "    Returns:\n",
    "        list: список с \"объемами\" потоков в процентах\n",
    "    \"\"\"\n",
    "\n",
    "    # объединим источники и метки и найдем пары\n",
    "    zip_lists = list(zip(sources, targets, values))\n",
    "\n",
    "    new_list = []\n",
    "\n",
    "    # подготовим список словарь с общим объемом трафика в узлах\n",
    "    unique_dict = {}\n",
    "\n",
    "    # проходим по каждому узлу\n",
    "    for source, target, value in zip_lists:\n",
    "        if source not in unique_dict:\n",
    "            # находим все источники и считаем общий трафик\n",
    "            unique_dict[source] = 0\n",
    "            for sr, tg, vl in zip_lists:\n",
    "                if sr == source:\n",
    "                    unique_dict[source] += vl\n",
    "\n",
    "    # считаем проценты\n",
    "    for source, target, value in zip_lists:\n",
    "        new_list.append(round(100 * value / unique_dict[source], 1))\n",
    "\n",
    "    return new_list"
   ]
  },
  {
   "cell_type": "code",
   "execution_count": null,
   "id": "369281c5",
   "metadata": {
    "id": "369281c5"
   },
   "outputs": [],
   "source": [
    "def lists_for_plot(df, source_indexes, colors, st='step', source='from_team', target='to_team', frac=0):\n",
    "\n",
    "    \"\"\"\n",
    "    Создаем необходимые для отрисовки диаграммы переменные списков и возвращаем\n",
    "    их в виде словаря\n",
    "\n",
    "    Args:\n",
    "        source_indexes (dict): словарь с именами и индексами source.\n",
    "        colors (dict): словарь с цветами source.\n",
    "        frac (int): ограничение на минимальный \"объем\" между узлами.\n",
    "\n",
    "    Returns:\n",
    "        dict: словарь со списками, необходимыми для диаграммы.\n",
    "    \"\"\"\n",
    "\n",
    "    sources = []\n",
    "    targets = []\n",
    "    values = []\n",
    "    labels = []\n",
    "    link_color = []\n",
    "    link_text = []\n",
    "\n",
    "    # проходим по каждому шагу\n",
    "    for step in tqdm(sorted(df['step'].unique()), desc='Шаг'):\n",
    "        if step + 1 not in source_indexes:\n",
    "            continue\n",
    "\n",
    "        # получаем индекс источника\n",
    "        temp_dict_source = source_indexes[step]['sources_dict']\n",
    "\n",
    "        # получаем индексы цели\n",
    "        temp_dict_target = source_indexes[step+1]['sources_dict']\n",
    "\n",
    "        # проходим по каждой возможной паре, считаем количество таких пар\n",
    "        for s, index_source in tqdm(temp_dict_source.items()):\n",
    "            for t, index_target in temp_dict_target.items():\n",
    "                # делаем срез данных и считаем количество id\n",
    "                temp_df = df[(df[st] == step)&(df[source] == s)&(df[target] == t)]\n",
    "                value = len(temp_df)\n",
    "                # проверяем минимальный объем потока и добавляем нужные данные\n",
    "                if value > frac:\n",
    "                    sources.append(index_source)\n",
    "                    targets.append(index_target)\n",
    "                    values.append(value)\n",
    "                    # делаем поток прозрачным для лучшего отображения\n",
    "                    link_color.append(colors[s].replace(', 1)', ', 0.2)'))\n",
    "\n",
    "    labels = []\n",
    "    colors_labels = []\n",
    "    for key in source_indexes:\n",
    "        for name in source_indexes[key]['sources']:\n",
    "            labels.append(name)\n",
    "            colors_labels.append(colors[name])\n",
    "\n",
    "    # посчитаем проценты всех потоков\n",
    "    perc_values = percent_users(sources, targets, values)\n",
    "\n",
    "    # добавим значения процентов для howertext\n",
    "    link_text = []\n",
    "    for perc in perc_values:\n",
    "        link_text.append(f\"{perc}%\")\n",
    "\n",
    "    # возвратим словарь с вложенными списками\n",
    "    return {'sources': sources,\n",
    "            'targets': targets,\n",
    "            'values': values,\n",
    "            'labels': labels,\n",
    "            'colors_labels': colors_labels,\n",
    "            'link_color': link_color,\n",
    "            'link_text': link_text}"
   ]
  },
  {
   "cell_type": "code",
   "execution_count": null,
   "id": "aabecf3b",
   "metadata": {
    "id": "aabecf3b"
   },
   "outputs": [],
   "source": [
    "def plot_senkey_diagram(title, data_dict, width=2000, height=1000):\n",
    "\n",
    "    \"\"\"\n",
    "    Функция для генерации объекта диаграммы Сенкей\n",
    "\n",
    "    Args:\n",
    "        data_dict (dict): словарь со списками данных для построения.\n",
    "\n",
    "    Returns:\n",
    "        plotly.graph_objs._figure.Figure: объект изображения.\n",
    "    \"\"\"\n",
    "\n",
    "    fig = go.Figure(data=[go.Sankey(\n",
    "        domain = dict(\n",
    "          x = [0,1],\n",
    "          y = [0,1]\n",
    "        ),\n",
    "        orientation = \"h\",\n",
    "        valueformat = \".0f\",\n",
    "        node = dict(\n",
    "          pad=50,\n",
    "          thickness=15,\n",
    "          line=dict(color = \"black\", width = 0.1),\n",
    "          label=data_dict['labels'],\n",
    "          color=data_dict['colors_labels'],\n",
    "          #customdata=data_dict['players'],\n",
    "          hovertemplate='Всего переходов у команды %{label}: %{value}<extra></extra>'\n",
    "        ),\n",
    "        link = dict(\n",
    "          #arrowlen=15,\n",
    "          source=data_dict['sources'],\n",
    "          target=data_dict['targets'],\n",
    "          value=data_dict['values'],\n",
    "          label=data_dict['link_text'],\n",
    "          color=data_dict['link_color'],\n",
    "          customdata=data_dict['link_text'],\n",
    "          hovertemplate='Из команды %{source.label}<br />'+\n",
    "        'в команду %{target.label}<br /> перешло игроков: %{value}'+\n",
    "        ', что составляет %{customdata}<br />',\n",
    "      ))])\n",
    "    fig.update_layout(title_text=title, font_size=10, width=width, height=height)\n",
    "\n",
    "\n",
    "\n",
    "    # возвращаем объект диаграммы\n",
    "    return fig"
   ]
  },
  {
   "cell_type": "markdown",
   "id": "5b15bd21",
   "metadata": {
    "id": "5b15bd21"
   },
   "source": [
    "Выберем нужные столбцы из таблицы с трансферами игроков и пронумеруем переходы каждого игрока."
   ]
  },
  {
   "cell_type": "code",
   "execution_count": null,
   "id": "4a9eb098",
   "metadata": {
    "id": "4a9eb098"
   },
   "outputs": [],
   "source": [
    "# выберем топ игроков по переходам\n",
    "top_switchers = players.groupby('id').agg(\n",
    "    num_teams=('team', 'count')).sort_values(by='num_teams', ascending=False)[:20].index"
   ]
  },
  {
   "cell_type": "markdown",
   "id": "73d31c6e",
   "metadata": {
    "id": "73d31c6e"
   },
   "source": [
    "Пропуски вызывают ошибку при работе функции, поэтому выбираем только строки, где переходы не пустые from_team == from_team:"
   ]
  },
  {
   "cell_type": "code",
   "execution_count": null,
   "id": "7024e9fc",
   "metadata": {
    "id": "7024e9fc",
    "outputId": "d7b89b8d-e605-4cf5-feda-c3bdb63b9587"
   },
   "outputs": [],
   "source": [
    "top_transfers = players[['id', 'player', 'start_date', 'from_team', 'to_team']].query('id in @top_switchers and from_team == from_team').sort_values(by=['player','start_date'])\n",
    "top_transfers"
   ]
  },
  {
   "cell_type": "markdown",
   "id": "26376f26",
   "metadata": {
    "id": "26376f26"
   },
   "source": [
    "Пронумеруем переходы:"
   ]
  },
  {
   "cell_type": "code",
   "execution_count": null,
   "id": "6c72ee65",
   "metadata": {
    "id": "6c72ee65",
    "outputId": "91b78814-3fb7-4b0e-c180-1fd97fe56e04"
   },
   "outputs": [],
   "source": [
    "top_transfers['step'] = top_transfers.groupby('id').cumcount() + 1\n",
    "top_transfers"
   ]
  },
  {
   "cell_type": "code",
   "execution_count": null,
   "id": "3e57dc21",
   "metadata": {
    "id": "3e57dc21"
   },
   "outputs": [],
   "source": [
    "# создаем словарь\n",
    "source_indexes = get_source_index(top_transfers)\n",
    "#source_indexes"
   ]
  },
  {
   "cell_type": "code",
   "execution_count": null,
   "id": "0d04e7a6",
   "metadata": {
    "id": "0d04e7a6"
   },
   "outputs": [],
   "source": [
    "# генерим цвета из списка\n",
    "colors_dict = colors_for_sources(mode='random', df=top_transfers)"
   ]
  },
  {
   "cell_type": "code",
   "execution_count": null,
   "id": "8f872f8c",
   "metadata": {
    "id": "8f872f8c",
    "outputId": "f6e74e01-e863-4a3c-c417-f07215c34576"
   },
   "outputs": [],
   "source": [
    "# создаем нужные данные для построения диаграммы\n",
    "data_for_plot = lists_for_plot(top_transfers, source_indexes, colors_dict)"
   ]
  },
  {
   "cell_type": "code",
   "execution_count": null,
   "id": "e05d32f2",
   "metadata": {
    "id": "e05d32f2",
    "outputId": "fe870531-19ee-4b50-9abe-4759505dd6c3"
   },
   "outputs": [],
   "source": [
    "# сохраняем диаграмму в переменную и выводим ее\n",
    "senkey_diagram = plot_senkey_diagram('Переходы топ-20 игроков между командами КХЛ', data_for_plot)\n",
    "senkey_diagram.show()"
   ]
  },
  {
   "cell_type": "markdown",
   "id": "3e886c6b",
   "metadata": {
    "id": "3e886c6b"
   },
   "source": [
    "Построим диаграмму по переходам игроков между топ-5 команд:"
   ]
  },
  {
   "cell_type": "code",
   "execution_count": null,
   "id": "095058a6",
   "metadata": {
    "id": "095058a6"
   },
   "outputs": [],
   "source": [
    "top_teams = players.groupby('team').agg(\n",
    "    num_players=('id', 'count')).sort_values(by='num_players', ascending=False)[:5].index"
   ]
  },
  {
   "cell_type": "code",
   "execution_count": null,
   "id": "089c7818",
   "metadata": {
    "id": "089c7818",
    "outputId": "90a4c628-01d8-4bde-eb56-ccac188353fd"
   },
   "outputs": [],
   "source": [
    "top_team_transfers = players[['id', 'player', 'start_date', 'team', 'from_team', 'to_team']].query('from_team in @top_teams or to_team in @top_teams').sort_values(by=['player','start_date'])\n",
    "top_team_transfers"
   ]
  },
  {
   "cell_type": "code",
   "execution_count": null,
   "id": "1c8f5981",
   "metadata": {
    "id": "1c8f5981",
    "outputId": "cb057139-75d6-4013-bb6d-c9c455b0c2a3"
   },
   "outputs": [],
   "source": [
    "# Нумеруем переходы:\n",
    "top_team_transfers['step'] = top_team_transfers.groupby(['id']).cumcount() + 1\n",
    "top_team_transfers.sort_values(by='step', ascending=False)"
   ]
  },
  {
   "cell_type": "code",
   "execution_count": null,
   "id": "56ec857e",
   "metadata": {
    "id": "56ec857e",
    "outputId": "8b7862e4-183e-437a-ffa1-7aa075732d49"
   },
   "outputs": [],
   "source": [
    "source_indexes = get_source_index(top_team_transfers)\n",
    "colors_dict = colors_for_sources(mode='random', df=top_team_transfers)\n",
    "data_for_plot = lists_for_plot(top_team_transfers, source_indexes, colors_dict)"
   ]
  },
  {
   "cell_type": "code",
   "execution_count": null,
   "id": "cb71b4f9",
   "metadata": {
    "id": "cb71b4f9",
    "outputId": "708f1d5d-82b7-46d8-e309-25cedc10e5b5"
   },
   "outputs": [],
   "source": [
    "senkey_diagram = plot_senkey_diagram('Переходы игроков между топ-5 команд КХЛ', data_for_plot, 2000, 4000)\n",
    "senkey_diagram.show()"
   ]
  },
  {
   "cell_type": "markdown",
   "id": "c2c3ea39",
   "metadata": {
    "id": "c2c3ea39"
   },
   "source": [
    "##  Chord диаграмма для отображения переходов игроков"
   ]
  },
  {
   "cell_type": "code",
   "execution_count": null,
   "id": "54642c01",
   "metadata": {
    "id": "54642c01",
    "outputId": "c7e65e0b-60cf-4882-e760-d0b2f2746ba6"
   },
   "outputs": [],
   "source": [
    "top_transfers['id'] = top_transfers['id'].astype(int)\n",
    "\n",
    "# Для построения диаграммы нужны id команд, создадим их - выделим команды, пронумеруем их и добавим к датафрейму\n",
    "tr_list = top_transfers['from_team'].unique().tolist() + top_transfers['to_team'].unique().tolist()\n",
    "tr_list_1 = np.arange(0, len(set(tr_list))).tolist()\n",
    "\n",
    "set(tr_list)\n",
    "\n",
    "keys = list(set(tr_list))\n",
    "dic = {k: v for k, v in zip(keys, tr_list_1)}\n",
    "\n",
    "#Добавляем к датафрейму\n",
    "top_transfers['id_from'] = top_transfers.from_team.map(dic)\n",
    "top_transfers['id_to'] = top_transfers.to_team.map(dic)\n",
    "\n",
    "#Считаем количество переходов\n",
    "transfers_count = top_transfers.groupby(['id_from', 'id_to']).start_date.count().reset_index()\n",
    "\n",
    "#Добавляем названия узлов\n",
    "tms = pd.DataFrame.from_dict(dic, 'index').reset_index().rename(columns={'index': 'name', 0:'index'})\n",
    "nodes = hv.Dataset(tms, 'index', 'name')\n",
    "\n",
    "\n",
    "chord = hv.Chord((transfers_count, nodes), ['id_from', 'id_to'], ['start_date'])\n",
    "\n",
    "chord.opts(\n",
    "    opts.Chord(title='Переходы топ-20 игроков между командами', cmap='Category20', edge_cmap='Category20', edge_color=dim('id_from').str(),\n",
    "               labels='name', node_color=dim('index').str()))\n",
    "\n",
    "\n",
    "hv.output(size=300)\n",
    "output_file('test.html')\n",
    "show(hv.render(chord))"
   ]
  },
  {
   "cell_type": "markdown",
   "id": "3b9e6a5c",
   "metadata": {
    "id": "3b9e6a5c"
   },
   "source": [
    "## Поиск одноклубников"
   ]
  },
  {
   "cell_type": "markdown",
   "id": "74e669db",
   "metadata": {
    "id": "74e669db"
   },
   "source": [
    "Для дальнейшей работы и построения графов необходимо объединить таблицу с игроками саму с собой, но сперва посмотрим, как дела у \"звезды\" нашего проекта - Николая Лемтюгова:"
   ]
  },
  {
   "cell_type": "code",
   "execution_count": null,
   "id": "4940870c",
   "metadata": {
    "id": "4940870c",
    "outputId": "4143c507-9df3-4908-8c37-2ec04cc17c95"
   },
   "outputs": [],
   "source": [
    "players[players['player']=='Nikolai Lemtyugov']"
   ]
  },
  {
   "cell_type": "markdown",
   "id": "6b70d921",
   "metadata": {
    "id": "6b70d921"
   },
   "source": [
    "Объединим таблицы:"
   ]
  },
  {
   "cell_type": "code",
   "execution_count": null,
   "id": "6c8c05f2",
   "metadata": {
    "id": "6c8c05f2"
   },
   "outputs": [],
   "source": [
    "peers = players[['id', 'team', 'player', 'start_date', 'end_date']]\\\n",
    "       .merge(players[['id', 'team', 'player', 'start_date', 'end_date']], on=['team'])"
   ]
  },
  {
   "cell_type": "code",
   "execution_count": null,
   "id": "f6933dd7",
   "metadata": {
    "id": "f6933dd7"
   },
   "outputs": [],
   "source": [
    "# Удалим строки, где игроки объединились с собой:\n",
    "peers = peers.query('id_x != id_y')"
   ]
  },
  {
   "cell_type": "code",
   "execution_count": null,
   "id": "a3f98f5c",
   "metadata": {
    "id": "a3f98f5c",
    "outputId": "61f7e219-9d9d-4a28-c89f-dcddaeefce55"
   },
   "outputs": [],
   "source": [
    "# Посмотрим таблицу:\n",
    "peers.head()"
   ]
  },
  {
   "cell_type": "code",
   "execution_count": null,
   "id": "a5441a36",
   "metadata": {
    "id": "a5441a36",
    "outputId": "73cb6f77-0b2c-409b-d991-3d2c046fe568"
   },
   "outputs": [],
   "source": [
    "peers.info()"
   ]
  },
  {
   "cell_type": "code",
   "execution_count": null,
   "id": "8dbf7578",
   "metadata": {
    "id": "8dbf7578",
    "outputId": "8a1ba822-cb36-4a7e-b578-61505acd8583"
   },
   "outputs": [],
   "source": [
    "display(f'Полученная таблица содержит {peers.shape[0]} строк ')"
   ]
  },
  {
   "cell_type": "markdown",
   "id": "13a93aaf",
   "metadata": {
    "id": "13a93aaf"
   },
   "source": [
    "Теперь найдем пересечения игроков в командах - когда они играли в одно время в одной команде:"
   ]
  },
  {
   "cell_type": "code",
   "execution_count": null,
   "id": "4172327d",
   "metadata": {
    "id": "4172327d"
   },
   "outputs": [],
   "source": [
    "# Пересекаем игроков по датам переходов:\n",
    "#peers['overlap'] = ''\n",
    "peers['overlap'] = peers.apply(lambda x: pd.Interval(x['start_date_x'], x['end_date_x'], closed='both').overlaps(pd.Interval(x['start_date_y'], x['end_date_y'], closed='both')), True)"
   ]
  },
  {
   "cell_type": "code",
   "execution_count": null,
   "id": "77b22dec",
   "metadata": {
    "id": "77b22dec",
    "outputId": "e5644672-45a0-4e55-d51e-65b91eea3c7c"
   },
   "outputs": [],
   "source": [
    "# У одноклубников в колонке \"overlap\" будет 'True':\n",
    "peers.head()"
   ]
  },
  {
   "cell_type": "markdown",
   "id": "4f13dc5f",
   "metadata": {
    "id": "4f13dc5f"
   },
   "source": [
    "Посмотрим, у какого хоккеиста было больше всего одноклубников:"
   ]
  },
  {
   "cell_type": "code",
   "execution_count": null,
   "id": "08d150f5",
   "metadata": {
    "id": "08d150f5",
    "outputId": "f05fbc4e-bd55-4688-fd5d-3045b0f7d94d"
   },
   "outputs": [],
   "source": [
    "peers[peers['overlap']==True].groupby(['id_x', 'player_x'])['id_y'].nunique().sort_values(ascending=False)[:10]"
   ]
  },
  {
   "cell_type": "code",
   "execution_count": null,
   "id": "df9bff72",
   "metadata": {
    "id": "df9bff72",
    "outputId": "9f56097c-d428-47d1-f0c5-fa33a4d2829c"
   },
   "outputs": [],
   "source": [
    "# Сколько одноклубников у Николая Лемтюгова:\n",
    "peers.query('overlap == True and player_x==\"Nikolai Lemtyugov\"').groupby(['id_x', 'player_x'])['id_y'].nunique().sort_values(ascending=False)[:10]"
   ]
  },
  {
   "cell_type": "markdown",
   "id": "e090c74c",
   "metadata": {
    "id": "e090c74c"
   },
   "source": [
    "Абсолютным лидером по числу одноклубников является Евгений Лапенков с 475 одноклубниками, у Николая Лемтюгова - 357 одноклубников."
   ]
  },
  {
   "cell_type": "markdown",
   "id": "efa46ace",
   "metadata": {
    "id": "efa46ace"
   },
   "source": [
    "## Расчет числа Лемтюгова"
   ]
  },
  {
   "cell_type": "markdown",
   "id": "b8376ce6",
   "metadata": {
    "id": "b8376ce6"
   },
   "source": [
    "Создадим отдельный датафрейм с одноклубниками:"
   ]
  },
  {
   "cell_type": "code",
   "execution_count": null,
   "id": "b74e39c2",
   "metadata": {
    "id": "b74e39c2",
    "outputId": "ffe640b2-494d-407a-9abe-b6f7841e6434"
   },
   "outputs": [],
   "source": [
    "teammates = peers[peers['overlap']==True].copy()\n",
    "teammates = teammates[['id_x', 'id_y']]\n",
    "teammates.head()"
   ]
  },
  {
   "cell_type": "markdown",
   "id": "147e80b7",
   "metadata": {
    "id": "147e80b7"
   },
   "source": [
    "Для построения графов создадим словарь, где ключом будет игрок а значениями - его одноклубники:"
   ]
  },
  {
   "cell_type": "code",
   "execution_count": null,
   "id": "8e4089e5",
   "metadata": {
    "id": "8e4089e5"
   },
   "outputs": [],
   "source": [
    "dicto = teammates.groupby('id_x').agg({'id_y': 'unique'}).to_dict()"
   ]
  },
  {
   "cell_type": "code",
   "execution_count": null,
   "id": "0c828ec3",
   "metadata": {
    "id": "0c828ec3",
    "outputId": "80db36a6-ca43-4edf-d340-d2cb0257e8be"
   },
   "outputs": [],
   "source": [
    "dicto"
   ]
  },
  {
   "cell_type": "code",
   "execution_count": null,
   "id": "ee0554a5",
   "metadata": {
    "id": "ee0554a5"
   },
   "outputs": [],
   "source": [
    "#Убираем индекс - перекладываем значения в новый словарь\n",
    "newd = {}\n",
    "for k, v in dicto.items():\n",
    "    newd.update(v)"
   ]
  },
  {
   "cell_type": "code",
   "execution_count": null,
   "id": "d301c7dc",
   "metadata": {
    "id": "d301c7dc",
    "outputId": "24086c84-6c33-484b-80f9-308ebc93b640"
   },
   "outputs": [],
   "source": [
    "newd"
   ]
  },
  {
   "cell_type": "code",
   "execution_count": null,
   "id": "08e891ea",
   "metadata": {
    "id": "08e891ea"
   },
   "outputs": [],
   "source": [
    "#Конвертируем значения из массива в список\n",
    "for k, v in newd.items():\n",
    "    newd[k] = v.tolist()"
   ]
  },
  {
   "cell_type": "markdown",
   "id": "288e7509",
   "metadata": {
    "id": "288e7509"
   },
   "source": [
    "Напишем функцию для обхода графа и поиска кратчайшего пути между его вершинами.\n",
    "\n",
    "Будем использовать тип данных - очередь, и сохранять результаты обхода в словарь."
   ]
  },
  {
   "cell_type": "code",
   "execution_count": null,
   "id": "5969caad",
   "metadata": {
    "id": "5969caad"
   },
   "outputs": [],
   "source": [
    "# Функция для обхода графа:\n",
    "def calculate_distance(input_graph, source):\n",
    "    Q = Queue()\n",
    "    distance_dict = {k: 999999999 for k in input_graph.keys()}\n",
    "    visited_vertices = list()\n",
    "    Q.put(source)\n",
    "    visited_vertices.append(source)\n",
    "    while not Q.empty():\n",
    "        vertex = Q.get()\n",
    "        if vertex == source:\n",
    "            distance_dict[vertex] = 0\n",
    "        for u in input_graph[vertex]:\n",
    "            if u not in visited_vertices:\n",
    "                # update the distance\n",
    "                if distance_dict[u] > distance_dict[vertex] + 1:\n",
    "                    distance_dict[u] = distance_dict[vertex] + 1\n",
    "                Q.put(u)\n",
    "                visited_vertices.append(u)\n",
    "    return distance_dict"
   ]
  },
  {
   "cell_type": "code",
   "execution_count": null,
   "id": "9c3d5209",
   "metadata": {
    "id": "9c3d5209"
   },
   "outputs": [],
   "source": [
    "#Рассчитываем число Лемтюгова - чем число больше, тем дальше игроки друг от друга, если число равно 999999999, то игроки не связаны\n",
    "distances = calculate_distance(newd, 13705)"
   ]
  },
  {
   "cell_type": "code",
   "execution_count": null,
   "id": "01bec425",
   "metadata": {
    "id": "01bec425"
   },
   "outputs": [],
   "source": [
    "# Преобразуем словарь в датафрейм\n",
    "lemtyugov_number = pd.DataFrame.from_dict(distances, orient='index').reset_index().rename(columns={'index': 'id', 0: 'number'})"
   ]
  },
  {
   "cell_type": "code",
   "execution_count": null,
   "id": "48e7534c",
   "metadata": {
    "id": "48e7534c"
   },
   "outputs": [],
   "source": [
    "# Добавляем имя игрока из словаря с id игроков\n",
    "lemtyugov_number['player'] = lemtyugov_number['id'].map(players_dict)"
   ]
  },
  {
   "cell_type": "code",
   "execution_count": null,
   "id": "7dab19ca",
   "metadata": {
    "id": "7dab19ca",
    "outputId": "00255cde-a413-4392-e55f-456be655dc78"
   },
   "outputs": [],
   "source": [
    "#Меняем порядок столбцов и сортируем по числу Лемтюгова в порядке убывания:\n",
    "lemtyugov_number = lemtyugov_number[['id', 'player', 'number']]\n",
    "lemtyugov_number.sort_values(by='number', ascending=False)"
   ]
  },
  {
   "cell_type": "markdown",
   "id": "ff0e79a0",
   "metadata": {
    "id": "ff0e79a0"
   },
   "source": [
    "Видим, что расчет произведен правильно, число Лемтюгова для самого Лемтюгова = 0, максимальное число Лемтюгова = 3, это означает, что в нашем датасете хоккеисты находятся от Лемтюгова на максимальном расстоянии в 3 \"рукопожатия\"."
   ]
  },
  {
   "cell_type": "code",
   "execution_count": null,
   "id": "3f283e90",
   "metadata": {
    "id": "3f283e90",
    "outputId": "93c0c223-389e-49a3-f1c0-c814827df89b"
   },
   "outputs": [],
   "source": [
    "# Посмотрим статистику по числу Лемтюгова:\n",
    "lemtyugov_number['number'].agg(['mean', 'median'])"
   ]
  },
  {
   "cell_type": "markdown",
   "id": "eef7a43f",
   "metadata": {
    "id": "eef7a43f"
   },
   "source": [
    "В среднем число Лемтюгова составляет 1,92. Медиана по числу Лемтюгова  - 2."
   ]
  },
  {
   "cell_type": "markdown",
   "id": "5f2bfeb1",
   "metadata": {
    "id": "5f2bfeb1"
   },
   "source": [
    "Посмотрим, какая разница в числе Люмтюгова у игроков, которые играли всего в одной команде:"
   ]
  },
  {
   "cell_type": "code",
   "execution_count": null,
   "id": "7766bf3d",
   "metadata": {
    "id": "7766bf3d",
    "outputId": "0c946644-a13b-4da9-8acc-981095c88ddc"
   },
   "outputs": [],
   "source": [
    "search_name = 'Ruslan Abdrakhmanov'\n",
    "[id for id, name in players_dict.items() if name == search_name]"
   ]
  },
  {
   "cell_type": "code",
   "execution_count": null,
   "id": "3c24a47c",
   "metadata": {
    "id": "3c24a47c",
    "outputId": "89a47467-fd8e-453d-e7a4-d53b68fc03bb"
   },
   "outputs": [],
   "source": [
    "#Расчет числа для Руслана Абдрахманова:\n",
    "distances = calculate_distance(newd, 13041)\n",
    "abdrakhmanov_number = pd.DataFrame.from_dict(distances, orient='index').reset_index().rename(columns={'index': 'id', 0: 'number'})\n",
    "abdrakhmanov_number['player'] = abdrakhmanov_number['id'].map(players_dict)\n",
    "abdrakhmanov_number = abdrakhmanov_number[['id', 'player', 'number']]\n",
    "abdrakhmanov_number.sort_values(by='number', ascending=False)"
   ]
  },
  {
   "cell_type": "code",
   "execution_count": null,
   "id": "423f62a2",
   "metadata": {
    "id": "423f62a2",
    "outputId": "e0d9b5b4-ea4b-4069-986d-35d8e6b55d3a"
   },
   "outputs": [],
   "source": [
    "# Посмотрим статистику по числу Лемтюгова:\n",
    "abdrakhmanov_number['number'].agg(['mean', 'median'])"
   ]
  },
  {
   "cell_type": "markdown",
   "id": "502fe886",
   "metadata": {
    "id": "502fe886"
   },
   "source": [
    "Руслан Абдрахманов находится в среднем на бОльшем расстоянии от всех - в среднем 2,6 \"рукопожатий\" , медиана = 3 \"рукопожатия\"."
   ]
  },
  {
   "cell_type": "markdown",
   "id": "e28724fc",
   "metadata": {
    "id": "e28724fc"
   },
   "source": [
    "## Визуализация графа связей между игроками"
   ]
  },
  {
   "cell_type": "code",
   "execution_count": null,
   "id": "2f77dc9e",
   "metadata": {
    "id": "2f77dc9e",
    "outputId": "eb5f03b5-9e22-4373-df21-9637c95234da"
   },
   "outputs": [],
   "source": [
    "teammates.groupby('id_x').agg({'id_y': 'unique'})"
   ]
  },
  {
   "cell_type": "markdown",
   "id": "9bee4359",
   "metadata": {
    "id": "9bee4359"
   },
   "source": [
    "Для удобства восприятия добавим в таблицу имена игроков:"
   ]
  },
  {
   "cell_type": "code",
   "execution_count": null,
   "id": "8965012e",
   "metadata": {
    "id": "8965012e",
    "outputId": "bb25818b-59b0-4b0b-8a1d-790871814ea7"
   },
   "outputs": [],
   "source": [
    "teammates_names = pd.DataFrame()\n",
    "teammates_names['id_x'] = teammates['id_x']\n",
    "teammates_names['player_x'] = teammates['id_x'].map(players_dict)\n",
    "teammates_names['id_y'] = teammates['id_y']\n",
    "teammates_names['player_y'] = teammates['id_y'].map(players_dict)\n",
    "teammates_names"
   ]
  },
  {
   "cell_type": "code",
   "execution_count": null,
   "id": "9b415183",
   "metadata": {
    "id": "9b415183"
   },
   "outputs": [],
   "source": [
    "# Найдем топ-50 игроков, у которых больше всего связей:\n",
    "top_id = peers[peers['overlap']==True].groupby(['id_x'])['id_y'].nunique().sort_values(ascending=False)[:50].index.to_list()\n",
    "top_ids = teammates_names.query('id_x in @top_id')"
   ]
  },
  {
   "cell_type": "code",
   "execution_count": null,
   "id": "2866783e",
   "metadata": {
    "id": "2866783e"
   },
   "outputs": [],
   "source": [
    "#Создаем лист для изменения расчета расстояний между элементами - он нам понадобится, если захотим применить метод расчета расстояний shell_layout\n",
    "rp = top_ids.groupby('player_x').agg({'player_y': 'unique'})['player_y'].to_dict()\n",
    "for k, v in rp.items():\n",
    "    rp[k] = v.tolist()\n",
    "\n",
    "lst = []\n",
    "for i, v in zip(top_id, rp.values()):\n",
    "    lst.append([i])\n",
    "    lst.append(v)"
   ]
  },
  {
   "cell_type": "code",
   "execution_count": null,
   "id": "824908fa",
   "metadata": {
    "id": "824908fa"
   },
   "outputs": [],
   "source": [
    "#Создаем граф из таблицы pandas. В библиотеке Networks будем использовать метод from_pandas_edgelist:\n",
    "G = nx.from_pandas_edgelist(top_ids, 'player_x', 'player_y')\n",
    "\n",
    "#G = nx.from_pandas_edgelist(teammates_names, 'player_x', 'player_y', create_using=nx.MultiGraph())\n",
    "\n",
    "#Можем изменить внешний вид визуализации, если поменяем способ расчета расстояний\n",
    "pos = nx.spring_layout(G)\n",
    "#pos = nx.layout.shell_layout(G, lst)"
   ]
  },
  {
   "cell_type": "code",
   "execution_count": null,
   "id": "f0416cd9",
   "metadata": {
    "id": "f0416cd9"
   },
   "outputs": [],
   "source": [
    "#Добавляем атрибут с информацией по расположению узлов (можно задать через set_attribute)\n",
    "for node in G.nodes:\n",
    "    G.nodes[node]['pos'] = list(pos[node])"
   ]
  },
  {
   "cell_type": "code",
   "execution_count": null,
   "id": "d1772656",
   "metadata": {
    "id": "d1772656",
    "outputId": "4711a3df-a18d-495f-dafd-7c7e6471c1ba"
   },
   "outputs": [],
   "source": [
    "# Первые 5 узлов (nodes) в нашем графе имеют вид:\n",
    "list(G.nodes(data=True))[0:5]"
   ]
  },
  {
   "cell_type": "code",
   "execution_count": null,
   "id": "a6bcde1b",
   "metadata": {
    "id": "a6bcde1b",
    "outputId": "8ce88732-8764-4efe-fce2-faa8ef9bbab6"
   },
   "outputs": [],
   "source": [
    "# Первые 5 ребер в нашем графе имеют вид:\n",
    "list(G.edges(data=True))[0:5]"
   ]
  },
  {
   "cell_type": "markdown",
   "id": "0c9ed021",
   "metadata": {
    "id": "0c9ed021"
   },
   "source": [
    "Визуализировать граф будем с помощью библиотеки Plotly:"
   ]
  },
  {
   "cell_type": "code",
   "execution_count": null,
   "id": "606e4d9b",
   "metadata": {
    "id": "606e4d9b"
   },
   "outputs": [],
   "source": [
    "edge_x = []\n",
    "edge_y = []\n",
    "for edge in G.edges():\n",
    "    x0, y0 = G.nodes[edge[0]]['pos']\n",
    "    x1, y1 = G.nodes[edge[1]]['pos']\n",
    "    edge_x.append(x0)\n",
    "    edge_x.append(x1)\n",
    "    edge_x.append(None)\n",
    "    edge_y.append(y0)\n",
    "    edge_y.append(y1)\n",
    "    edge_y.append(None)\n",
    "\n",
    "edge_trace = go.Scatter(\n",
    "    x=edge_x, y=edge_y,\n",
    "    line=dict(width=0.5, color='#888'),\n",
    "    hoverinfo='none',\n",
    "    mode='lines')\n",
    "\n",
    "node_x = []\n",
    "node_y = []\n",
    "for node in G.nodes():\n",
    "    x, y = G.nodes[node]['pos']\n",
    "    node_x.append(x)\n",
    "    node_y.append(y)\n",
    "\n",
    "node_trace = go.Scatter(\n",
    "    x=node_x, y=node_y,\n",
    "    mode='markers',\n",
    "    hoverinfo='text',\n",
    "    marker=dict(\n",
    "        showscale=True,\n",
    "        # colorscale options\n",
    "        #'Greys' | 'YlGnBu' | 'Greens' | 'YlOrRd' | 'Bluered' | 'RdBu' |\n",
    "        #'Reds' | 'Blues' | 'Picnic' | 'Rainbow' | 'Portland' | 'Jet' |\n",
    "        #'Hot' | 'Blackbody' | 'Earth' | 'Electric' | 'Viridis' |\n",
    "        colorscale='Hot',\n",
    "        reversescale=True,\n",
    "        color=[],\n",
    "        size=10,\n",
    "        colorbar=dict(\n",
    "            thickness=15,\n",
    "            title='Node Connections',\n",
    "            xanchor='left',\n",
    "            titleside='right'\n",
    "        ),\n",
    "        line_width=2))"
   ]
  },
  {
   "cell_type": "code",
   "execution_count": null,
   "id": "251923bb",
   "metadata": {
    "id": "251923bb"
   },
   "outputs": [],
   "source": [
    "node_adjacencies = []\n",
    "node_text = []\n",
    "for node, adjacencies in enumerate(G.adjacency()):\n",
    "    node_adjacencies.append(len(adjacencies[1]))\n",
    "    node_text.append('player: '+str(adjacencies[0])+ ' ' + '# of connections: '+str(len(adjacencies[1])))\n",
    "\n",
    "node_trace.marker.color = node_adjacencies\n",
    "node_trace.text = node_text"
   ]
  },
  {
   "cell_type": "code",
   "execution_count": null,
   "id": "ccb94ff2",
   "metadata": {
    "id": "ccb94ff2",
    "outputId": "d3410215-c61e-4dc8-9087-3d31f8b9a34c"
   },
   "outputs": [],
   "source": [
    "fig = go.Figure(data=[edge_trace, node_trace],\n",
    "             layout=go.Layout(width=1200, height=1200,\n",
    "                title='Граф топ-50 игроков и их связей',\n",
    "                titlefont_size=16,\n",
    "                showlegend=False,\n",
    "                hovermode='closest',\n",
    "                margin=dict(b=20,l=5,r=5,t=40),\n",
    "                annotations=[ dict(\n",
    "                    text=\"\",\n",
    "                    showarrow=False,\n",
    "                    xref=\"paper\", yref=\"paper\",\n",
    "                    x=0.005, y=-0.002 ) ],\n",
    "                xaxis=dict(showgrid=False, zeroline=False, showticklabels=False),\n",
    "                yaxis=dict(showgrid=False, zeroline=False, showticklabels=False))\n",
    "                )\n",
    "fig.show()"
   ]
  },
  {
   "cell_type": "markdown",
   "id": "57e0998b",
   "metadata": {
    "id": "57e0998b"
   },
   "source": [
    "Визуализация графов с помощью Holoview:"
   ]
  },
  {
   "cell_type": "code",
   "execution_count": null,
   "id": "95e099b7",
   "metadata": {
    "id": "95e099b7",
    "outputId": "d4efa936-ad15-45b2-febe-9c6d1b6e60d2"
   },
   "outputs": [],
   "source": [
    "kwargs = dict(width=800, height=800, xaxis=None, yaxis=None)\n",
    "opts.defaults(opts.Nodes(**kwargs), opts.Graph(**kwargs))\n",
    "\n",
    "colors = ['#000000']+hv.Cycle('Category20').values\n",
    "\n",
    "graph = hv.Graph.from_networkx(G, pos)\n",
    "\n",
    "graph.opts(cmap=colors, node_size=5, edge_line_width=1,\n",
    "              node_line_color='gray')\n",
    "\n",
    "hv.extension('bokeh')\n",
    "hv.output(size=100)\n",
    "output_file('test.html')\n",
    "show(hv.render(graph))"
   ]
  },
  {
   "cell_type": "code",
   "execution_count": null,
   "id": "1257eaa7",
   "metadata": {
    "id": "1257eaa7"
   },
   "outputs": [],
   "source": [
    "!pip install scikit-image --quiet\n",
    "!pip install datashader --quiet\n",
    "from holoviews.operation.datashader import datashade, bundle_graph"
   ]
  },
  {
   "cell_type": "code",
   "execution_count": null,
   "id": "b5eef1af",
   "metadata": {
    "id": "b5eef1af",
    "outputId": "09d5a322-cacd-4f8f-ed43-81154a6fe409",
    "scrolled": true
   },
   "outputs": [],
   "source": [
    "bundled = bundle_graph(graph)\n",
    "\n",
    "hv.extension('bokeh')\n",
    "hv.output(size=100)\n",
    "output_file('test.html')\n",
    "show(hv.render(bundled))"
   ]
  },
  {
   "cell_type": "markdown",
   "id": "40d9ba3b",
   "metadata": {
    "id": "40d9ba3b"
   },
   "source": [
    "## Проверка гипотез"
   ]
  },
  {
   "cell_type": "markdown",
   "id": "d96b3820",
   "metadata": {
    "id": "d96b3820"
   },
   "source": [
    "По условию Технического задания нам необходимо проверить ряд статистических гипотез.\n",
    "\n",
    "Например была гипотеза о том, что Лемтюгов – самый популярный хоккеист в лиге, то есть обладающий самым большим количеством одноклубников. Данную гипотезу мы опровергли в п.7 и выяснили, что абсолютным лидером по числу одноклубников является Евгений Лапенков. Николай Лемтюгов не входит в Топ-50 игроков с самым большим числом одноклубников."
   ]
  },
  {
   "cell_type": "markdown",
   "id": "c7d71fca",
   "metadata": {
    "id": "c7d71fca"
   },
   "source": [
    "Также была гипотеза о том, что есть игроки для которых число Лемтюгова отсутствует, данная гипотеза также была опровергнута в п.8. У всех игроков есть связи."
   ]
  },
  {
   "cell_type": "markdown",
   "id": "fb02c8a0",
   "metadata": {
    "id": "fb02c8a0"
   },
   "source": [
    "Для проверки гипотез снова ознакомимся с датасетом со статистикой игроков:"
   ]
  },
  {
   "cell_type": "code",
   "execution_count": null,
   "id": "3f73c153",
   "metadata": {
    "id": "3f73c153",
    "outputId": "251ad343-2b72-4865-dde8-7d5b4057de73"
   },
   "outputs": [],
   "source": [
    "stat_data.head()"
   ]
  },
  {
   "cell_type": "code",
   "execution_count": null,
   "id": "446cf88d",
   "metadata": {
    "id": "446cf88d"
   },
   "outputs": [],
   "source": [
    "# Переведем даты рождения игроков в формат даты:\n",
    "stat_data['born'] = stat_data['born'].str.replace('янв.', '01', regex=True)\n",
    "stat_data['born'] = stat_data['born'].str.replace('февр.', '02', regex=True)\n",
    "stat_data['born'] = stat_data['born'].str.replace('мар.', '03', regex=True)\n",
    "stat_data['born'] = stat_data['born'].str.replace('апр.', '04', regex=True)\n",
    "stat_data['born'] = stat_data['born'].str.replace('мая', '05', regex=True)\n",
    "stat_data['born'] = stat_data['born'].str.replace('июн.', '06', regex=True)\n",
    "stat_data['born'] = stat_data['born'].str.replace('июл.', '07', regex=True)\n",
    "stat_data['born'] = stat_data['born'].str.replace('авг.', '08', regex=True)\n",
    "stat_data['born'] = stat_data['born'].str.replace('сент.', '09', regex=True)\n",
    "stat_data['born'] = stat_data['born'].str.replace('окт.', '10', regex=True)\n",
    "stat_data['born'] = stat_data['born'].str.replace('нояб.', '11', regex=True)\n",
    "stat_data['born'] = stat_data['born'].str.replace('дек.', '12', regex=True)\n",
    "stat_data['born'] = pd.to_datetime(stat_data['born'], format='%d-%m-%y')"
   ]
  },
  {
   "cell_type": "code",
   "execution_count": null,
   "id": "26157958",
   "metadata": {
    "id": "26157958"
   },
   "outputs": [],
   "source": [
    "# Выделим id игроков из ссылки на персональную страницу игрока:\n",
    "stat_data['id'] = stat_data.player_link.str.split('/', expand=True)[4].astype(int)"
   ]
  },
  {
   "cell_type": "code",
   "execution_count": null,
   "id": "ad8dbe36",
   "metadata": {
    "id": "ad8dbe36"
   },
   "outputs": [],
   "source": [
    "# Уберем ненужный столбец:\n",
    "stat_data = stat_data.drop(['player_link'], axis=1)"
   ]
  },
  {
   "cell_type": "code",
   "execution_count": null,
   "id": "0a04fc41",
   "metadata": {
    "id": "0a04fc41"
   },
   "outputs": [],
   "source": [
    "# Выведем все столбцы на всю ширину таблицы:\n",
    "pd.set_option('display.max_columns', None)"
   ]
  },
  {
   "cell_type": "code",
   "execution_count": null,
   "id": "801852cf",
   "metadata": {
    "id": "801852cf",
    "outputId": "3775392f-486d-4b48-ccea-fc4b2e903094"
   },
   "outputs": [],
   "source": [
    "stat_data.head()"
   ]
  },
  {
   "cell_type": "markdown",
   "id": "1b5a30fc",
   "metadata": {
    "id": "1b5a30fc"
   },
   "source": [
    "### Проверка гипотезы о влиянии роста и веса хокеистов на их \"успешность\""
   ]
  },
  {
   "cell_type": "markdown",
   "id": "fb011007",
   "metadata": {
    "id": "fb011007"
   },
   "source": [
    "Критерием успешности будем считать количество переходов между командами, полагая, что успешного хоккеиста будут чаще приглашать в другие команды."
   ]
  },
  {
   "cell_type": "code",
   "execution_count": null,
   "id": "cb762681",
   "metadata": {
    "id": "cb762681"
   },
   "outputs": [],
   "source": [
    "#Объединим таблицы с данными о количестве смененных команд для каждого игрока и статистикой:\n",
    "weight_hight_stat = switch_number[['id', 'player', 'num_teams']]\\\n",
    "       .merge(stat_data[['id', 'player', 'hight', 'weight']], on=['id','player'])"
   ]
  },
  {
   "cell_type": "code",
   "execution_count": null,
   "id": "971a88a1",
   "metadata": {
    "id": "971a88a1",
    "outputId": "13f89597-1559-428d-82b9-385659040f42"
   },
   "outputs": [],
   "source": [
    "weight_hight_stat.head()"
   ]
  },
  {
   "cell_type": "markdown",
   "id": "4134df68",
   "metadata": {
    "id": "4134df68"
   },
   "source": [
    "Расчитаем медианы для роста и веса игроков:"
   ]
  },
  {
   "cell_type": "code",
   "execution_count": null,
   "id": "08c54954",
   "metadata": {
    "id": "08c54954"
   },
   "outputs": [],
   "source": [
    "weight_median = weight_hight_stat['weight'].median()"
   ]
  },
  {
   "cell_type": "code",
   "execution_count": null,
   "id": "44812271",
   "metadata": {
    "id": "44812271"
   },
   "outputs": [],
   "source": [
    "hight_median = weight_hight_stat['hight'].median()"
   ]
  },
  {
   "cell_type": "code",
   "execution_count": null,
   "id": "e4152859",
   "metadata": {
    "id": "e4152859",
    "outputId": "8bb753ca-214a-4fdc-828a-d502c2fde480"
   },
   "outputs": [],
   "source": [
    "display(f\"Медианный вес игроков составляет :{weight_hight_stat['weight'].median()} кг\")"
   ]
  },
  {
   "cell_type": "code",
   "execution_count": null,
   "id": "9fa84673",
   "metadata": {
    "id": "9fa84673",
    "outputId": "8e490af2-4181-464e-bfa3-a6bcdf0e26eb"
   },
   "outputs": [],
   "source": [
    "display(f\"Медианный рост игроков составляет :{weight_hight_stat['hight'].median()} см\")"
   ]
  },
  {
   "cell_type": "markdown",
   "id": "c493049b",
   "metadata": {
    "id": "c493049b"
   },
   "source": [
    "Построим график плотности вероятносетей для игроков с весом и ростом менее и более медианного:"
   ]
  },
  {
   "cell_type": "code",
   "execution_count": null,
   "id": "adab48fb",
   "metadata": {
    "id": "adab48fb",
    "outputId": "0c0da1e5-11cd-448e-ff6f-e91ec45a0303"
   },
   "outputs": [],
   "source": [
    "# Взаимосвязь с весом игроков:\n",
    "sns.kdeplot(weight_hight_stat.loc[(weight_hight_stat['weight'] <= weight_hight_stat['weight'].median()),'num_teams'], color = 'r', fill = True)\n",
    "sns.kdeplot(weight_hight_stat.loc[(weight_hight_stat['weight'] > weight_hight_stat['weight'].median()),'num_teams'], color = 'b', fill = True)\n",
    "\n",
    "plt.title ('Взаимосвязь веса игроков и количества переходов в команды')\n",
    "plt.legend(labels=['Вес более медианного', 'Вес менее медианного'])\n",
    "plt.xlabel ('Количество переходов')\n",
    "plt.ylabel ('Плотность распределения вероятности')"
   ]
  },
  {
   "cell_type": "markdown",
   "id": "cd799e04",
   "metadata": {
    "id": "cd799e04"
   },
   "source": [
    "График демонстрирует отсутствие разницы в среднем двух выборок для разных весов и количества переходов игроков."
   ]
  },
  {
   "cell_type": "markdown",
   "id": "46556487",
   "metadata": {
    "id": "46556487"
   },
   "source": [
    "Построим такойже график с учетом роста игроков:"
   ]
  },
  {
   "cell_type": "code",
   "execution_count": null,
   "id": "985cf1b7",
   "metadata": {
    "id": "985cf1b7",
    "outputId": "67908065-8f78-4b80-cf8f-03a44f9c6683"
   },
   "outputs": [],
   "source": [
    "# Взаимосвязь с ростов игроков:\n",
    "sns.kdeplot(weight_hight_stat.loc[(weight_hight_stat['hight'] <= weight_hight_stat['hight'].median()),'num_teams'], color = 'r', fill = True)\n",
    "sns.kdeplot(weight_hight_stat.loc[(weight_hight_stat['hight'] > weight_hight_stat['hight'].median()),'num_teams'], color = 'b', fill = True)\n",
    "\n",
    "plt.title ('Взаимосвязь роста игроков и количества переходов в команды')\n",
    "plt.legend(labels=['Рост более медианного', 'Рост менее медианного'])\n",
    "plt.xlabel ('Количество переходов')\n",
    "plt.ylabel ('Плотность распределения вероятности')"
   ]
  },
  {
   "cell_type": "markdown",
   "id": "ff0b0d1c",
   "metadata": {
    "id": "ff0b0d1c"
   },
   "source": [
    "График также демонстрирует отсутствие разницы в среднем двух выборок для разного роста и количества переходов игроков."
   ]
  },
  {
   "cell_type": "markdown",
   "id": "d99d0d43",
   "metadata": {
    "id": "d99d0d43"
   },
   "source": [
    "Проверим гипотезы о взаимосвязях роста и веса и их \"успешности\" статистически:"
   ]
  },
  {
   "cell_type": "markdown",
   "id": "53bc0f2a",
   "metadata": {
    "id": "53bc0f2a"
   },
   "source": [
    "Выдвинем гипотезы:\n",
    "\n",
    "Н0 Нулевая гипотеза состоит в том, что: \"Отсутствуют различия в успешности для игроков с весом более медианного и менее медианного\".\n",
    "\n",
    "Н1 Альтернативная гипотеза : \"Различия в успешности игроков в зависимости от веса существуют\"."
   ]
  },
  {
   "cell_type": "code",
   "execution_count": null,
   "id": "0f3f6239",
   "metadata": {
    "id": "0f3f6239"
   },
   "outputs": [],
   "source": [
    "low_median_weight = weight_hight_stat.query('weight <= @weight_median')"
   ]
  },
  {
   "cell_type": "code",
   "execution_count": null,
   "id": "bea14987",
   "metadata": {
    "id": "bea14987"
   },
   "outputs": [],
   "source": [
    "high_median_weight = weight_hight_stat.query('weight > @weight_median')"
   ]
  },
  {
   "cell_type": "markdown",
   "id": "8e422639",
   "metadata": {
    "id": "8e422639"
   },
   "source": [
    "Для выбора статистического критерия необходимо проанализировать характеристики выборок: нам необходимо сравнить средние двух зависимых выборок с колличественными переменными. Средние этих выборок имеют нормальное распределение."
   ]
  },
  {
   "cell_type": "markdown",
   "id": "b3185739",
   "metadata": {
    "id": "b3185739"
   },
   "source": [
    "оспользуемся специальным метод для проверки гипотезы о равенстве среднего двух генеральных совокупностей по взятым из них выборкам: scipy.stats.ttest_ind (array1, array2, equal_var). Велиичну p-value  установим на значении 0,05. Значение equal_var=False, так как дисперсии выборок не равны."
   ]
  },
  {
   "cell_type": "code",
   "execution_count": null,
   "id": "f9d16ff1",
   "metadata": {
    "id": "f9d16ff1"
   },
   "outputs": [],
   "source": [
    "array_1 = low_median_weight['num_teams']"
   ]
  },
  {
   "cell_type": "code",
   "execution_count": null,
   "id": "f24655e0",
   "metadata": {
    "id": "f24655e0"
   },
   "outputs": [],
   "source": [
    "array_2 = high_median_weight['num_teams']"
   ]
  },
  {
   "cell_type": "code",
   "execution_count": null,
   "id": "685b4048",
   "metadata": {
    "id": "685b4048",
    "outputId": "270d0817-7d19-4125-d024-449ba14fc629"
   },
   "outputs": [],
   "source": [
    "alpha=0.05\n",
    "\n",
    "results = st.ttest_ind(array_1, array_2, equal_var=False)\n",
    "\n",
    "# вывод значения p-value на экран\n",
    "\n",
    "display ('Значение p-value:', results.pvalue)\n",
    "\n",
    "# условный оператор с выводом строки с ответом\n",
    "if results.pvalue < alpha:\n",
    "    display(\"Отвергаем нулевую гипотезу\")\n",
    "else:\n",
    "    display(\"Не получилось отвергнуть нулевую гипотезу\")"
   ]
  },
  {
   "cell_type": "markdown",
   "id": "e84726ae",
   "metadata": {
    "id": "e84726ae"
   },
   "source": [
    "Тест показал, что вес игрока влияет на количество переходов! Инсайт - однозначно!"
   ]
  },
  {
   "cell_type": "markdown",
   "id": "7886c5c6",
   "metadata": {
    "id": "7886c5c6"
   },
   "source": [
    "Посмотрим, как обстоит с ростом:\n",
    "    \n",
    "Н0 Нулевая гипотеза состоит в том, что: \"Отсутствуют различия в успешности для игроков с ростом более медианного и менее медианного\".\n",
    "\n",
    "Н1 Альтернативная гипотеза : \"Различия в успешности игроков в зависимости от роста существуют\".    "
   ]
  },
  {
   "cell_type": "code",
   "execution_count": null,
   "id": "0a06a53c",
   "metadata": {
    "id": "0a06a53c"
   },
   "outputs": [],
   "source": [
    "low_median_hight = weight_hight_stat.query('hight <= @hight_median')"
   ]
  },
  {
   "cell_type": "code",
   "execution_count": null,
   "id": "d9dc0735",
   "metadata": {
    "id": "d9dc0735"
   },
   "outputs": [],
   "source": [
    "high_median_hight = weight_hight_stat.query('hight > @hight_median')"
   ]
  },
  {
   "cell_type": "code",
   "execution_count": null,
   "id": "c6f7e242",
   "metadata": {
    "id": "c6f7e242"
   },
   "outputs": [],
   "source": [
    "array_1 = low_median_hight['num_teams']\n",
    "array_2 = high_median_hight['num_teams']"
   ]
  },
  {
   "cell_type": "code",
   "execution_count": null,
   "id": "a330248b",
   "metadata": {
    "id": "a330248b",
    "outputId": "bbec8615-17c9-4ff8-96e8-d8174e362ceb"
   },
   "outputs": [],
   "source": [
    "alpha=0.05\n",
    "\n",
    "results = st.ttest_ind(array_1, array_2, equal_var=False)\n",
    "\n",
    "# вывод значения p-value на экран\n",
    "\n",
    "display ('Значение p-value:', results.pvalue)\n",
    "\n",
    "# условный оператор с выводом строки с ответом\n",
    "if results.pvalue < alpha:\n",
    "    display(\"Отвергаем нулевую гипотезу\")\n",
    "else:\n",
    "    display(\"Не получилось отвергнуть нулевую гипотезу\")"
   ]
  },
  {
   "cell_type": "markdown",
   "id": "ec051197",
   "metadata": {
    "id": "ec051197"
   },
   "source": [
    "А вот рост - не влияет на количество переходов!"
   ]
  },
  {
   "cell_type": "markdown",
   "id": "6f6899b5",
   "metadata": {
    "id": "6f6899b5"
   },
   "source": [
    "### Проверка гипотезы о влиянии месяца рождения хокеистов на их \"успешность\""
   ]
  },
  {
   "cell_type": "markdown",
   "id": "220cf659",
   "metadata": {
    "id": "220cf659"
   },
   "source": [
    "Разделим игроков по амплуа:для вратарей очень важна метрика по отраженным броскам (сейвам), мы будем рассматривать метрику - процент отраженных бросков %Sv.\n",
    "\n",
    "Для нападающих - будем рассматривать метрику очков (PTS), она включает активность в нападении и результативность передач.\n",
    "\n",
    "Для защитников будем рассматривать метрику +/-. Это уникальный хоккейный показатель, который показывает полезность игрока. Считается он очень просто – берется количество голов, забитых его командой, когда хоккеист был на льду, и от него отнимается количество пропущенных шайб, опять же, когда он был на площадке."
   ]
  },
  {
   "cell_type": "markdown",
   "id": "e710781c",
   "metadata": {
    "id": "e710781c"
   },
   "source": [
    "Выдвинем гипотезы:\n",
    "    \n",
    "Н0 Нулевая гипотеза состоит в том, что: \"Отсутствуют различия в успешности для игроков, рожденных с января по март включительно\".\n",
    "\n",
    "Н1 Альтернативная гипотеза : \"Различия в успешности игроков в зависимости от месяца рождения есть\".     "
   ]
  },
  {
   "cell_type": "code",
   "execution_count": null,
   "id": "038da107",
   "metadata": {
    "id": "038da107"
   },
   "outputs": [],
   "source": [
    "# Создадим вспомогательный столбец, подсвечивающий, что месяц рожения хоккеиста с января по март:\n",
    "stat_data['flag']= 0\n",
    "stat_data.loc[stat_data['born'].dt.month== 1, 'flag']= 1\n",
    "stat_data.loc[stat_data['born'].dt.month== 2, 'flag']= 1\n",
    "stat_data.loc[stat_data['born'].dt.month== 3, 'flag']= 1"
   ]
  },
  {
   "cell_type": "markdown",
   "id": "398f0b31",
   "metadata": {
    "id": "398f0b31"
   },
   "source": [
    "Разделим хоккеистов по амплуа:"
   ]
  },
  {
   "cell_type": "code",
   "execution_count": null,
   "id": "fcd94ce9",
   "metadata": {
    "id": "fcd94ce9"
   },
   "outputs": [],
   "source": [
    "stat_forwards = stat_data[stat_data['position']=='forward']"
   ]
  },
  {
   "cell_type": "code",
   "execution_count": null,
   "id": "af09f1f8",
   "metadata": {
    "id": "af09f1f8"
   },
   "outputs": [],
   "source": [
    "stat_defense = stat_data[stat_data['position']=='defense']"
   ]
  },
  {
   "cell_type": "code",
   "execution_count": null,
   "id": "82619f17",
   "metadata": {
    "id": "82619f17"
   },
   "outputs": [],
   "source": [
    "stat_goaltender = stat_data[stat_data['position']=='goaltender']"
   ]
  },
  {
   "cell_type": "markdown",
   "id": "b57838b0",
   "metadata": {
    "id": "b57838b0"
   },
   "source": [
    "#### Проверка гипотезы для вратарей"
   ]
  },
  {
   "cell_type": "code",
   "execution_count": null,
   "id": "57a8a4b4",
   "metadata": {
    "id": "57a8a4b4",
    "outputId": "ef2f2bd0-6e0b-4064-e9ce-6d2b8969c538"
   },
   "outputs": [],
   "source": [
    "# # Посмотрим на интересующий нас столбец с метрикой отраженных шайб:\n",
    "stat_goaltender['%Sv']"
   ]
  },
  {
   "cell_type": "code",
   "execution_count": null,
   "id": "197987ec",
   "metadata": {
    "id": "197987ec",
    "outputId": "b343151f-c2d3-4e34-bfb6-d1dc7fd2e6ef"
   },
   "outputs": [],
   "source": [
    "# Посмотрим на его тип данных:\n",
    "stat_goaltender['%Sv'].info()"
   ]
  },
  {
   "cell_type": "code",
   "execution_count": null,
   "id": "e58f0150",
   "metadata": {
    "id": "e58f0150"
   },
   "outputs": [],
   "source": [
    "# Необходимо откорректировать столбец и заменить символы:\n",
    "stat_goaltender['%Sv'] = stat_goaltender['%Sv'].str.replace('-', '0', regex=True)\n",
    "stat_goaltender['%Sv'] = stat_goaltender['%Sv'].str.replace(',', '.', regex=True)"
   ]
  },
  {
   "cell_type": "code",
   "execution_count": null,
   "id": "e1464a97",
   "metadata": {
    "id": "e1464a97"
   },
   "outputs": [],
   "source": [
    "# Откорректируем тип данных этого столбца на \"float\":\n",
    "stat_goaltender['%Sv'] = stat_goaltender['%Sv'].astype(str).astype(float)"
   ]
  },
  {
   "cell_type": "code",
   "execution_count": null,
   "id": "27b9bf2f",
   "metadata": {
    "id": "27b9bf2f"
   },
   "outputs": [],
   "source": [
    "goaltender_jan_march = stat_goaltender.query('flag==1')"
   ]
  },
  {
   "cell_type": "code",
   "execution_count": null,
   "id": "2ed0c141",
   "metadata": {
    "id": "2ed0c141"
   },
   "outputs": [],
   "source": [
    "goaltender_other = stat_goaltender.query('flag==0')"
   ]
  },
  {
   "cell_type": "code",
   "execution_count": null,
   "id": "fa3d2d3a",
   "metadata": {
    "id": "fa3d2d3a"
   },
   "outputs": [],
   "source": [
    "array_3 = goaltender_jan_march['%Sv']\n",
    "array_4 = goaltender_other['%Sv']"
   ]
  },
  {
   "cell_type": "code",
   "execution_count": null,
   "id": "13e4b1f0",
   "metadata": {
    "id": "13e4b1f0",
    "outputId": "76dd379e-dd35-47fc-9b31-8ca64d0bd3f8"
   },
   "outputs": [],
   "source": [
    "alpha=0.05\n",
    "\n",
    "results = st.ttest_ind(array_3, array_4, equal_var=False)\n",
    "\n",
    "# вывод значения p-value на экран\n",
    "\n",
    "display ('Значение p-value:', results.pvalue)\n",
    "\n",
    "# условный оператор с выводом строки с ответом\n",
    "if results.pvalue < alpha:\n",
    "    display(\"Отвергаем нулевую гипотезу\")\n",
    "else:\n",
    "    display(\"Не получилось отвергнуть нулевую гипотезу\")"
   ]
  },
  {
   "cell_type": "markdown",
   "id": "fb2220c6",
   "metadata": {
    "id": "fb2220c6"
   },
   "source": [
    "Инсайт! На успешность вратарей влияет месяц рождения!"
   ]
  },
  {
   "cell_type": "markdown",
   "id": "bc1c9386",
   "metadata": {
    "id": "bc1c9386"
   },
   "source": [
    "#### Проверка гипотезы для нападающих"
   ]
  },
  {
   "cell_type": "code",
   "execution_count": null,
   "id": "8fb54c13",
   "metadata": {
    "id": "8fb54c13"
   },
   "outputs": [],
   "source": [
    "stat_forwards_jan_march =  stat_forwards.query('flag==1')"
   ]
  },
  {
   "cell_type": "code",
   "execution_count": null,
   "id": "64decfaa",
   "metadata": {
    "id": "64decfaa"
   },
   "outputs": [],
   "source": [
    "stat_forwards_other =  stat_forwards.query('flag==0')"
   ]
  },
  {
   "cell_type": "code",
   "execution_count": null,
   "id": "477aa7bb",
   "metadata": {
    "id": "477aa7bb"
   },
   "outputs": [],
   "source": [
    "array_5 = stat_forwards_jan_march['PTS']\n",
    "array_6 = stat_forwards_other['PTS']"
   ]
  },
  {
   "cell_type": "code",
   "execution_count": null,
   "id": "861f0961",
   "metadata": {
    "id": "861f0961",
    "outputId": "1e266a86-136a-4e19-d4f2-e72411fb2a10"
   },
   "outputs": [],
   "source": [
    "alpha=0.05\n",
    "\n",
    "results = st.ttest_ind(array_5, array_6, equal_var=False)\n",
    "\n",
    "# вывод значения p-value на экран\n",
    "\n",
    "display ('Значение p-value:', results.pvalue)\n",
    "\n",
    "# условный оператор с выводом строки с ответом\n",
    "if results.pvalue < alpha:\n",
    "    display(\"Отвергаем нулевую гипотезу\")\n",
    "else:\n",
    "    display(\"Не получилось отвергнуть нулевую гипотезу\")"
   ]
  },
  {
   "cell_type": "markdown",
   "id": "4d33f328",
   "metadata": {
    "id": "4d33f328"
   },
   "source": [
    "Тест показал, что статистически значимой разницы в успешности нападающих, рожденных с января по март, по отношению к другим хоккеистам нет."
   ]
  },
  {
   "cell_type": "markdown",
   "id": "23198eb1",
   "metadata": {
    "id": "23198eb1"
   },
   "source": [
    "#### Проверка гипотезы для защитников"
   ]
  },
  {
   "cell_type": "code",
   "execution_count": null,
   "id": "e20cdd6b",
   "metadata": {
    "id": "e20cdd6b"
   },
   "outputs": [],
   "source": [
    "stat_defense_jan_march = stat_defense.query('flag==1')"
   ]
  },
  {
   "cell_type": "code",
   "execution_count": null,
   "id": "1818b93b",
   "metadata": {
    "id": "1818b93b"
   },
   "outputs": [],
   "source": [
    "stat_defense_other = stat_defense.query('flag==0')"
   ]
  },
  {
   "cell_type": "code",
   "execution_count": null,
   "id": "eb43bf2c",
   "metadata": {
    "id": "eb43bf2c"
   },
   "outputs": [],
   "source": [
    "array_7 = stat_defense_jan_march['+/-']\n",
    "array_8 = stat_defense_other['+/-']"
   ]
  },
  {
   "cell_type": "code",
   "execution_count": null,
   "id": "21d0a759",
   "metadata": {
    "id": "21d0a759",
    "outputId": "d8735ab4-dece-40c8-9916-2c5c3b5e0f6a"
   },
   "outputs": [],
   "source": [
    "alpha=0.05\n",
    "\n",
    "results = st.ttest_ind(array_7, array_8, equal_var=False)\n",
    "\n",
    "# вывод значения p-value на экран\n",
    "\n",
    "display ('Значение p-value:', results.pvalue)\n",
    "\n",
    "# условный оператор с выводом строки с ответом\n",
    "if results.pvalue < alpha:\n",
    "    display(\"Отвергаем нулевую гипотезу\")\n",
    "else:\n",
    "    display(\"Не получилось отвергнуть нулевую гипотезу\")"
   ]
  },
  {
   "cell_type": "markdown",
   "id": "9c719945",
   "metadata": {
    "id": "9c719945"
   },
   "source": [
    "Снова нет статистически значимого различия в успешности защитников в зависимости от месяца рождения."
   ]
  },
  {
   "cell_type": "markdown",
   "id": "a327fc5c",
   "metadata": {
    "id": "a327fc5c"
   },
   "source": [
    "## Выводы по проекту"
   ]
  },
  {
   "cell_type": "markdown",
   "id": "f37ad74d",
   "metadata": {
    "id": "f37ad74d"
   },
   "source": [
    "В ходе выполнения проекта были произведены следующие работы:\n",
    "\n",
    " - обработка исходных данных\n",
    "\n",
    " - анализ подготовленных данных в разрезе интересующих нас параметров\n",
    "\n",
    " - визуализация переходов игроков между командами в Sankey chart\n",
    "\n",
    " - визуализация переходов игроков в Хордовой диаграмме\n",
    "\n",
    " - были найдены все одноклубники\n",
    "\n",
    " - расчитано \"Число Лемтюгова\" для каждого игрока\n",
    "\n",
    " - визуализация связей между игроками с помощью графа\n",
    "\n",
    " - были  выдвинуты и проверены гипотезы по успешности игроков\n",
    "\n",
    " Выводы проекту:\n",
    "\n",
    " 1. Каждый игрок из датасета находится в среднем на расстоянии 2 \"рукопожатий\" от Николая Лемтюгова. Максимальное \"число Лемтюгова\" = 3 \"рукопожатия\".\n",
    "\n",
    " 2. По количеству смененных команд лидируют - Геннадий Столяров, Александр Рязанцев и Денис Казионов. Николай Лемтюгов по этому показателю - на 4 месте.\n",
    "\n",
    " 3. По количеству переходов лидируют Михаил Жуков и Евгений Лапенков. Николай Лемтюгов с 11ю переходами на 4 месте.\n",
    "\n",
    " 4. Больше всего переходов между ЦСК и ХК Сочи.\n",
    "\n",
    " 5. В тройке лидеров команд по количеству игравших в них хоккеистов: Спартак, Нефтехимик и Амур.\n",
    "\n",
    " 6. Касательно проверки гипотез:\n",
    "\n",
    " - гипотеза о том, что Лемтюгов – самый популярный хоккеист в лиге, не подтверждается. Абсолютным лидером по числу одноклубников является Евгений Лапенков. Николай Лемтюгов не входит в Топ-50 игроков с самым большим числом одноклубников.\n",
    "\n",
    "- гипотеза о том, что есть игроки для которых \"число Лемтюгова\" отсутствует, также опровергнута. У всех игроков есть связи.\n",
    "\n",
    "- гипотеза о том, что на \"успешность\" хоккеистов вляет вес - подтвердилась, а вот рост - не влияет на \"успешность\".\n",
    "\n",
    "- гипотеза о том, что на \"успешность\" влияет месяц рождения подтвердилась только для вратарей. Для нападающих и защитников месяц рождения не оказывает влияния на мастерство!"
   ]
  },
  {
   "cell_type": "code",
   "execution_count": null,
   "id": "a81d870c",
   "metadata": {
    "id": "a81d870c"
   },
   "outputs": [],
   "source": []
  },
  {
   "cell_type": "markdown",
   "id": "50OebmjLf6El",
   "metadata": {
    "id": "50OebmjLf6El"
   },
   "source": [
    "<div class=\"alert alert-info\">\n",
    "<img src=\"http://s3.amazonaws.com/pix.iemoji.com/images/emoji/apple/ios-12/256/waving-hand.png\" align=left width=30, heigth=30>\n",
    "</div>\n",
    "<p>\n",
    "<p> 🛑 Екатерина, поправь пожалуйста ссылки на файлы, в таком виде проверять не получается."
   ]
  }
 ],
 "metadata": {
  "colab": {
   "provenance": []
  },
  "kernelspec": {
   "display_name": "Python 3 (ipykernel)",
   "language": "python",
   "name": "python3"
  },
  "language_info": {
   "codemirror_mode": {
    "name": "ipython",
    "version": 3
   },
   "file_extension": ".py",
   "mimetype": "text/x-python",
   "name": "python",
   "nbconvert_exporter": "python",
   "pygments_lexer": "ipython3",
   "version": "3.10.9"
  },
  "toc": {
   "base_numbering": 1,
   "nav_menu": {
    "height": "79px",
    "width": "201px"
   },
   "number_sections": true,
   "sideBar": true,
   "skip_h1_title": true,
   "title_cell": "Table of Contents",
   "title_sidebar": "Contents",
   "toc_cell": true,
   "toc_position": {
    "height": "calc(100% - 180px)",
    "left": "10px",
    "top": "150px",
    "width": "412px"
   },
   "toc_section_display": true,
   "toc_window_display": true
  }
 },
 "nbformat": 4,
 "nbformat_minor": 5
}

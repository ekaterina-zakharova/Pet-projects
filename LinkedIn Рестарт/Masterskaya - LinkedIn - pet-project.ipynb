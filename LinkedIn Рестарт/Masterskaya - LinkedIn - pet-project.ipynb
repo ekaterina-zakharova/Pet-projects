{
 "cells": [
  {
   "attachments": {
    "%D0%BA%D0%B0%D1%80%D1%82%D0%B8%D0%BD%D0%BA%D0%B0.png": {
     "image/png": "[encoded data removed]"
    }
   },
   "cell_type": "markdown",
   "metadata": {},
   "source": [
    "![%D0%BA%D0%B0%D1%80%D1%82%D0%B8%D0%BD%D0%BA%D0%B0.png](attachment:%D0%BA%D0%B0%D1%80%D1%82%D0%B8%D0%BD%D0%BA%D0%B0.png)"
   ]
  },
  {
   "cell_type": "markdown",
   "metadata": {
    "id": "o87iaGUtGexj"
   },
   "source": [
    "<a id=\"name\"></a> \n",
    "<h1 style=\"text-align: center;\"> Анализ вакансии LinkedIn для специалистов DA и DS</h1>"
   ]
  },
  {
   "cell_type": "markdown",
   "metadata": {
    "id": "lUA_y4nKGexm"
   },
   "source": [
    "Содержание:\n",
    "\n",
    "[Материалы](#materials) \n",
    "  * [Дашборд](#dashbord)\n",
    "\n",
    "1. [Введение](#intro) \n",
    "    * [1.1. Описание проекта](#intro_des) \n",
    "    * [1.2. Цель проекта](#target)\n",
    "    * [1.3. Задачи проекта](#tasks)\n",
    "    * [1.4. Итоговый результат](#concl)\n",
    "    * [1.5. Характеристика данных](#data_info)\n",
    "    * [1.6. Техническое задание](#tech_task)\n",
    "    * [1.7. Структура проекта](#struct)\n",
    "2. [Общая информация о данных](#start)\n",
    "3. [Предобработка данных](#preprocessing)\n",
    "    * [3.1. Обработка пропусков](#null)\n",
    "    * [3.2. Изменение типов данных](#data_change) \n",
    "    * [3.3. Обработка дубликатов](#duplicates) \n",
    "    * [3.4. Релевантные вакансии](#relevant) \n",
    "    * [3.5. Определение требуемых hard skills](#hard_skills)\n",
    "     * [3.5.1. Обработка таблицы с пропусками в столбце с хард скилами](#hard_skills_off)\n",
    "     * [3.5.2. Обработка таблицы с заполненным столбцом с хард скилами](#hard_skills_on)\n",
    "    * [3.6. Таблица с корректными hard skills](#good_skills)\n",
    "    * [3.7. Анализ столбца с типом занятости](#employment_type)\n",
    "    * [3.8. Корректировка данных с городами и странами ](#location)\n",
    "     * [3.8.1. Корректировка столбца со странами](#country)\n",
    "     * [3.8.2. Корректировка столбца с городами](#city)\n",
    "    * [3.9.  Категоризация компаний по количеству сотрудников](#company_size)\n",
    "    * [3.10.  Анализ наименований вакансий](#titles)\n",
    "    * [3.11.  Анализ столбца со сферой деятельности компаний](#company_field)\n",
    "    * [3.12.  Подготова данных для построения Дашборда](#preparation)\n",
    "    * [3.13. Оценка потерь в данных после предобработки](#losses)\n",
    "4. [Общие выводы по проведенной работе](#conclusion)"
   ]
  },
  {
   "cell_type": "markdown",
   "metadata": {
    "id": "u3tuZFGfoOwh"
   },
   "source": [
    "✅ **Комментарий ревьюера:** Отлично, что у проекта есть оглавление!"
   ]
  },
  {
   "cell_type": "markdown",
   "metadata": {
    "id": "LHS-ijJGGexn"
   },
   "source": [
    "<a id=\"materials\"></a> \n",
    "# Материалы"
   ]
  },
  {
   "cell_type": "markdown",
   "metadata": {
    "id": "6X3b9lIZGexn"
   },
   "source": [
    "<a id=\"dashbord\"></a> \n",
    "### Дашборд"
   ]
  },
  {
   "cell_type": "markdown",
   "metadata": {
    "id": "m0xwRjQXGexn"
   },
   "source": [
    "https://public.tableau.com/app/profile/ekaterina.zakharova/viz/Pet-projectLinkedInvacancies/Dashboard1"
   ]
  },
  {
   "cell_type": "markdown",
   "metadata": {
    "id": "AHleQvDYGexn"
   },
   "source": [
    "<a id=\"intro\"></a> \n",
    "## 1. Введение"
   ]
  },
  {
   "cell_type": "markdown",
   "metadata": {
    "id": "oZiSdyb8Gexo"
   },
   "source": [
    "Профессиональная сеть LinkedIn - один из самых популярных способ поиска работы. На западном рынке именно эта сеть стала основным инструментом для поиска деловых контактов и расширения нетворка. Большинство компаний используют LinkedIn для поиска сотрудников. Это основной (и зачастую единственный) инструмент, которым пользуется рекрутер при поиске кандидатов.\n",
    "\n",
    "- LinkedIn это эффективный канал подбора для точечного закрытия позиций в Digital и Tech.\n",
    "\n",
    "- В LinkedIn люди привыкли обсуждать работу и получать предложения от рекрутеров.\n",
    "\n",
    "- В LinkedIn люди готовы к сообщениям о вакансиях.\n",
    "\n",
    "- В LinkedIn 830 миллионов пользователей в более чем 200 странах мира.\n",
    "\n",
    "Данная социальная сеть содержит множество разнопрофильных вакансий, нас в данном исследовании интересуют вакансии для  специалистов DA и DS (entry level)."
   ]
  },
  {
   "cell_type": "markdown",
   "metadata": {
    "id": "Rw8wgtBIGexo"
   },
   "source": [
    "<a id=\"intro_des\"></a> \n",
    "### 1.1. Описание проекта"
   ]
  },
  {
   "cell_type": "markdown",
   "metadata": {
    "id": "3ECzuqhWGexo"
   },
   "source": [
    "Заказчиком исследования является Мастерская Яндекс.Практикум. Полученные данные станут источником дополнительной информации о вакансиях в Европе для выпускников Практикума и начинающих специалистов в областях DA и DS."
   ]
  },
  {
   "cell_type": "markdown",
   "metadata": {
    "id": "M-LswZ4NGexp"
   },
   "source": [
    "<a id=\"target\"></a> \n",
    "### 1.2. Цель проекта"
   ]
  },
  {
   "cell_type": "markdown",
   "metadata": {
    "id": "XaLPUkN6Gexp"
   },
   "source": [
    "Цель проекта состоит в анализе вакансий для начинающих специлистов, выявлении необходимых hard skills, типа занятости, типа и размера компании. Эти данные должны помочь начинающим специалистам при поиске работы в Европе."
   ]
  },
  {
   "cell_type": "markdown",
   "metadata": {
    "id": "D9Asypl3Gexp"
   },
   "source": [
    "<a id=\"tasks\"></a> \n",
    "### 1.3. Задачи проекта"
   ]
  },
  {
   "cell_type": "markdown",
   "metadata": {
    "id": "9cQnOjcaGexp"
   },
   "source": [
    "Основные задачи проекта - собрать, очистить и проанализировать данные, а затем создать дашборд открытых вакансий."
   ]
  },
  {
   "cell_type": "markdown",
   "metadata": {
    "id": "J1QbYLvSGexp"
   },
   "source": [
    "<a id=\"concl\"></a> \n",
    "### 1.4. Итоговый результат"
   ]
  },
  {
   "cell_type": "markdown",
   "metadata": {
    "id": "m7Otqj2bGexp"
   },
   "source": [
    "Результатом исследования станет интерактивный Дашборд с открытыми вакансиями для DA и DS в Европе со всеми необходимым визуализациями и метриками, иллюстрирующими все полученные выводы."
   ]
  },
  {
   "cell_type": "markdown",
   "metadata": {
    "id": "scOPJe5xGexp"
   },
   "source": [
    "<a id=\"data_info\"></a> \n",
    "### 1.5. Характеристика данных"
   ]
  },
  {
   "cell_type": "markdown",
   "metadata": {
    "id": "Gi3pEO3LGexp"
   },
   "source": [
    "В нашем распоряжении датасет c \"сырыми\" данными после парсинга вакансий социальной сети LinkedIn.\n",
    "\n",
    "Путь к файлу: *\"E:\\Analytics\\Warehouse\\linkedin_new.csv.\"*\n",
    "\n",
    "Таблица состоит из следующих столбцов:\n",
    "\n",
    "**title** - наименование вакансии\t\n",
    "\n",
    "**location** - город вакансии\t\n",
    "\n",
    "**country** - страна вакансии\n",
    "\n",
    "**employment_type** - тип трудоустройства\n",
    "\n",
    "**company_name** - наименование компании\n",
    "\n",
    "**employee_qty** - количество сотрудников компании (масштаб компании)\n",
    "\n",
    "**company_field** - сфера деятельности \n",
    "\n",
    "**skills** - требуемые навыки\n",
    "\n",
    "**job_description** - описание вакансии\n",
    "\n",
    "**applicants** - количество заявителей на данную вакансию"
   ]
  },
  {
   "cell_type": "markdown",
   "metadata": {
    "id": "eP6OcwadGexq"
   },
   "source": [
    "<a id=\"tech_task\"></a> \n",
    "### 1.6. Техническое задание"
   ]
  },
  {
   "cell_type": "markdown",
   "metadata": {
    "id": "GlvbAz_WGexq"
   },
   "source": [
    "**1. Подготовка данных**\n",
    "\n",
    "1. Определить требуемые хард скилы и тип занятости (online, hybride, on-site) для каждой вакансии.\n",
    "\n",
    "**2. Подготовка данных к визуализации**\n",
    "\n",
    "1. Проверить данные на дубликаты и не релевантные заданию вакансии.\n",
    "2. Удалить ненужные атрибуты (признаки).\n",
    "\n",
    "**3. Визуализация данных**\n",
    "Построить интерактивный дашборд в любой из BI систем. Дашборд в обязательном порядке должен содержать:\n",
    " - фильтры — по стране и по типу занятости\n",
    " - количество вакансий (абсолютные значения) – индикатор\n",
    " - количество вакансий по странам (относительные значения) — stack bar chart\n",
    " - тип занятости — pie chart\n",
    " - список нанимающих компаний с указанием количества вакансий,\n",
    " - отсортированный в порядке убывания — heat map\n",
    " - ТОП 10 сфер деятельности компаний, которые нанимают аналитиков — barchart\n",
    " - размер компаний и количество вакансий — pie chart\n",
    " - хард скилы — barchart\n",
    "\n",
    "Дополнительно (необязательно):\n",
    " - количество вакансий по городам - map"
   ]
  },
  {
   "cell_type": "markdown",
   "metadata": {
    "id": "t0sf6jAFGexq"
   },
   "source": [
    "<a id=\"struct\"></a> \n",
    "### 1.7. Структура проекта"
   ]
  },
  {
   "cell_type": "markdown",
   "metadata": {
    "id": "aI3Ktet_Gexq"
   },
   "source": [
    "1. Ознакомление с данными: \n",
    "    - объем данных, наименования колонок, типы данных \n",
    "2. Предобработка данных: \n",
    "    - анализ и обработка пропусков, дубликатов и не релеватных вакансий \n",
    "    - удаление нерелевантных вакансий\n",
    "    - установление требуемых хард скилов для каждой вакансии\n",
    "    - проверка наименований городов и стран\n",
    "3. Общие выводы исследования\n",
    "4. Визуализация результатов в Tableau "
   ]
  },
  {
   "cell_type": "markdown",
   "metadata": {
    "id": "AFDTDnnKGexq"
   },
   "source": [
    "<a id=\"start\"></a> \n",
    "## 2. Общая информация о данных"
   ]
  },
  {
   "cell_type": "markdown",
   "metadata": {
    "id": "8eKCle3mGexq"
   },
   "source": [
    "Загрузим необходимые библиотеки:"
   ]
  },
  {
   "cell_type": "code",
   "execution_count": 1,
   "metadata": {
    "id": "ijna2SYUGexq"
   },
   "outputs": [],
   "source": [
    "import pandas as pd\n",
    "import numpy as np\n",
    "import hashlib\n",
    "import re"
   ]
  },
  {
   "cell_type": "markdown",
   "metadata": {
    "id": "vLbsyLt3Gexr"
   },
   "source": [
    "Прочитаем исходные данные:"
   ]
  },
  {
   "cell_type": "code",
   "execution_count": 2,
   "metadata": {
    "id": "rBleB0jaGexr"
   },
   "outputs": [],
   "source": [
    "data = pd.read_csv('E:\\Analytics\\Warehouse\\linkedin_new.csv')\n",
    "#pd.set_option('display.max_colwidth', None)"
   ]
  },
  {
   "cell_type": "code",
   "execution_count": 3,
   "metadata": {
    "colab": {
     "base_uri": "https://localhost:8080/",
     "height": 206
    },
    "id": "-CXvq6ZbGexr",
    "outputId": "98f0a75f-4d36-4474-e576-645287aa2827"
   },
   "outputs": [
    {
     "data": {
      "text/html": [
       "<div>\n",
       "<style scoped>\n",
       "    .dataframe tbody tr th:only-of-type {\n",
       "        vertical-align: middle;\n",
       "    }\n",
       "\n",
       "    .dataframe tbody tr th {\n",
       "        vertical-align: top;\n",
       "    }\n",
       "\n",
       "    .dataframe thead th {\n",
       "        text-align: right;\n",
       "    }\n",
       "</style>\n",
       "<table border=\"1\" class=\"dataframe\">\n",
       "  <thead>\n",
       "    <tr style=\"text-align: right;\">\n",
       "      <th></th>\n",
       "      <th>title</th>\n",
       "      <th>location</th>\n",
       "      <th>country</th>\n",
       "      <th>employment_type</th>\n",
       "      <th>company_name</th>\n",
       "      <th>employee_qty</th>\n",
       "      <th>company_field</th>\n",
       "      <th>skills</th>\n",
       "      <th>job_description</th>\n",
       "      <th>applicants</th>\n",
       "    </tr>\n",
       "  </thead>\n",
       "  <tbody>\n",
       "    <tr>\n",
       "      <th>0</th>\n",
       "      <td>Data Analyst</td>\n",
       "      <td>Basel</td>\n",
       "      <td>Switzerland</td>\n",
       "      <td>On-site</td>\n",
       "      <td>PharmiWeb.Jobs: Global Life Science Jobs</td>\n",
       "      <td>11-50 employees</td>\n",
       "      <td>Staffing and Recruiting</td>\n",
       "      <td>None</td>\n",
       "      <td>What You Will Achi...</td>\n",
       "      <td>47.0</td>\n",
       "    </tr>\n",
       "    <tr>\n",
       "      <th>1</th>\n",
       "      <td>Data Analyst - Logistics</td>\n",
       "      <td>Coventry</td>\n",
       "      <td>United Kingdom</td>\n",
       "      <td>On-site</td>\n",
       "      <td>Resolute Recruitment</td>\n",
       "      <td>not specified</td>\n",
       "      <td>not specified</td>\n",
       "      <td>None</td>\n",
       "      <td></td>\n",
       "      <td>NaN</td>\n",
       "    </tr>\n",
       "    <tr>\n",
       "      <th>2</th>\n",
       "      <td>Data Analyst - Logistics</td>\n",
       "      <td>Coventry</td>\n",
       "      <td>United Kingdom</td>\n",
       "      <td>On-site</td>\n",
       "      <td>Resolute Recruitment</td>\n",
       "      <td>not specified</td>\n",
       "      <td>not specified</td>\n",
       "      <td>None</td>\n",
       "      <td>Data Analyst - Lo...</td>\n",
       "      <td>NaN</td>\n",
       "    </tr>\n",
       "    <tr>\n",
       "      <th>3</th>\n",
       "      <td>Data Analyst (Space &amp; Planning)</td>\n",
       "      <td>South Molton</td>\n",
       "      <td>United Kingdom</td>\n",
       "      <td>On-site</td>\n",
       "      <td>Mole Valley Farmers</td>\n",
       "      <td>not specified</td>\n",
       "      <td>not specified</td>\n",
       "      <td>None</td>\n",
       "      <td>Salary:     To b...</td>\n",
       "      <td>NaN</td>\n",
       "    </tr>\n",
       "    <tr>\n",
       "      <th>4</th>\n",
       "      <td>Data Analyst</td>\n",
       "      <td>Lugano</td>\n",
       "      <td>Switzerland</td>\n",
       "      <td>On-site</td>\n",
       "      <td>FORFIRM</td>\n",
       "      <td>not specified</td>\n",
       "      <td>not specified</td>\n",
       "      <td>None</td>\n",
       "      <td>FORFIRM     is p...</td>\n",
       "      <td>NaN</td>\n",
       "    </tr>\n",
       "  </tbody>\n",
       "</table>\n",
       "</div>"
      ],
      "text/plain": [
       "                             title      location          country  \\\n",
       "0                     Data Analyst         Basel      Switzerland   \n",
       "1         Data Analyst - Logistics      Coventry   United Kingdom   \n",
       "2         Data Analyst - Logistics      Coventry   United Kingdom   \n",
       "3  Data Analyst (Space & Planning)  South Molton   United Kingdom   \n",
       "4                     Data Analyst        Lugano      Switzerland   \n",
       "\n",
       "  employment_type                              company_name     employee_qty  \\\n",
       "0         On-site  PharmiWeb.Jobs: Global Life Science Jobs  11-50 employees   \n",
       "1         On-site                      Resolute Recruitment    not specified   \n",
       "2         On-site                      Resolute Recruitment    not specified   \n",
       "3         On-site                       Mole Valley Farmers    not specified   \n",
       "4         On-site                                   FORFIRM    not specified   \n",
       "\n",
       "             company_field skills  \\\n",
       "0  Staffing and Recruiting   None   \n",
       "1            not specified   None   \n",
       "2            not specified   None   \n",
       "3            not specified   None   \n",
       "4            not specified   None   \n",
       "\n",
       "                                     job_description  applicants  \n",
       "0                              What You Will Achi...        47.0  \n",
       "1                                                            NaN  \n",
       "2                               Data Analyst - Lo...         NaN  \n",
       "3                                Salary:     To b...         NaN  \n",
       "4                                FORFIRM     is p...         NaN  "
      ]
     },
     "execution_count": 3,
     "metadata": {},
     "output_type": "execute_result"
    }
   ],
   "source": [
    "data.head()"
   ]
  },
  {
   "cell_type": "markdown",
   "metadata": {
    "id": "_pXG2q8cGexs"
   },
   "source": [
    "Изучим общую информацию о таблице данных:"
   ]
  },
  {
   "cell_type": "code",
   "execution_count": 4,
   "metadata": {
    "colab": {
     "base_uri": "https://localhost:8080/"
    },
    "id": "3GW1O5LlGexs",
    "outputId": "ac9df29c-11f7-4341-95e3-8c356dd75612"
   },
   "outputs": [
    {
     "name": "stdout",
     "output_type": "stream",
     "text": [
      "<class 'pandas.core.frame.DataFrame'>\n",
      "RangeIndex: 998 entries, 0 to 997\n",
      "Data columns (total 10 columns):\n",
      " #   Column           Non-Null Count  Dtype  \n",
      "---  ------           --------------  -----  \n",
      " 0   title            998 non-null    object \n",
      " 1   location         998 non-null    object \n",
      " 2   country          998 non-null    object \n",
      " 3   employment_type  998 non-null    object \n",
      " 4   company_name     996 non-null    object \n",
      " 5   employee_qty     998 non-null    object \n",
      " 6   company_field    998 non-null    object \n",
      " 7   skills           998 non-null    object \n",
      " 8   job_description  998 non-null    object \n",
      " 9   applicants       838 non-null    float64\n",
      "dtypes: float64(1), object(9)\n",
      "memory usage: 78.1+ KB\n"
     ]
    }
   ],
   "source": [
    "data.info()"
   ]
  },
  {
   "cell_type": "markdown",
   "metadata": {
    "id": "NsZB8Ky9Gexs"
   },
   "source": [
    "Анализируя полученную информацию, видим следующее:\n",
    " - таблица содержит 998 строк;\n",
    " - пропуски содрежатся в столбцах 'company_name' (2 пропуска) и  'applicants' (160 пропусков);\n",
    " - столбец 'applicants' содержит данные в формате \"float\". Тип этих данные нужно изменить на \"int\"."
   ]
  },
  {
   "cell_type": "markdown",
   "metadata": {
    "id": "draclb0xGexs"
   },
   "source": [
    "<a id=\"preprocessing\"></a> \n",
    "## 3. Предобработка данных"
   ]
  },
  {
   "cell_type": "markdown",
   "metadata": {
    "id": "EW6MQ7ekGexs"
   },
   "source": [
    "  <a id=\"null\"></a> \n",
    " ### 3.1. Обработка пропусков"
   ]
  },
  {
   "cell_type": "markdown",
   "metadata": {
    "id": "dv6wxXj2Gexs"
   },
   "source": [
    "Единственные пропуски, которые мы можем (и должны) обработать  - пропуски столбца 'applicants'. Пропуски в остальных данных мы не сможем \"угадать\". Примем, что пропуски столбца 'applicants' означают отсутствие заявителей. Для приведения к целочисленному типу заменим на 0."
   ]
  },
  {
   "cell_type": "code",
   "execution_count": 5,
   "metadata": {
    "id": "pDAy1EE8Gext"
   },
   "outputs": [],
   "source": [
    "data['applicants'] = data['applicants'].fillna(0)"
   ]
  },
  {
   "cell_type": "markdown",
   "metadata": {
    "id": "QlpQEUnyGext"
   },
   "source": [
    " <a id=\"data_change\"></a> \n",
    " ### 3.2. Изменение типов данных"
   ]
  },
  {
   "cell_type": "markdown",
   "metadata": {
    "id": "10gIGh9FGext"
   },
   "source": [
    "Откорректируем тип данных столбца 'applicants' на целочисленный тип \"int\"."
   ]
  },
  {
   "cell_type": "code",
   "execution_count": 6,
   "metadata": {
    "id": "3mINNOs0Gext"
   },
   "outputs": [],
   "source": [
    "data['applicants'] = data['applicants'].astype(int)"
   ]
  },
  {
   "cell_type": "code",
   "execution_count": 7,
   "metadata": {
    "colab": {
     "base_uri": "https://localhost:8080/"
    },
    "id": "qEteZdPsGext",
    "outputId": "88e4df7d-1348-4b38-d5de-7048f78490e4"
   },
   "outputs": [
    {
     "name": "stdout",
     "output_type": "stream",
     "text": [
      "<class 'pandas.core.frame.DataFrame'>\n",
      "RangeIndex: 998 entries, 0 to 997\n",
      "Data columns (total 10 columns):\n",
      " #   Column           Non-Null Count  Dtype \n",
      "---  ------           --------------  ----- \n",
      " 0   title            998 non-null    object\n",
      " 1   location         998 non-null    object\n",
      " 2   country          998 non-null    object\n",
      " 3   employment_type  998 non-null    object\n",
      " 4   company_name     996 non-null    object\n",
      " 5   employee_qty     998 non-null    object\n",
      " 6   company_field    998 non-null    object\n",
      " 7   skills           998 non-null    object\n",
      " 8   job_description  998 non-null    object\n",
      " 9   applicants       998 non-null    int32 \n",
      "dtypes: int32(1), object(9)\n",
      "memory usage: 74.2+ KB\n"
     ]
    }
   ],
   "source": [
    "data.info()"
   ]
  },
  {
   "cell_type": "markdown",
   "metadata": {
    "id": "K34sPPOiGext"
   },
   "source": [
    "Тип данных откорректирован."
   ]
  },
  {
   "cell_type": "markdown",
   "metadata": {
    "id": "IpgnuOUbGexz"
   },
   "source": [
    " <a id=\"duplicates\"></a> \n",
    " ### 3.3. Обработка дубликатов"
   ]
  },
  {
   "cell_type": "code",
   "execution_count": 8,
   "metadata": {
    "id": "MHaPJi4aGexz"
   },
   "outputs": [],
   "source": [
    "# Для удобства настроим вывод всех строк по всей высоте таблицы:\n",
    "#pd.set_option('display.max_rows', None)"
   ]
  },
  {
   "cell_type": "code",
   "execution_count": 9,
   "metadata": {
    "colab": {
     "base_uri": "https://localhost:8080/",
     "height": 424
    },
    "id": "4nuWLGtYGexz",
    "outputId": "e58f9fb7-c1bb-4d65-940c-ee9101d3b8b4"
   },
   "outputs": [
    {
     "data": {
      "text/html": [
       "<div>\n",
       "<style scoped>\n",
       "    .dataframe tbody tr th:only-of-type {\n",
       "        vertical-align: middle;\n",
       "    }\n",
       "\n",
       "    .dataframe tbody tr th {\n",
       "        vertical-align: top;\n",
       "    }\n",
       "\n",
       "    .dataframe thead th {\n",
       "        text-align: right;\n",
       "    }\n",
       "</style>\n",
       "<table border=\"1\" class=\"dataframe\">\n",
       "  <thead>\n",
       "    <tr style=\"text-align: right;\">\n",
       "      <th></th>\n",
       "      <th>title</th>\n",
       "      <th>location</th>\n",
       "      <th>country</th>\n",
       "      <th>employment_type</th>\n",
       "      <th>company_name</th>\n",
       "      <th>employee_qty</th>\n",
       "      <th>company_field</th>\n",
       "      <th>skills</th>\n",
       "      <th>job_description</th>\n",
       "      <th>applicants</th>\n",
       "    </tr>\n",
       "  </thead>\n",
       "  <tbody>\n",
       "    <tr>\n",
       "      <th>292</th>\n",
       "      <td>Data Analyst (m/w/d)</td>\n",
       "      <td>Germany</td>\n",
       "      <td>Germany</td>\n",
       "      <td>On-site</td>\n",
       "      <td>Charisma-Tec GmbH</td>\n",
       "      <td>1-10 employees</td>\n",
       "      <td>Human Resources Services</td>\n",
       "      <td>&lt;span class=\"visually-hidden\"&gt;&lt;!-- --&gt;Skills: ...</td>\n",
       "      <td>This job is...</td>\n",
       "      <td>21</td>\n",
       "    </tr>\n",
       "    <tr>\n",
       "      <th>293</th>\n",
       "      <td>Data Analyst (m/w/d)</td>\n",
       "      <td>Germany</td>\n",
       "      <td>Germany</td>\n",
       "      <td>On-site</td>\n",
       "      <td>Charisma-Tec GmbH</td>\n",
       "      <td>1-10 employees</td>\n",
       "      <td>Human Resources Services</td>\n",
       "      <td>&lt;span class=\"visually-hidden\"&gt;&lt;!-- --&gt;Skills: ...</td>\n",
       "      <td>This job is...</td>\n",
       "      <td>21</td>\n",
       "    </tr>\n",
       "    <tr>\n",
       "      <th>294</th>\n",
       "      <td>Data Analyst (m/w/d)</td>\n",
       "      <td>Germany</td>\n",
       "      <td>Germany</td>\n",
       "      <td>On-site</td>\n",
       "      <td>Charisma-Tec GmbH</td>\n",
       "      <td>1-10 employees</td>\n",
       "      <td>Human Resources Services</td>\n",
       "      <td>&lt;span class=\"visually-hidden\"&gt;&lt;!-- --&gt;Skills: ...</td>\n",
       "      <td>This job is...</td>\n",
       "      <td>21</td>\n",
       "    </tr>\n",
       "    <tr>\n",
       "      <th>295</th>\n",
       "      <td>Data Analyst (m/w/d)</td>\n",
       "      <td>Germany</td>\n",
       "      <td>Germany</td>\n",
       "      <td>On-site</td>\n",
       "      <td>Charisma-Tec GmbH</td>\n",
       "      <td>1-10 employees</td>\n",
       "      <td>Human Resources Services</td>\n",
       "      <td>&lt;span class=\"visually-hidden\"&gt;&lt;!-- --&gt;Skills: ...</td>\n",
       "      <td>This job is...</td>\n",
       "      <td>21</td>\n",
       "    </tr>\n",
       "    <tr>\n",
       "      <th>296</th>\n",
       "      <td>Data Analyst (m/w/d)</td>\n",
       "      <td>Germany</td>\n",
       "      <td>Germany</td>\n",
       "      <td>On-site</td>\n",
       "      <td>Charisma-Tec GmbH</td>\n",
       "      <td>1-10 employees</td>\n",
       "      <td>Human Resources Services</td>\n",
       "      <td>&lt;span class=\"visually-hidden\"&gt;&lt;!-- --&gt;Skills: ...</td>\n",
       "      <td>This job is...</td>\n",
       "      <td>21</td>\n",
       "    </tr>\n",
       "  </tbody>\n",
       "</table>\n",
       "</div>"
      ],
      "text/plain": [
       "                    title location  country employment_type  \\\n",
       "292  Data Analyst (m/w/d)  Germany  Germany         On-site   \n",
       "293  Data Analyst (m/w/d)  Germany  Germany         On-site   \n",
       "294  Data Analyst (m/w/d)  Germany  Germany         On-site   \n",
       "295  Data Analyst (m/w/d)  Germany  Germany         On-site   \n",
       "296  Data Analyst (m/w/d)  Germany  Germany         On-site   \n",
       "\n",
       "          company_name    employee_qty             company_field  \\\n",
       "292  Charisma-Tec GmbH  1-10 employees  Human Resources Services   \n",
       "293  Charisma-Tec GmbH  1-10 employees  Human Resources Services   \n",
       "294  Charisma-Tec GmbH  1-10 employees  Human Resources Services   \n",
       "295  Charisma-Tec GmbH  1-10 employees  Human Resources Services   \n",
       "296  Charisma-Tec GmbH  1-10 employees  Human Resources Services   \n",
       "\n",
       "                                                skills  \\\n",
       "292  <span class=\"visually-hidden\"><!-- -->Skills: ...   \n",
       "293  <span class=\"visually-hidden\"><!-- -->Skills: ...   \n",
       "294  <span class=\"visually-hidden\"><!-- -->Skills: ...   \n",
       "295  <span class=\"visually-hidden\"><!-- -->Skills: ...   \n",
       "296  <span class=\"visually-hidden\"><!-- -->Skills: ...   \n",
       "\n",
       "                                       job_description  applicants  \n",
       "292                                     This job is...          21  \n",
       "293                                     This job is...          21  \n",
       "294                                     This job is...          21  \n",
       "295                                     This job is...          21  \n",
       "296                                     This job is...          21  "
      ]
     },
     "execution_count": 9,
     "metadata": {},
     "output_type": "execute_result"
    }
   ],
   "source": [
    "# Проверим таблицу на явные дубликаты:\n",
    "data[data.duplicated()].head()"
   ]
  },
  {
   "cell_type": "markdown",
   "metadata": {
    "id": "-TS7dgkUGex0"
   },
   "source": [
    "Видим много дубликатов, возможно, проблемы при выгрузке данных, или ошибка при обявлении вакансии в Linkedin. От этих данных следует избавиться."
   ]
  },
  {
   "cell_type": "code",
   "execution_count": 10,
   "metadata": {
    "id": "RdXDJSrIGex0"
   },
   "outputs": [],
   "source": [
    "data = data.drop_duplicates()"
   ]
  },
  {
   "cell_type": "markdown",
   "metadata": {
    "id": "yP8c6x9RGex0"
   },
   "source": [
    " <a id=\"relevant\"></a> \n",
    " ### 3.4. Релевантные вакансии"
   ]
  },
  {
   "cell_type": "markdown",
   "metadata": {
    "id": "wOJf71wfGex0"
   },
   "source": [
    "По условию ТЗ нас интересуют вакансии, относящиеся к специалистам Data Analyst, Data Scientist и BI Analyst. Оставим в датасете только эти вакансии."
   ]
  },
  {
   "cell_type": "markdown",
   "metadata": {},
   "source": [
    "Для корректной фильтрации вакансий оставим вакансии, содержащие слова: [Dd]ata, DATA, Analityk, Analyst:"
   ]
  },
  {
   "cell_type": "code",
   "execution_count": 11,
   "metadata": {},
   "outputs": [],
   "source": [
    "# Создали список нужных слов:\n",
    "yes_words = ['[Dd]at','DATA','[Aa]nalityk','[Aa]nalys','DONNE','BI','BUSINESS INTELLIGENCE','Business Intelligence']"
   ]
  },
  {
   "cell_type": "code",
   "execution_count": 12,
   "metadata": {},
   "outputs": [],
   "source": [
    "sstr = '|'.join(yes_words)"
   ]
  },
  {
   "cell_type": "code",
   "execution_count": 13,
   "metadata": {},
   "outputs": [
    {
     "data": {
      "text/html": [
       "<div>\n",
       "<style scoped>\n",
       "    .dataframe tbody tr th:only-of-type {\n",
       "        vertical-align: middle;\n",
       "    }\n",
       "\n",
       "    .dataframe tbody tr th {\n",
       "        vertical-align: top;\n",
       "    }\n",
       "\n",
       "    .dataframe thead th {\n",
       "        text-align: right;\n",
       "    }\n",
       "</style>\n",
       "<table border=\"1\" class=\"dataframe\">\n",
       "  <thead>\n",
       "    <tr style=\"text-align: right;\">\n",
       "      <th></th>\n",
       "      <th>title</th>\n",
       "      <th>location</th>\n",
       "      <th>country</th>\n",
       "      <th>employment_type</th>\n",
       "      <th>company_name</th>\n",
       "      <th>employee_qty</th>\n",
       "      <th>company_field</th>\n",
       "      <th>skills</th>\n",
       "      <th>job_description</th>\n",
       "      <th>applicants</th>\n",
       "    </tr>\n",
       "  </thead>\n",
       "  <tbody>\n",
       "    <tr>\n",
       "      <th>0</th>\n",
       "      <td>Data Analyst</td>\n",
       "      <td>Basel</td>\n",
       "      <td>Switzerland</td>\n",
       "      <td>On-site</td>\n",
       "      <td>PharmiWeb.Jobs: Global Life Science Jobs</td>\n",
       "      <td>11-50 employees</td>\n",
       "      <td>Staffing and Recruiting</td>\n",
       "      <td>None</td>\n",
       "      <td>What You Will Achi...</td>\n",
       "      <td>47</td>\n",
       "    </tr>\n",
       "    <tr>\n",
       "      <th>1</th>\n",
       "      <td>Data Analyst - Logistics</td>\n",
       "      <td>Coventry</td>\n",
       "      <td>United Kingdom</td>\n",
       "      <td>On-site</td>\n",
       "      <td>Resolute Recruitment</td>\n",
       "      <td>not specified</td>\n",
       "      <td>not specified</td>\n",
       "      <td>None</td>\n",
       "      <td></td>\n",
       "      <td>0</td>\n",
       "    </tr>\n",
       "    <tr>\n",
       "      <th>2</th>\n",
       "      <td>Data Analyst - Logistics</td>\n",
       "      <td>Coventry</td>\n",
       "      <td>United Kingdom</td>\n",
       "      <td>On-site</td>\n",
       "      <td>Resolute Recruitment</td>\n",
       "      <td>not specified</td>\n",
       "      <td>not specified</td>\n",
       "      <td>None</td>\n",
       "      <td>Data Analyst - Lo...</td>\n",
       "      <td>0</td>\n",
       "    </tr>\n",
       "    <tr>\n",
       "      <th>3</th>\n",
       "      <td>Data Analyst (Space &amp; Planning)</td>\n",
       "      <td>South Molton</td>\n",
       "      <td>United Kingdom</td>\n",
       "      <td>On-site</td>\n",
       "      <td>Mole Valley Farmers</td>\n",
       "      <td>not specified</td>\n",
       "      <td>not specified</td>\n",
       "      <td>None</td>\n",
       "      <td>Salary:     To b...</td>\n",
       "      <td>0</td>\n",
       "    </tr>\n",
       "    <tr>\n",
       "      <th>4</th>\n",
       "      <td>Data Analyst</td>\n",
       "      <td>Lugano</td>\n",
       "      <td>Switzerland</td>\n",
       "      <td>On-site</td>\n",
       "      <td>FORFIRM</td>\n",
       "      <td>not specified</td>\n",
       "      <td>not specified</td>\n",
       "      <td>None</td>\n",
       "      <td>FORFIRM     is p...</td>\n",
       "      <td>0</td>\n",
       "    </tr>\n",
       "  </tbody>\n",
       "</table>\n",
       "</div>"
      ],
      "text/plain": [
       "                             title      location          country  \\\n",
       "0                     Data Analyst         Basel      Switzerland   \n",
       "1         Data Analyst - Logistics      Coventry   United Kingdom   \n",
       "2         Data Analyst - Logistics      Coventry   United Kingdom   \n",
       "3  Data Analyst (Space & Planning)  South Molton   United Kingdom   \n",
       "4                     Data Analyst        Lugano      Switzerland   \n",
       "\n",
       "  employment_type                              company_name     employee_qty  \\\n",
       "0         On-site  PharmiWeb.Jobs: Global Life Science Jobs  11-50 employees   \n",
       "1         On-site                      Resolute Recruitment    not specified   \n",
       "2         On-site                      Resolute Recruitment    not specified   \n",
       "3         On-site                       Mole Valley Farmers    not specified   \n",
       "4         On-site                                   FORFIRM    not specified   \n",
       "\n",
       "             company_field skills  \\\n",
       "0  Staffing and Recruiting   None   \n",
       "1            not specified   None   \n",
       "2            not specified   None   \n",
       "3            not specified   None   \n",
       "4            not specified   None   \n",
       "\n",
       "                                     job_description  applicants  \n",
       "0                              What You Will Achi...          47  \n",
       "1                                                              0  \n",
       "2                               Data Analyst - Lo...           0  \n",
       "3                                Salary:     To b...           0  \n",
       "4                                FORFIRM     is p...           0  "
      ]
     },
     "execution_count": 13,
     "metadata": {},
     "output_type": "execute_result"
    }
   ],
   "source": [
    "df = data[data['title'].str.contains(sstr)==True].reset_index(drop=True)\n",
    "df.head()"
   ]
  },
  {
   "cell_type": "markdown",
   "metadata": {},
   "source": [
    "Посмотрим, какие вакансии отсек фильтр:"
   ]
  },
  {
   "cell_type": "code",
   "execution_count": 14,
   "metadata": {
    "scrolled": true
   },
   "outputs": [
    {
     "data": {
      "text/plain": [
       "['(Junior) Application Specialist eCommerce (m/f/d)',\n",
       " '(Junior) Project Coordinator',\n",
       " '(Senior) Consultant Transaction Analytics (f/m/d)',\n",
       " 'ANALISTA (H/M) FINANCIERO / FP&A REPORTING',\n",
       " 'ANALISTA DE PROYECTO DIGITALIZACIÓN',\n",
       " 'APM Software Development & Operations',\n",
       " 'Accountant',\n",
       " 'Aftersales Reporting Specialist',\n",
       " 'Analista Ecommerce, Web y App',\n",
       " 'Analista Funzionale IT (Junior)',\n",
       " 'Analista de Software',\n",
       " 'Analista funzionale',\n",
       " 'Analytics & Reporting - Associate – Warsaw',\n",
       " 'Analytics Consultant',\n",
       " 'Analytics Consultant - Marketing Effectiveness',\n",
       " 'Analytics Consultant – McKinsey Digital',\n",
       " 'Associate - McKinsey Digital',\n",
       " 'BUSINESS ANALYST',\n",
       " 'BUSINESS ANALYST (h/f/x) CDI',\n",
       " 'Banking Operations Specialist',\n",
       " 'Biostatistiker (m/w/d)',\n",
       " 'Business Analytics Specialist',\n",
       " 'Business Specialist',\n",
       " 'Business intelligence expert',\n",
       " 'BÜROKRAFT (M/W/D) IN GARCHING',\n",
       " 'Center Operations Specialist',\n",
       " 'Chargé de Projets Écologue H/F (56)',\n",
       " 'Chargé de projets Sustainability F/H en apprentissage',\n",
       " 'Chef de Projet Réhabilitation',\n",
       " 'Científico Inteligencia Artificial',\n",
       " 'Client Intelligence Specialist',\n",
       " 'Composiet medewerker',\n",
       " 'Consultor/a Selección Ingeniería',\n",
       " 'DBA',\n",
       " 'DBA SQL',\n",
       " 'Demand Planner',\n",
       " 'DevOps Engineer',\n",
       " 'Developer',\n",
       " 'Developer (m/f/n)',\n",
       " 'Digital Analytics & Engagement Expert',\n",
       " 'Digital Back office specialist - TEMPO DETERMINATO',\n",
       " 'Digital Marketing Specialist',\n",
       " 'Front-end Developer',\n",
       " 'Gestor/a Aprovisionamiento - Valladolid',\n",
       " 'Global HRIS Specialist',\n",
       " 'HR Digital Transformation',\n",
       " 'Head of Analytics',\n",
       " 'IT CRM & Marketing Solutions Specialist',\n",
       " 'IT Specialist (f/m)',\n",
       " 'IT-Spezialist (m/w/d)',\n",
       " 'Informatie Analist',\n",
       " 'Informatieanalist Cloud-applicaties',\n",
       " 'Information Technology Engineer',\n",
       " 'Information Technology Support Specialist',\n",
       " 'Ingenieur Softwareentwicklung (m/w/d)',\n",
       " 'Inventory Analytics Manager',\n",
       " 'JUNIOR PROJECT MANAGER',\n",
       " 'Junior Developer',\n",
       " 'Junior Project Manager',\n",
       " 'Junior Software Developer',\n",
       " 'Junior Software Developer Engineer',\n",
       " 'Junior project manager - Categoria Protetta',\n",
       " 'L.T.E. S.p.a. - Ingegnere di Processo',\n",
       " 'Medewerker Cursuscoördinatie',\n",
       " 'Medewerker verkoop binnendienst',\n",
       " 'Mitarbeiter Marketing (m/w/d)',\n",
       " 'Mitarbeiter Marketing B2B (m/w/d)',\n",
       " 'Operational Specialist',\n",
       " 'Oracle Developer (2 posts)',\n",
       " 'Performance Engineer',\n",
       " 'Process Engineer',\n",
       " 'Process Performance Engineer',\n",
       " 'Product Manager',\n",
       " 'Programmatore / Analista funzionale',\n",
       " 'Projektleitung Seiltechnik',\n",
       " 'Projektmanager / Projektleiter Automotive (m/w/d)',\n",
       " 'QE Manager',\n",
       " 'Reporting Specialist',\n",
       " 'SENIOR BUSINESS REPORTING SPECIALIST',\n",
       " 'Sales Specialist',\n",
       " 'Senior Expert Innovation Analytics Performance',\n",
       " 'Software Engineer',\n",
       " 'Softwareentwickler (m/w/d)',\n",
       " 'Solution Owner, Enterprise Solutions, IKEA Industry AB',\n",
       " 'Supply Planner F/H',\n",
       " 'Sviluppatore front-end',\n",
       " 'System Developer GIS',\n",
       " 'Systemutvecklare',\n",
       " 'Säljare till Skaraborgsområdet',\n",
       " 'Tender Office Specialist',\n",
       " 'Test Engineer']"
      ]
     },
     "execution_count": 14,
     "metadata": {},
     "output_type": "execute_result"
    }
   ],
   "source": [
    "sorted(data[~data['title'].str.contains(sstr)].reset_index(drop=True)['title'].unique())"
   ]
  },
  {
   "cell_type": "markdown",
   "metadata": {},
   "source": [
    "Ушли нерелевантные вакансии."
   ]
  },
  {
   "cell_type": "markdown",
   "metadata": {
    "id": "kFkWGukvGex0"
   },
   "source": [
    "В отфильтрованном датасете удалим все вакансии, содержащие слова \"Senior\", \"Engineer\", \"Project\", \"Ingegnere\", \"Integration\",\"Bisness Analist\"."
   ]
  },
  {
   "cell_type": "code",
   "execution_count": 15,
   "metadata": {
    "id": "C7cC3WcnGex0"
   },
   "outputs": [],
   "source": [
    "# Создали список слов\n",
    "no_words = ['[Ss]eni','[Ee]ngin','[Ii]nge','[Pp]roj','[Ii]ntegra','[Bb]usines Analist','[Dd]evelop',\n",
    "            'Business Analyst','ENGINEER',\n",
    "            'Business-Analyst','Business Process',\n",
    "            '[Ee]xpert', 'Team Lead','[Cc]onsul',\n",
    "            '[Ss]uper','[Aa]dmin','[Rr]elocat','Lead','CONSUL','[Oo]wner']"
   ]
  },
  {
   "cell_type": "code",
   "execution_count": 16,
   "metadata": {
    "id": "OGYJqqy9Gex0"
   },
   "outputs": [],
   "source": [
    "rstr = '|'.join(no_words)"
   ]
  },
  {
   "cell_type": "code",
   "execution_count": 17,
   "metadata": {
    "colab": {
     "base_uri": "https://localhost:8080/",
     "height": 206
    },
    "id": "q_bWyubtGex0",
    "outputId": "bdf8b842-30f0-4755-e2f8-53db76bd9860"
   },
   "outputs": [
    {
     "data": {
      "text/html": [
       "<div>\n",
       "<style scoped>\n",
       "    .dataframe tbody tr th:only-of-type {\n",
       "        vertical-align: middle;\n",
       "    }\n",
       "\n",
       "    .dataframe tbody tr th {\n",
       "        vertical-align: top;\n",
       "    }\n",
       "\n",
       "    .dataframe thead th {\n",
       "        text-align: right;\n",
       "    }\n",
       "</style>\n",
       "<table border=\"1\" class=\"dataframe\">\n",
       "  <thead>\n",
       "    <tr style=\"text-align: right;\">\n",
       "      <th></th>\n",
       "      <th>title</th>\n",
       "      <th>location</th>\n",
       "      <th>country</th>\n",
       "      <th>employment_type</th>\n",
       "      <th>company_name</th>\n",
       "      <th>employee_qty</th>\n",
       "      <th>company_field</th>\n",
       "      <th>skills</th>\n",
       "      <th>job_description</th>\n",
       "      <th>applicants</th>\n",
       "    </tr>\n",
       "  </thead>\n",
       "  <tbody>\n",
       "    <tr>\n",
       "      <th>0</th>\n",
       "      <td>Data Analyst</td>\n",
       "      <td>Basel</td>\n",
       "      <td>Switzerland</td>\n",
       "      <td>On-site</td>\n",
       "      <td>PharmiWeb.Jobs: Global Life Science Jobs</td>\n",
       "      <td>11-50 employees</td>\n",
       "      <td>Staffing and Recruiting</td>\n",
       "      <td>None</td>\n",
       "      <td>What You Will Achi...</td>\n",
       "      <td>47</td>\n",
       "    </tr>\n",
       "    <tr>\n",
       "      <th>1</th>\n",
       "      <td>Data Analyst - Logistics</td>\n",
       "      <td>Coventry</td>\n",
       "      <td>United Kingdom</td>\n",
       "      <td>On-site</td>\n",
       "      <td>Resolute Recruitment</td>\n",
       "      <td>not specified</td>\n",
       "      <td>not specified</td>\n",
       "      <td>None</td>\n",
       "      <td></td>\n",
       "      <td>0</td>\n",
       "    </tr>\n",
       "    <tr>\n",
       "      <th>2</th>\n",
       "      <td>Data Analyst - Logistics</td>\n",
       "      <td>Coventry</td>\n",
       "      <td>United Kingdom</td>\n",
       "      <td>On-site</td>\n",
       "      <td>Resolute Recruitment</td>\n",
       "      <td>not specified</td>\n",
       "      <td>not specified</td>\n",
       "      <td>None</td>\n",
       "      <td>Data Analyst - Lo...</td>\n",
       "      <td>0</td>\n",
       "    </tr>\n",
       "    <tr>\n",
       "      <th>3</th>\n",
       "      <td>Data Analyst (Space &amp; Planning)</td>\n",
       "      <td>South Molton</td>\n",
       "      <td>United Kingdom</td>\n",
       "      <td>On-site</td>\n",
       "      <td>Mole Valley Farmers</td>\n",
       "      <td>not specified</td>\n",
       "      <td>not specified</td>\n",
       "      <td>None</td>\n",
       "      <td>Salary:     To b...</td>\n",
       "      <td>0</td>\n",
       "    </tr>\n",
       "    <tr>\n",
       "      <th>4</th>\n",
       "      <td>Data Analyst</td>\n",
       "      <td>Lugano</td>\n",
       "      <td>Switzerland</td>\n",
       "      <td>On-site</td>\n",
       "      <td>FORFIRM</td>\n",
       "      <td>not specified</td>\n",
       "      <td>not specified</td>\n",
       "      <td>None</td>\n",
       "      <td>FORFIRM     is p...</td>\n",
       "      <td>0</td>\n",
       "    </tr>\n",
       "  </tbody>\n",
       "</table>\n",
       "</div>"
      ],
      "text/plain": [
       "                             title      location          country  \\\n",
       "0                     Data Analyst         Basel      Switzerland   \n",
       "1         Data Analyst - Logistics      Coventry   United Kingdom   \n",
       "2         Data Analyst - Logistics      Coventry   United Kingdom   \n",
       "3  Data Analyst (Space & Planning)  South Molton   United Kingdom   \n",
       "4                     Data Analyst        Lugano      Switzerland   \n",
       "\n",
       "  employment_type                              company_name     employee_qty  \\\n",
       "0         On-site  PharmiWeb.Jobs: Global Life Science Jobs  11-50 employees   \n",
       "1         On-site                      Resolute Recruitment    not specified   \n",
       "2         On-site                      Resolute Recruitment    not specified   \n",
       "3         On-site                       Mole Valley Farmers    not specified   \n",
       "4         On-site                                   FORFIRM    not specified   \n",
       "\n",
       "             company_field skills  \\\n",
       "0  Staffing and Recruiting   None   \n",
       "1            not specified   None   \n",
       "2            not specified   None   \n",
       "3            not specified   None   \n",
       "4            not specified   None   \n",
       "\n",
       "                                     job_description  applicants  \n",
       "0                              What You Will Achi...          47  \n",
       "1                                                              0  \n",
       "2                               Data Analyst - Lo...           0  \n",
       "3                                Salary:     To b...           0  \n",
       "4                                FORFIRM     is p...           0  "
      ]
     },
     "execution_count": 17,
     "metadata": {},
     "output_type": "execute_result"
    }
   ],
   "source": [
    "# Удаляем ненужные вакансии:\n",
    "df = df[(df['title'].str.contains(rstr))==False]\n",
    "df.head()"
   ]
  },
  {
   "cell_type": "markdown",
   "metadata": {},
   "source": [
    "Проверим, какие вакансии остались в итоге:"
   ]
  },
  {
   "cell_type": "code",
   "execution_count": 18,
   "metadata": {},
   "outputs": [
    {
     "data": {
      "text/plain": [
       "['(ESG) Data Analyst (w/m/d)',\n",
       " '(Junior) Consumer Business Intelligence Analyst (m/w/d)',\n",
       " '(Junior) Data Scientist',\n",
       " 'AFC Data Analyst',\n",
       " 'ALTERNANCE - Assistance Data Analyst et Reporting RH F/H',\n",
       " 'ANALYSTE DES DONNEES (H/F)',\n",
       " 'Alternance - Data Analyst - Data ETL & Visualisation (h/f/d)',\n",
       " 'Analista Dati di Geodesia - CATEGORIA PROTETTA',\n",
       " 'Analista de datos',\n",
       " 'Analista de datos BI',\n",
       " 'Analista de datos dept de elaborados (Guissona)',\n",
       " 'Analityk',\n",
       " 'Analityk danych',\n",
       " 'Analityk danych internetowych (wszystko.pl)',\n",
       " 'Analyst',\n",
       " 'Analyst (Strategy, Policy and Innovation)',\n",
       " 'Analyst (m/f/d) Business Intelligence & Analytics',\n",
       " 'Analyst - FRENCH speaking -',\n",
       " 'Analyst - Marketing Effectiveness',\n",
       " 'Analyst Sourcing & Planning',\n",
       " 'Analyst*in (m/w/d)',\n",
       " 'Analyste Data -(H/F)',\n",
       " 'Analyste de données pièces de rechange automobile',\n",
       " 'Application Support Specialist - Business Intelligence',\n",
       " 'Applications Support Analyst (f/m/d)',\n",
       " 'Asset Data Analyst',\n",
       " 'Assistant, HR Data Analytics',\n",
       " 'Associate - Data Research',\n",
       " 'Associate Data Manager',\n",
       " 'Associate Data Scientist',\n",
       " 'Associate Database Analyst---Clinical Database Management',\n",
       " 'B2B Analyst, Bulgaria',\n",
       " 'BECARIO/A DATA ANALYST CLIENTE',\n",
       " 'BI Analyst',\n",
       " 'BI Analyst (Pricing)',\n",
       " 'BI Analyst (m/w/d)',\n",
       " 'BI Analyst (m/w/d) Marketing',\n",
       " 'BI Analyst - Tableau or other BI Tools',\n",
       " 'BI Analyst, Power BI Champion, CEE based in Warsaw',\n",
       " 'BI Specialist',\n",
       " 'BI-Analyst (m/w/d)',\n",
       " 'BUSINESS ANALYST_Power BI',\n",
       " 'BUSINESS INTELLIGENCE ANALYST',\n",
       " 'Business & Data Analyst',\n",
       " 'Business Analytics and Intelligence Analyst',\n",
       " 'Business Data Analyst (m/w/d)',\n",
       " 'Business Data Analyst Evolutions (2300046Z)',\n",
       " 'Business Data Analyst-(H/F)',\n",
       " 'Business Insights Analyst (NJE)',\n",
       " 'Business Intelligence Analyst',\n",
       " 'Business Intelligence Analyst (m/w/d)',\n",
       " 'Business Intelligence Analyst Junior',\n",
       " 'Business Intelligence Associate',\n",
       " 'Business Intelligence Specialist',\n",
       " 'Business Intelligence Specialist (w/m/d)',\n",
       " 'Business Intelligence-Analyst:in',\n",
       " 'Business Intelligence-Architekt:in',\n",
       " 'CDI - Data Analyst F/H',\n",
       " 'CDI - Data Analyst H/F - Yves Rocher',\n",
       " 'CRM Data Analyst (m/w/d)',\n",
       " 'CRO /Digital analyst',\n",
       " 'Client Data Analyst (Client Intelligence Specialist - Fully remote) )',\n",
       " 'Client Insights Data Analyst - SQL, Python, Data bricks',\n",
       " 'Commercial Analyst',\n",
       " 'Commercial Data Analyst',\n",
       " 'Commercial Data Analyst Travel',\n",
       " 'Conversion Master Data Analyst to Procter & Gamble',\n",
       " 'Corporate Product Master Specialist/Data Analyst',\n",
       " 'Credit - Data Analyst (Product)',\n",
       " 'Customer Data Analyst (m/w/d) Motorsport',\n",
       " 'Customer Data Platform Analyst',\n",
       " 'Customer Support Analyst',\n",
       " 'DATA ANALYST',\n",
       " 'DATA ANALYST - H/F',\n",
       " 'DATA ANALYST IT',\n",
       " 'DATA ANALYST PILOTAGE OPERATIONNEL H/F',\n",
       " 'DATA ANALYST_FROSINONE (FR)',\n",
       " 'DATA SCIENTIST',\n",
       " 'DATA SCIENTIST - MARKETING',\n",
       " 'Danish Language Data Analyst - Barcelona',\n",
       " 'Danish Language Data Analyst in Barcelona',\n",
       " 'Data & Analytics Analyst - BARI, ROMA',\n",
       " 'Data Analist',\n",
       " 'Data Analist - startersfunctie (Dutch speaking)',\n",
       " 'Data Analist CBR',\n",
       " 'Data Analyst',\n",
       " 'Data Analyst  H/F',\n",
       " 'Data Analyst (9 Months FTC)',\n",
       " 'Data Analyst (Assortment)',\n",
       " 'Data Analyst (F/H)',\n",
       " 'Data Analyst (FT)',\n",
       " 'Data Analyst (Fraud)*',\n",
       " 'Data Analyst (H/F)',\n",
       " 'Data Analyst (Legal Services)',\n",
       " 'Data Analyst (M/W/D)',\n",
       " 'Data Analyst (Marketing & Comms)',\n",
       " 'Data Analyst (Mobile)',\n",
       " 'Data Analyst (Product Data Analyst)',\n",
       " 'Data Analyst (Slovakia) IRC183410',\n",
       " 'Data Analyst (Space & Planning)',\n",
       " 'Data Analyst (h/f)',\n",
       " 'Data Analyst (h/f) - CDI',\n",
       " 'Data Analyst (m/f)',\n",
       " 'Data Analyst (m/f/d)',\n",
       " 'Data Analyst (m/f/d) - Global Sea Logistics Systems',\n",
       " 'Data Analyst (m/f/x)',\n",
       " 'Data Analyst (m/w/d)',\n",
       " 'Data Analyst (m/w/d) im Controlling',\n",
       " 'Data Analyst (w/m/d) - Kurse',\n",
       " 'Data Analyst - Alternance - Boursorama-(H/F)',\n",
       " 'Data Analyst - Analyste de données',\n",
       " 'Data Analyst - BSEU Raw Materials Planning',\n",
       " 'Data Analyst - Client Insight',\n",
       " 'Data Analyst - Confirmé.e',\n",
       " 'Data Analyst - Customer Management Domain',\n",
       " 'Data Analyst - Digital Marketing (all genders)',\n",
       " 'Data Analyst - Edtech',\n",
       " 'Data Analyst - Finance',\n",
       " 'Data Analyst - Flanders Digital',\n",
       " 'Data Analyst - Global Marketing Agency',\n",
       " 'Data Analyst - Global Marketing H/F',\n",
       " 'Data Analyst - H/F',\n",
       " 'Data Analyst - Hybrid',\n",
       " 'Data Analyst - Hybrid - Permanent',\n",
       " 'Data Analyst - Hybrid Working',\n",
       " 'Data Analyst - Lisboa e Porto - Campo Grande',\n",
       " 'Data Analyst - Logistics',\n",
       " 'Data Analyst - Marketing & Communications Insight',\n",
       " 'Data Analyst - Marketing - E-commerce',\n",
       " 'Data Analyst - Milano',\n",
       " 'Data Analyst - Operations',\n",
       " 'Data Analyst - Pilotage transformation Cloud-(H/F)',\n",
       " 'Data Analyst - Poland',\n",
       " 'Data Analyst - Scores & Etudes',\n",
       " 'Data Analyst - Transportation',\n",
       " 'Data Analyst - €60,- per hour - Amsterdam based',\n",
       " 'Data Analyst / Data Scientist (m/f/d)',\n",
       " 'Data Analyst / Decision Scientist, Growth',\n",
       " 'Data Analyst / Decision Scientist, Marketing',\n",
       " 'Data Analyst / Mathematiker / Statistiker (m/w/d)',\n",
       " 'Data Analyst / Risques de Crédit - Boursorama-(H/F)',\n",
       " 'Data Analyst Assessor',\n",
       " 'Data Analyst Associate',\n",
       " 'Data Analyst Costing',\n",
       " 'Data Analyst Delivery Operations',\n",
       " 'Data Analyst Export',\n",
       " 'Data Analyst F/H',\n",
       " 'Data Analyst H/F',\n",
       " 'Data Analyst H/F - Alternance 12 ou 24 mois',\n",
       " 'Data Analyst H/F H/F',\n",
       " 'Data Analyst H/F _ CDD',\n",
       " 'Data Analyst II',\n",
       " 'Data Analyst Job In Overseas',\n",
       " 'Data Analyst M/F',\n",
       " 'Data Analyst Marketing Stratégique - Boursorama-(H/F)',\n",
       " 'Data Analyst Power BI (m/w/d)',\n",
       " 'Data Analyst Power BI F/H',\n",
       " 'Data Analyst Professional Programme',\n",
       " 'Data Analyst Reporting',\n",
       " 'Data Analyst Return Solutions',\n",
       " 'Data Analyst SAS - H/F',\n",
       " 'Data Analyst Tableau',\n",
       " 'Data Analyst Telco',\n",
       " 'Data Analyst für Customer Analytics (m/w/d)',\n",
       " 'Data Analyst im Bereich IIoT / KI / Predictive Maintenan ...',\n",
       " 'Data Analyst im Bereich IIoT / KI / Predictive Maintenance (m/w/d)',\n",
       " 'Data Analyst in the area of IIoT / KI / Predictive Maintenance (m/f/d)',\n",
       " 'Data Analyst – Web & App (m/w/d)',\n",
       " 'Data Analyst, Metrics & Reporting',\n",
       " 'Data Analyst, Product Intelligence #SWX',\n",
       " 'Data Analyst, SQL/SSIS {Finance',\n",
       " 'Data Analyst- 6 Month',\n",
       " 'Data Analyst-(H/F)',\n",
       " 'Data Analyst:in',\n",
       " 'Data Analyste',\n",
       " 'Data Architect',\n",
       " 'Data Entry',\n",
       " 'Data Governance Analyst',\n",
       " 'Data Governance analyst',\n",
       " 'Data Management Specialist',\n",
       " 'Data Manager',\n",
       " 'Data Program Manager',\n",
       " 'Data Science & Analytics Specialist (f/m/x)',\n",
       " 'Data Science Analyst',\n",
       " 'Data Scientist',\n",
       " 'Data Scientist & Analyst expérimenté',\n",
       " 'Data Scientist (Credit)',\n",
       " 'Data Scientist (H/F)',\n",
       " 'Data Scientist (all genders)',\n",
       " 'Data Scientist (f/m/d)',\n",
       " 'Data Scientist - Data Analyst',\n",
       " 'Data Scientist - Paris',\n",
       " 'Data Scientist H/F_CDI',\n",
       " 'Data Scientist Transport & Logistics',\n",
       " 'Data Scientist, Marketing Analytics',\n",
       " 'Data Specialist',\n",
       " 'Data Steward',\n",
       " 'Data Technology Analyst',\n",
       " 'Data Visualization',\n",
       " 'Data analist',\n",
       " 'Data analyst',\n",
       " 'Data analyst H/F',\n",
       " 'Data analyst débutant(e)',\n",
       " 'Data analyst en alternance (94) DCF/AB - F/H',\n",
       " 'Data analyst en alternance (H/F) - Boulogne-Billancourt',\n",
       " 'Data analyst | Deals (M&A) | CDI | H/F',\n",
       " 'Data scientist / analytiker',\n",
       " 'Data-analist',\n",
       " 'Dataanalytiker',\n",
       " 'Datový analytik',\n",
       " 'Datový analytik/vývojář',\n",
       " 'Demand & Inventory Data Scientist',\n",
       " 'Demand Planning Analyst',\n",
       " 'Digital Analyst',\n",
       " 'Digital Data Analist (32-38 uur)',\n",
       " 'Digital Data Analyst',\n",
       " 'Digital Data Analyst (H/F)',\n",
       " 'Digital Data Analyst Pharma (m/f/d)',\n",
       " 'Digital Data Analytics',\n",
       " 'ESG Analyst - Real Estate (m/w/d)',\n",
       " 'Ecommerce Web Analyst',\n",
       " 'FP&A Analyst',\n",
       " 'Finance - IT Functional Analyst',\n",
       " 'Finance Data Analyst',\n",
       " 'Finance Data Analyst (m/w/d) - Gigafactory Berlin',\n",
       " 'Financial / Data Analyst',\n",
       " 'Freelance Data Modeler',\n",
       " 'Functional Analyst',\n",
       " 'Global Manager Data Analytics',\n",
       " 'Global Onsite Data Analyst (m/w/d)',\n",
       " 'Graduate Data Analyst',\n",
       " 'INGENIERO/A analista de datos Big Data',\n",
       " 'IT Analityk',\n",
       " 'IT Data Analyst',\n",
       " 'IT Research Analyst',\n",
       " 'IT Solution Analyst (m/f/n)',\n",
       " 'IT Strategy and Reporting Analyst (m/f)',\n",
       " 'IT Support Analyst, Global IT',\n",
       " 'Information Analyst',\n",
       " 'Informático/a programador/a analista de datos',\n",
       " 'Infrastructure Analyst',\n",
       " 'Insight Analyst (m/f/x)',\n",
       " 'Insights Analyst',\n",
       " 'Internet Data Evaluator | Work-from-home',\n",
       " 'JUNIOR DATA ANALYST – Aerospace',\n",
       " 'Job | Data Analyst E&E&P | Brussel',\n",
       " 'Jr. Data Scientist',\n",
       " 'Junior / Medior Web Data Analyst',\n",
       " 'Junior Analyst',\n",
       " 'Junior Analyst - Data Process',\n",
       " 'Junior Analyst | H/F',\n",
       " 'Junior CRM Analyst',\n",
       " 'Junior Data Analist',\n",
       " 'Junior Data Analyst',\n",
       " 'Junior Data Analyst Power BI - CONTRATO 6 MESES',\n",
       " 'Junior Data Analyst Sustainability',\n",
       " 'Junior Data Analyst/Associate (m/f/d)',\n",
       " 'Junior Data Processing Specialist',\n",
       " 'Junior Data Scientist',\n",
       " 'Junior Data Scientist/Analyst (m/w/d)',\n",
       " 'Junior Finance Analyst',\n",
       " 'Junior Innovation Analyst',\n",
       " 'Junior Insight Analyst',\n",
       " 'Junior Insights Analyst (w/m/d)',\n",
       " 'Junior Marketing Analyst (Munich)',\n",
       " 'Junior Master Data Analyst',\n",
       " 'Junior STEM Analyst',\n",
       " 'Junior Sales Analyst',\n",
       " 'Junior/Mid Data Analyst',\n",
       " 'Market Analyst- European Power Market',\n",
       " 'Market Intelligence Analyst',\n",
       " 'Market Research Analyst (Remote - within Europe)',\n",
       " 'Marketing Analyst',\n",
       " 'Marketing Analyst (Data Analytics and BI)',\n",
       " 'Marketing Analyst (m/w/d)',\n",
       " 'Master Data Quality Analyst',\n",
       " 'Medior Data analyst',\n",
       " 'Monitoring & Data Analyst (Solar PV)',\n",
       " 'NRS13700 Grade V, Data Analyst',\n",
       " 'Online Data Analyst',\n",
       " 'Online Data Analyst (m,f,d)',\n",
       " 'Online Data Analyst - France',\n",
       " 'Operational Analyst (Hybrid)',\n",
       " 'Operations Analyst - H/F',\n",
       " 'Operations Data Analyst (They/She/He)',\n",
       " 'POWER BI / DATA ANALYST (M/W/D)',\n",
       " 'PTP Analyst',\n",
       " 'Packaging Specification Technologist and Data Analyst',\n",
       " 'Planning & Control Analyst',\n",
       " 'Policy Analyst',\n",
       " 'Pricing Analyst',\n",
       " 'Principal Data Analyst - Growth',\n",
       " 'Privacy Data Analyst - Fluent German',\n",
       " 'Process Analyst',\n",
       " 'Product Control Analyst',\n",
       " 'Product Data Analyst',\n",
       " 'Product Data Analyst with English',\n",
       " 'Quality Data Analyst (m|w|d)',\n",
       " 'Reliability Data Analyst',\n",
       " 'Research Analyst',\n",
       " 'Responsable Data Visualisation MS BI',\n",
       " 'Référent Applicatif Business Intelligence F/H',\n",
       " 'SAP Finance Analyst',\n",
       " 'SQL/Data Analyst (m/w/d)',\n",
       " 'Sales Data Analyst',\n",
       " 'Salesforce Analyst',\n",
       " 'Salesforce Data Analyst (f/m/d)',\n",
       " 'Semiconductor Data Analyst',\n",
       " 'Social Media Data Analyst',\n",
       " 'Sozialwissenschaftler*in als Data Analyst (w/m/d)',\n",
       " 'Stage - Data Analyst H/F',\n",
       " 'Stage | Data Analyst',\n",
       " 'Statistical Data Analyst',\n",
       " 'Supply Chain Analyst',\n",
       " 'Supply Chain Data Analyst',\n",
       " 'Supply Officer & Data Analyst - Systems & Equipment (d/f/m)',\n",
       " 'Technical Analyst for Databricks (all genders)',\n",
       " 'Technical Data Analyst',\n",
       " 'Trading and Business Support Analyst',\n",
       " 'Traineeship data analyst',\n",
       " 'V.I.E Performance Management  Analyst',\n",
       " 'Wavemaker I Data Analyst with Python',\n",
       " 'Web Analyst F/H en CDI',\n",
       " 'Web Data Analyst F/H',\n",
       " '[ALT] Data analyst Assistant - H/F',\n",
       " 'data analyst']"
      ]
     },
     "execution_count": 18,
     "metadata": {},
     "output_type": "execute_result"
    }
   ],
   "source": [
    "sorted(df['title'].unique())"
   ]
  },
  {
   "cell_type": "markdown",
   "metadata": {
    "id": "A5XYV3uuGex0"
   },
   "source": [
    "Датасет отфильтрован по релевантным вакансиям."
   ]
  },
  {
   "cell_type": "markdown",
   "metadata": {
    "id": "p2ZliCxtuUQ3"
   },
   "source": [
    "Проверим, сколько вакансий осталось в датасете:"
   ]
  },
  {
   "cell_type": "code",
   "execution_count": 19,
   "metadata": {
    "colab": {
     "base_uri": "https://localhost:8080/"
    },
    "id": "SsHPBPMIuZ_X",
    "outputId": "9a6b42d1-aad7-4671-b4fb-d1d6a39a8df1"
   },
   "outputs": [
    {
     "data": {
      "text/plain": [
       "'В итоговом списке 589 вакансий'"
      ]
     },
     "metadata": {},
     "output_type": "display_data"
    }
   ],
   "source": [
    "display(f'В итоговом списке {df.shape[0]} вакансий')"
   ]
  },
  {
   "cell_type": "markdown",
   "metadata": {
    "id": "dUJr4V81Gex0"
   },
   "source": [
    "  <a id=\"hard_skills\"></a> \n",
    " ### 3.5. Определение требуемых hard skills"
   ]
  },
  {
   "cell_type": "markdown",
   "metadata": {
    "id": "RgBb9JuiGex0"
   },
   "source": [
    "Из-за особенностей платформы LinkedIn хард скилы в столбце \"skills\" выгрузились некорректно - список не полный. Данных для дальнейшего анализа недостаточно. На основании изучения текста столбца в описании вакансии \"job_description\" был составлен список скилов, упоминаемых в тексе описания вакансии:"
   ]
  },
  {
   "cell_type": "code",
   "execution_count": 20,
   "metadata": {
    "id": "YIDZyVgoGex0"
   },
   "outputs": [],
   "source": [
    "skills_list = [\n",
    "    'a/b testing', 'ab testing', 'actian', 'adobe analytics', 'adobe audience manager',\n",
    "    'adobe experience platform', 'adobe launch', 'adobe target', 'ai', 'airflow',\n",
    "    'alooma', 'alteryx', 'amazon machine learning', 'amazon web services', 'aml',\n",
    "    'amplitude', 'ansible', 'apache camel', 'apache nifi', 'apache spark',\n",
    "    'api', 'asana', 'auth0', 'aws', 'aws glue', 'azure', 'azure data factory',\n",
    "    'basecamp', 'bash', 'beats',  'bigquery', 'birst', 'bitbucket',\n",
    "    'blendo', 'bootstrap', 'business objects bi', 'c#', 'c++', 'caffe', 'cassandra',\n",
    "    'cdata sync', 'chronograf', 'ci/cd', 'cicd', 'clickhouse', 'cloudera', 'cluvio',\n",
    "    'cntk', 'cognos', 'composer', 'computer vision', 'conda', 'confluence',\n",
    "    'couchbase', 'css', 'd3.js', 'dash', 'dashboard', 'data factory', 'data fusion',\n",
    "    'data mining', 'data studio', 'data warehouse', 'databricks', 'dataddo',\n",
    "    'dataflow', 'datahub', 'dataiku', 'datastage', 'dbconvert', 'dbeaver', 'dbt',\n",
    "    'deep learning', 'dl/ml', 'docker', 'domo', 'dune', 'dv360', 'dynamodb',\n",
    "    'elasticsearch', 'elt', 'erwin', 'etl', 'etleap', 'excel', 'facebook business manager',\n",
    "    'fivetran', 'fuzzy', 'ga360', 'gcp', 'gensim', 'ggplot', 'git', 'github', 'gitlab',\n",
    "    'google ads', 'google analytics', 'google cloud platform', 'google data flow',\n",
    "    'google optimize', 'google sheets', 'google tag manager', 'google workspace',\n",
    "    'grafana', 'hadoop', 'hana', 'hanagrafana', 'hbase', 'hdfs', 'hevo data', 'hightouch',\n",
    "    'hive', 'hivedatabricks', 'html', 'hubspot', 'ibm coremetrics', 'inetsoft',\n",
    "    'influxdb', 'informatica', 'integrate.io', 'iri voracity', 'izenda', 'java',\n",
    "    'javascript', 'jenkins', 'jira', 'jmp', 'julia', 'jupyter',\n",
    "    'k2view', 'kafka', 'kantar', 'kapacitor', 'keras', 'kibana', 'kubernetes',\n",
    "    'lambda', 'linux', 'logstash', 'looker', 'lstm', 'luidgi', 'matillion', 'matlab',\n",
    "    'matplotlib', 'mendix', 'metabase', 'microsoft sql', 'microsoft sql server',\n",
    "    'microstrategy', 'miro', 'mixpanel', 'ml', 'ml flow', 'mlflow', 'mongodb', 'mxnet',\n",
    "    'mysql', 'natural nanguage processing', 'neo4j', 'nlp', 'nltk', 'nosql', 'numpy',\n",
    "    'oauth', 'octave', 'omniture', 'omnituregitlab', 'openshift', 'openstack',\n",
    "    'optimizely', 'oracle', 'oracle business intelligence', 'oracle data integrator',\n",
    "    'pandas', 'panorama', 'pentaho', 'plotly', 'postgre', 'postgresql', 'posthog',\n",
    "    'power amc', 'power bi', 'powerpivot', 'powerpoint',\n",
    "    'powerquery', 'pyspark', 'python', 'pytorch', 'pytorchhevo data', 'qlik',\n",
    "    'qlik sense', 'qlikview', 'querysurge', 'r', 'raphtory', 'rapidminer', 'redash',\n",
    "    'redis', 'redshift', 'retool', 'rivery', 'rust', 's3', 'sa360', 'salesforce', 'sap',\n",
    "    'sap business objects', 'sas', 'sas visual analytics', 'scala', 'scikit-learn',\n",
    "    'scipy', 'seaborn', 'segment', 'selenium', 'sem rush', 'semrush', 'shell', 'shiny',\n",
    "    'singer', 'sisense', 'skyvia', 'snowflake', 'spacy', 'spark', 'sparkml', 'splunk',\n",
    "    'spotfire', 'spreadsheet', 'spss', 'sql', 'ssis', 'sssr', 'stambia', 'statistics',\n",
    "    'statsbot', 'stitch', 'streamlit', 'streamsets', 'svn', 't-sql', 'tableau', 'talend',\n",
    "    'targit', 'tealium', 'telegraf', 'tensorflow', 'terraapi', 'terraform', 'theano',\n",
    "    'thoughtspot', 'timeseries', 'trello', 'unix', 'vba', 'vtom', 'webfocus', 'wfh',\n",
    "    'xplenty', 'xtract.io', 'yellowfin','scrum','kanban','machine learning'\n",
    "]"
   ]
  },
  {
   "cell_type": "markdown",
   "metadata": {
    "id": "kKmXg14fGex0"
   },
   "source": [
    "Для удобства дальнейшего анализа разделим исходную таблицу на две - с заполненным столбцом \"skills\" и с пропускми в этом столбце. "
   ]
  },
  {
   "cell_type": "markdown",
   "metadata": {
    "id": "dQP48eqtGex1"
   },
   "source": [
    "  <a id=\"hard_skills_off\"></a> \n",
    " #### 3.5.1. Обработка таблицы с пропусками в столбце с хард скилами"
   ]
  },
  {
   "cell_type": "code",
   "execution_count": 21,
   "metadata": {
    "colab": {
     "base_uri": "https://localhost:8080/",
     "height": 206
    },
    "id": "TTbDc12gGex1",
    "outputId": "50ee88e4-e8ee-42e9-9ac3-aa9dd0c41af8"
   },
   "outputs": [
    {
     "data": {
      "text/html": [
       "<div>\n",
       "<style scoped>\n",
       "    .dataframe tbody tr th:only-of-type {\n",
       "        vertical-align: middle;\n",
       "    }\n",
       "\n",
       "    .dataframe tbody tr th {\n",
       "        vertical-align: top;\n",
       "    }\n",
       "\n",
       "    .dataframe thead th {\n",
       "        text-align: right;\n",
       "    }\n",
       "</style>\n",
       "<table border=\"1\" class=\"dataframe\">\n",
       "  <thead>\n",
       "    <tr style=\"text-align: right;\">\n",
       "      <th></th>\n",
       "      <th>title</th>\n",
       "      <th>location</th>\n",
       "      <th>country</th>\n",
       "      <th>employment_type</th>\n",
       "      <th>company_name</th>\n",
       "      <th>employee_qty</th>\n",
       "      <th>company_field</th>\n",
       "      <th>skills</th>\n",
       "      <th>job_description</th>\n",
       "      <th>applicants</th>\n",
       "    </tr>\n",
       "  </thead>\n",
       "  <tbody>\n",
       "    <tr>\n",
       "      <th>0</th>\n",
       "      <td>Data Analyst</td>\n",
       "      <td>Basel</td>\n",
       "      <td>Switzerland</td>\n",
       "      <td>On-site</td>\n",
       "      <td>PharmiWeb.Jobs: Global Life Science Jobs</td>\n",
       "      <td>11-50 employees</td>\n",
       "      <td>Staffing and Recruiting</td>\n",
       "      <td>None</td>\n",
       "      <td>What You Will Achi...</td>\n",
       "      <td>47</td>\n",
       "    </tr>\n",
       "    <tr>\n",
       "      <th>1</th>\n",
       "      <td>Data Analyst - Logistics</td>\n",
       "      <td>Coventry</td>\n",
       "      <td>United Kingdom</td>\n",
       "      <td>On-site</td>\n",
       "      <td>Resolute Recruitment</td>\n",
       "      <td>not specified</td>\n",
       "      <td>not specified</td>\n",
       "      <td>None</td>\n",
       "      <td></td>\n",
       "      <td>0</td>\n",
       "    </tr>\n",
       "    <tr>\n",
       "      <th>2</th>\n",
       "      <td>Data Analyst - Logistics</td>\n",
       "      <td>Coventry</td>\n",
       "      <td>United Kingdom</td>\n",
       "      <td>On-site</td>\n",
       "      <td>Resolute Recruitment</td>\n",
       "      <td>not specified</td>\n",
       "      <td>not specified</td>\n",
       "      <td>None</td>\n",
       "      <td>Data Analyst - Lo...</td>\n",
       "      <td>0</td>\n",
       "    </tr>\n",
       "    <tr>\n",
       "      <th>3</th>\n",
       "      <td>Data Analyst (Space &amp; Planning)</td>\n",
       "      <td>South Molton</td>\n",
       "      <td>United Kingdom</td>\n",
       "      <td>On-site</td>\n",
       "      <td>Mole Valley Farmers</td>\n",
       "      <td>not specified</td>\n",
       "      <td>not specified</td>\n",
       "      <td>None</td>\n",
       "      <td>Salary:     To b...</td>\n",
       "      <td>0</td>\n",
       "    </tr>\n",
       "    <tr>\n",
       "      <th>4</th>\n",
       "      <td>Data Analyst</td>\n",
       "      <td>Lugano</td>\n",
       "      <td>Switzerland</td>\n",
       "      <td>On-site</td>\n",
       "      <td>FORFIRM</td>\n",
       "      <td>not specified</td>\n",
       "      <td>not specified</td>\n",
       "      <td>None</td>\n",
       "      <td>FORFIRM     is p...</td>\n",
       "      <td>0</td>\n",
       "    </tr>\n",
       "  </tbody>\n",
       "</table>\n",
       "</div>"
      ],
      "text/plain": [
       "                             title      location          country  \\\n",
       "0                     Data Analyst         Basel      Switzerland   \n",
       "1         Data Analyst - Logistics      Coventry   United Kingdom   \n",
       "2         Data Analyst - Logistics      Coventry   United Kingdom   \n",
       "3  Data Analyst (Space & Planning)  South Molton   United Kingdom   \n",
       "4                     Data Analyst        Lugano      Switzerland   \n",
       "\n",
       "  employment_type                              company_name     employee_qty  \\\n",
       "0         On-site  PharmiWeb.Jobs: Global Life Science Jobs  11-50 employees   \n",
       "1         On-site                      Resolute Recruitment    not specified   \n",
       "2         On-site                      Resolute Recruitment    not specified   \n",
       "3         On-site                       Mole Valley Farmers    not specified   \n",
       "4         On-site                                   FORFIRM    not specified   \n",
       "\n",
       "             company_field skills  \\\n",
       "0  Staffing and Recruiting   None   \n",
       "1            not specified   None   \n",
       "2            not specified   None   \n",
       "3            not specified   None   \n",
       "4            not specified   None   \n",
       "\n",
       "                                     job_description  applicants  \n",
       "0                              What You Will Achi...          47  \n",
       "1                                                              0  \n",
       "2                               Data Analyst - Lo...           0  \n",
       "3                                Salary:     To b...           0  \n",
       "4                                FORFIRM     is p...           0  "
      ]
     },
     "execution_count": 21,
     "metadata": {},
     "output_type": "execute_result"
    }
   ],
   "source": [
    "# Создадим новую таблицу tab_1, где в столбце со скилами - пропуски:\n",
    "tab_1 = df[df['skills']=='None'].reset_index(drop=True)\n",
    "tab_1.head()"
   ]
  },
  {
   "cell_type": "code",
   "execution_count": 22,
   "metadata": {
    "colab": {
     "base_uri": "https://localhost:8080/",
     "height": 206
    },
    "id": "jRoTyg-CGex1",
    "outputId": "f126525e-dde3-4811-f06a-ee6a4bd7bd09"
   },
   "outputs": [
    {
     "data": {
      "text/html": [
       "<div>\n",
       "<style scoped>\n",
       "    .dataframe tbody tr th:only-of-type {\n",
       "        vertical-align: middle;\n",
       "    }\n",
       "\n",
       "    .dataframe tbody tr th {\n",
       "        vertical-align: top;\n",
       "    }\n",
       "\n",
       "    .dataframe thead th {\n",
       "        text-align: right;\n",
       "    }\n",
       "</style>\n",
       "<table border=\"1\" class=\"dataframe\">\n",
       "  <thead>\n",
       "    <tr style=\"text-align: right;\">\n",
       "      <th></th>\n",
       "      <th>title</th>\n",
       "      <th>location</th>\n",
       "      <th>country</th>\n",
       "      <th>employment_type</th>\n",
       "      <th>company_name</th>\n",
       "      <th>employee_qty</th>\n",
       "      <th>company_field</th>\n",
       "      <th>skills</th>\n",
       "      <th>job_description</th>\n",
       "      <th>applicants</th>\n",
       "    </tr>\n",
       "  </thead>\n",
       "  <tbody>\n",
       "    <tr>\n",
       "      <th>0</th>\n",
       "      <td>Data Analyst</td>\n",
       "      <td>Paris</td>\n",
       "      <td>France</td>\n",
       "      <td>On-site</td>\n",
       "      <td>eXalt</td>\n",
       "      <td>501-1,000 employees</td>\n",
       "      <td>IT Services and IT Consulting</td>\n",
       "      <td>&lt;span class=\"visually-hidden\"&gt;&lt;!-- --&gt;Skills: ...</td>\n",
       "      <td>Qui sont-ils ?   ...</td>\n",
       "      <td>140</td>\n",
       "    </tr>\n",
       "    <tr>\n",
       "      <th>1</th>\n",
       "      <td>Commercial Data Analyst</td>\n",
       "      <td>Schiphol</td>\n",
       "      <td>Netherlands</td>\n",
       "      <td>On-site</td>\n",
       "      <td>Royal Schiphol Group</td>\n",
       "      <td>1,001-5,000 employees</td>\n",
       "      <td>Airlines and Aviation</td>\n",
       "      <td>&lt;span class=\"visually-hidden\"&gt;&lt;!-- --&gt;Skills: ...</td>\n",
       "      <td>De functie    Welk...</td>\n",
       "      <td>13</td>\n",
       "    </tr>\n",
       "    <tr>\n",
       "      <th>2</th>\n",
       "      <td>Data Analyst II</td>\n",
       "      <td>Dublin</td>\n",
       "      <td>Ireland</td>\n",
       "      <td>On-site</td>\n",
       "      <td>PharmiWeb.Jobs: Global Life Science Jobs</td>\n",
       "      <td>11-50 employees</td>\n",
       "      <td>Staffing and Recruiting</td>\n",
       "      <td>&lt;span class=\"visually-hidden\"&gt;&lt;!-- --&gt;Skills: ...</td>\n",
       "      <td>Title: Senior QA A...</td>\n",
       "      <td>30</td>\n",
       "    </tr>\n",
       "    <tr>\n",
       "      <th>3</th>\n",
       "      <td>Data Analyst (F/H)</td>\n",
       "      <td>Dijon</td>\n",
       "      <td>France</td>\n",
       "      <td>Hybrid</td>\n",
       "      <td>Neos-SDI</td>\n",
       "      <td>51-200 employees</td>\n",
       "      <td>Information Technology &amp; Services</td>\n",
       "      <td>&lt;span class=\"visually-hidden\"&gt;&lt;!-- --&gt;Skills: ...</td>\n",
       "      <td>L’équipe Data de ...</td>\n",
       "      <td>141</td>\n",
       "    </tr>\n",
       "    <tr>\n",
       "      <th>4</th>\n",
       "      <td>BI Analyst</td>\n",
       "      <td>Alsónémedi</td>\n",
       "      <td>Hungary</td>\n",
       "      <td>Hybrid</td>\n",
       "      <td>GLS</td>\n",
       "      <td>10,001+ employees</td>\n",
       "      <td>Transportation, Logistics, Supply Chain and St...</td>\n",
       "      <td>&lt;span class=\"visually-hidden\"&gt;&lt;!-- --&gt;Skills: ...</td>\n",
       "      <td>A GLS dinamikusan...</td>\n",
       "      <td>36</td>\n",
       "    </tr>\n",
       "  </tbody>\n",
       "</table>\n",
       "</div>"
      ],
      "text/plain": [
       "                     title    location       country employment_type  \\\n",
       "0             Data Analyst       Paris        France         On-site   \n",
       "1  Commercial Data Analyst    Schiphol   Netherlands         On-site   \n",
       "2          Data Analyst II      Dublin       Ireland         On-site   \n",
       "3       Data Analyst (F/H)       Dijon        France          Hybrid   \n",
       "4               BI Analyst  Alsónémedi       Hungary          Hybrid   \n",
       "\n",
       "                               company_name           employee_qty  \\\n",
       "0                                     eXalt    501-1,000 employees   \n",
       "1                      Royal Schiphol Group  1,001-5,000 employees   \n",
       "2  PharmiWeb.Jobs: Global Life Science Jobs        11-50 employees   \n",
       "3                                  Neos-SDI       51-200 employees   \n",
       "4                                       GLS      10,001+ employees   \n",
       "\n",
       "                                       company_field  \\\n",
       "0                      IT Services and IT Consulting   \n",
       "1                              Airlines and Aviation   \n",
       "2                            Staffing and Recruiting   \n",
       "3                  Information Technology & Services   \n",
       "4  Transportation, Logistics, Supply Chain and St...   \n",
       "\n",
       "                                              skills  \\\n",
       "0  <span class=\"visually-hidden\"><!-- -->Skills: ...   \n",
       "1  <span class=\"visually-hidden\"><!-- -->Skills: ...   \n",
       "2  <span class=\"visually-hidden\"><!-- -->Skills: ...   \n",
       "3  <span class=\"visually-hidden\"><!-- -->Skills: ...   \n",
       "4  <span class=\"visually-hidden\"><!-- -->Skills: ...   \n",
       "\n",
       "                                     job_description  applicants  \n",
       "0                               Qui sont-ils ?   ...         140  \n",
       "1                              De functie    Welk...          13  \n",
       "2                              Title: Senior QA A...          30  \n",
       "3                               L’équipe Data de ...         141  \n",
       "4                               A GLS dinamikusan...          36  "
      ]
     },
     "execution_count": 22,
     "metadata": {},
     "output_type": "execute_result"
    }
   ],
   "source": [
    "# Создадим новую таблицу tab_2, где в столбце со скилами есть данные:\n",
    "tab_2 = df[df['skills']!='None'].reset_index(drop=True)\n",
    "tab_2.head()"
   ]
  },
  {
   "cell_type": "markdown",
   "metadata": {
    "id": "L2k0hg2WGex1"
   },
   "source": [
    "Далее в этом разделе будем работать с таблицей tab_1:"
   ]
  },
  {
   "cell_type": "markdown",
   "metadata": {
    "id": "FYvo-vuWGex1"
   },
   "source": [
    "Для заполнения столбца со скилами будем анализировать описание вакансии (столбец \"job_description\" ) на предмет нахождения слов из ранее созданного списка со скилами:"
   ]
  },
  {
   "cell_type": "code",
   "execution_count": 23,
   "metadata": {
    "colab": {
     "base_uri": "https://localhost:8080/"
    },
    "id": "ENBP30rvwHjl",
    "outputId": "5d87df79-47c2-4cf9-a105-1d6076db26ad"
   },
   "outputs": [
    {
     "name": "stdout",
     "output_type": "stream",
     "text": [
      "Вариант 1:  []\n",
      "Вариант 2:  ['excel', 'github', 'python', 'sql']\n"
     ]
    }
   ],
   "source": [
    "# Функция с использованием регулярных выражений, которая разбивает фрагменты по границам слова и пробельным символам:\n",
    "def skills_finder(cell, skill_list_2=skills_list):\n",
    "    matched_skills_list=[]\n",
    "    cell = str(cell)\n",
    "    for i in skill_list_2:\n",
    "        if i == 'c++':\n",
    "            if re.search('\\Wc\\+\\+\\W', cell.lower()):\n",
    "                matched_skills_list.append(i)      \n",
    "        # word_border + rewritten \"i\" in special symbols + word_border\n",
    "        else:\n",
    "            pattern = (\n",
    "            r'(\\b|\\W)'\n",
    "            + re.escape(i)\n",
    "            + r'(\\b|\\W)'\n",
    "            +'|'\n",
    "            + r'(\\b|\\W)'\n",
    "            +re.escape(i.replace(' ', ''))\n",
    "            + r'(\\b|\\W)'\n",
    "        )\n",
    "            if re.search(pattern, cell.lower()):\n",
    "                matched_skills_list.append(i)\n",
    "    return matched_skills_list\n",
    "\n",
    "#Проверка на фразе:\n",
    "print('Вариант 1: ', skills_finder('i am an excellent data analyst who can assist and concert everything you can imagine'))  \n",
    "\n",
    "#Проверка на фразе, в которой есть перечисление скилов\n",
    "print('Вариант 2: ', skills_finder('i am an excellent data analyst. i know python, sql,excel. do not look further! check my github account'))"
   ]
  },
  {
   "cell_type": "code",
   "execution_count": 24,
   "metadata": {},
   "outputs": [],
   "source": [
    "# Функция возвращает на выходе список с найденными скилами:\n",
    "skills_list_1 = tab_1['job_description'].apply(skills_finder)"
   ]
  },
  {
   "cell_type": "code",
   "execution_count": 25,
   "metadata": {
    "id": "SVNZPq3IGex1"
   },
   "outputs": [],
   "source": [
    "# Запишем полученный список в новый столбец датафрейма с найденными скилами:\n",
    "tab_1['new_skills'] = pd.DataFrame(skills_list_1)"
   ]
  },
  {
   "cell_type": "code",
   "execution_count": 26,
   "metadata": {
    "colab": {
     "base_uri": "https://localhost:8080/"
    },
    "id": "YaRClkywGex1",
    "outputId": "d3dd0f4b-40c6-4c5a-cdf3-a686eb84a837"
   },
   "outputs": [
    {
     "data": {
      "text/plain": [
       "0     [data mining, excel, sap, sas, spss, sql, stat...\n",
       "1                                                    []\n",
       "2                                                 [wfh]\n",
       "3                                               [excel]\n",
       "4     [aws, data warehouse, etl, gcp, oracle, oracle...\n",
       "                            ...                        \n",
       "89                  [data mining, excel, power bi, sap]\n",
       "90                              [power bi, python, sql]\n",
       "91    [etl, hana, microsoft sql, power bi, sap, sql,...\n",
       "92             [data mining, data warehouse, datastage]\n",
       "93          [power bi, scrum, kanban, machine learning]\n",
       "Name: new_skills, Length: 94, dtype: object"
      ]
     },
     "execution_count": 26,
     "metadata": {},
     "output_type": "execute_result"
    }
   ],
   "source": [
    "# Посмторим на полученные данные:\n",
    "tab_1['new_skills']"
   ]
  },
  {
   "cell_type": "code",
   "execution_count": 27,
   "metadata": {
    "id": "EqpVJoFeGex1"
   },
   "outputs": [],
   "source": [
    "# Переведем полученные список скилов в строковый формат:\n",
    "tab_1['new_skills'] = tab_1['new_skills'].apply(lambda x: ','.join([str(i) for i in x]))"
   ]
  },
  {
   "cell_type": "markdown",
   "metadata": {
    "id": "42Aj2CXpGex1"
   },
   "source": [
    "Избавимся от ненужного столбца:"
   ]
  },
  {
   "cell_type": "code",
   "execution_count": 28,
   "metadata": {
    "colab": {
     "base_uri": "https://localhost:8080/",
     "height": 143
    },
    "id": "LrKaOCrVGex1",
    "outputId": "fd23be9b-69e6-4434-84e5-1a68ca6baa33"
   },
   "outputs": [
    {
     "data": {
      "text/html": [
       "<div>\n",
       "<style scoped>\n",
       "    .dataframe tbody tr th:only-of-type {\n",
       "        vertical-align: middle;\n",
       "    }\n",
       "\n",
       "    .dataframe tbody tr th {\n",
       "        vertical-align: top;\n",
       "    }\n",
       "\n",
       "    .dataframe thead th {\n",
       "        text-align: right;\n",
       "    }\n",
       "</style>\n",
       "<table border=\"1\" class=\"dataframe\">\n",
       "  <thead>\n",
       "    <tr style=\"text-align: right;\">\n",
       "      <th></th>\n",
       "      <th>title</th>\n",
       "      <th>location</th>\n",
       "      <th>country</th>\n",
       "      <th>employment_type</th>\n",
       "      <th>company_name</th>\n",
       "      <th>employee_qty</th>\n",
       "      <th>company_field</th>\n",
       "      <th>job_description</th>\n",
       "      <th>applicants</th>\n",
       "      <th>new_skills</th>\n",
       "    </tr>\n",
       "  </thead>\n",
       "  <tbody>\n",
       "    <tr>\n",
       "      <th>0</th>\n",
       "      <td>Data Analyst</td>\n",
       "      <td>Basel</td>\n",
       "      <td>Switzerland</td>\n",
       "      <td>On-site</td>\n",
       "      <td>PharmiWeb.Jobs: Global Life Science Jobs</td>\n",
       "      <td>11-50 employees</td>\n",
       "      <td>Staffing and Recruiting</td>\n",
       "      <td>What You Will Achi...</td>\n",
       "      <td>47</td>\n",
       "      <td>data mining,excel,sap,sas,spss,sql,statistics</td>\n",
       "    </tr>\n",
       "    <tr>\n",
       "      <th>1</th>\n",
       "      <td>Data Analyst - Logistics</td>\n",
       "      <td>Coventry</td>\n",
       "      <td>United Kingdom</td>\n",
       "      <td>On-site</td>\n",
       "      <td>Resolute Recruitment</td>\n",
       "      <td>not specified</td>\n",
       "      <td>not specified</td>\n",
       "      <td></td>\n",
       "      <td>0</td>\n",
       "      <td></td>\n",
       "    </tr>\n",
       "    <tr>\n",
       "      <th>2</th>\n",
       "      <td>Data Analyst - Logistics</td>\n",
       "      <td>Coventry</td>\n",
       "      <td>United Kingdom</td>\n",
       "      <td>On-site</td>\n",
       "      <td>Resolute Recruitment</td>\n",
       "      <td>not specified</td>\n",
       "      <td>not specified</td>\n",
       "      <td>Data Analyst - Lo...</td>\n",
       "      <td>0</td>\n",
       "      <td>wfh</td>\n",
       "    </tr>\n",
       "  </tbody>\n",
       "</table>\n",
       "</div>"
      ],
      "text/plain": [
       "                      title  location          country employment_type  \\\n",
       "0              Data Analyst     Basel      Switzerland         On-site   \n",
       "1  Data Analyst - Logistics  Coventry   United Kingdom         On-site   \n",
       "2  Data Analyst - Logistics  Coventry   United Kingdom         On-site   \n",
       "\n",
       "                               company_name     employee_qty  \\\n",
       "0  PharmiWeb.Jobs: Global Life Science Jobs  11-50 employees   \n",
       "1                      Resolute Recruitment    not specified   \n",
       "2                      Resolute Recruitment    not specified   \n",
       "\n",
       "             company_field                                    job_description  \\\n",
       "0  Staffing and Recruiting                              What You Will Achi...   \n",
       "1            not specified                                                      \n",
       "2            not specified                               Data Analyst - Lo...   \n",
       "\n",
       "   applicants                                     new_skills  \n",
       "0          47  data mining,excel,sap,sas,spss,sql,statistics  \n",
       "1           0                                                 \n",
       "2           0                                            wfh  "
      ]
     },
     "execution_count": 28,
     "metadata": {},
     "output_type": "execute_result"
    }
   ],
   "source": [
    "tab_1 = tab_1.drop(['skills'], axis=1)\n",
    "tab_1.head(3)"
   ]
  },
  {
   "cell_type": "markdown",
   "metadata": {
    "id": "7Kx6oVLTGex1"
   },
   "source": [
    "  <a id=\"hard_skills_on\"></a> \n",
    " #### 3.5.2.  Обработка таблицы с заполненным столбцом с хард скилами"
   ]
  },
  {
   "cell_type": "markdown",
   "metadata": {
    "id": "K-1WUcUsGex2"
   },
   "source": [
    "Оценим ситуацию со скилами во второй таблице - tab_2. "
   ]
  },
  {
   "cell_type": "code",
   "execution_count": 29,
   "metadata": {
    "colab": {
     "base_uri": "https://localhost:8080/"
    },
    "id": "etX2WOlVGex2",
    "outputId": "73bee621-59ab-4431-c607-9da3e5eebfba"
   },
   "outputs": [
    {
     "data": {
      "text/plain": [
       "0    <span class=\"visually-hidden\"><!-- -->Skills: ...\n",
       "1    <span class=\"visually-hidden\"><!-- -->Skills: ...\n",
       "2    <span class=\"visually-hidden\"><!-- -->Skills: ...\n",
       "3    <span class=\"visually-hidden\"><!-- -->Skills: ...\n",
       "4    <span class=\"visually-hidden\"><!-- -->Skills: ...\n",
       "Name: skills, dtype: object"
      ]
     },
     "execution_count": 29,
     "metadata": {},
     "output_type": "execute_result"
    }
   ],
   "source": [
    "tab_2['skills'].head()"
   ]
  },
  {
   "cell_type": "markdown",
   "metadata": {
    "id": "kLShEbdxGex2"
   },
   "source": [
    "Для очистки данных в этом столбце применить лямбда - функцию. Ее задачей будет удаление ненужных символов в столбце:"
   ]
  },
  {
   "cell_type": "code",
   "execution_count": 30,
   "metadata": {
    "colab": {
     "base_uri": "https://localhost:8080/"
    },
    "id": "Q0Y9eDrdGex2",
    "outputId": "fa431bf4-3077-46dc-d35a-0d700a76725e"
   },
   "outputs": [
    {
     "data": {
      "text/plain": [
       "0             анализ данных, визуализация данных\n",
       "1               панель управления, анализ данных\n",
       "2             data analytics, компьютерная наука\n",
       "3                           ssrs, услуги анализа\n",
       "4                      sql, анализ бизнес-данных\n",
       "                         ...                    \n",
       "490                 коммуникация, salesforce.com\n",
       "491           командная работа, принятие решений\n",
       "492                      английский язык, python\n",
       "493     marketing campaigns, marketing reporting\n",
       "494          data analytics, визуализация данных\n",
       "Name: skills, Length: 495, dtype: object"
      ]
     },
     "execution_count": 30,
     "metadata": {},
     "output_type": "execute_result"
    }
   ],
   "source": [
    "# Применим лямбда-функцию и приведем скилы к нижнему регистру:\n",
    "tab_2['skills']= tab_2['skills'].apply(lambda x: x[x.find(\":\")+1:x.find(\", +\")]).str.lower()\n",
    "tab_2['skills']"
   ]
  },
  {
   "cell_type": "markdown",
   "metadata": {
    "id": "li2b6Ol8Gex2"
   },
   "source": [
    "Для дозаполнения столбца применим написанную ранее функцию по поиску скилов в описании вакансий:"
   ]
  },
  {
   "cell_type": "code",
   "execution_count": 31,
   "metadata": {
    "id": "K_DIfxa6Gex2"
   },
   "outputs": [],
   "source": [
    "skills_list_2 = tab_2['job_description'].apply(skills_finder)"
   ]
  },
  {
   "cell_type": "code",
   "execution_count": 32,
   "metadata": {
    "id": "5U59xtgpGex2"
   },
   "outputs": [],
   "source": [
    "tab_2['new_skill'] = pd.DataFrame(skills_list_2)"
   ]
  },
  {
   "cell_type": "code",
   "execution_count": 33,
   "metadata": {
    "colab": {
     "base_uri": "https://localhost:8080/",
     "height": 143
    },
    "id": "pQwghoD4Gex2",
    "outputId": "bb91c0c3-361e-4778-afc5-6903a51d7ef7"
   },
   "outputs": [
    {
     "data": {
      "text/html": [
       "<div>\n",
       "<style scoped>\n",
       "    .dataframe tbody tr th:only-of-type {\n",
       "        vertical-align: middle;\n",
       "    }\n",
       "\n",
       "    .dataframe tbody tr th {\n",
       "        vertical-align: top;\n",
       "    }\n",
       "\n",
       "    .dataframe thead th {\n",
       "        text-align: right;\n",
       "    }\n",
       "</style>\n",
       "<table border=\"1\" class=\"dataframe\">\n",
       "  <thead>\n",
       "    <tr style=\"text-align: right;\">\n",
       "      <th></th>\n",
       "      <th>title</th>\n",
       "      <th>location</th>\n",
       "      <th>country</th>\n",
       "      <th>employment_type</th>\n",
       "      <th>company_name</th>\n",
       "      <th>employee_qty</th>\n",
       "      <th>company_field</th>\n",
       "      <th>skills</th>\n",
       "      <th>job_description</th>\n",
       "      <th>applicants</th>\n",
       "      <th>new_skill</th>\n",
       "    </tr>\n",
       "  </thead>\n",
       "  <tbody>\n",
       "    <tr>\n",
       "      <th>0</th>\n",
       "      <td>Data Analyst</td>\n",
       "      <td>Paris</td>\n",
       "      <td>France</td>\n",
       "      <td>On-site</td>\n",
       "      <td>eXalt</td>\n",
       "      <td>501-1,000 employees</td>\n",
       "      <td>IT Services and IT Consulting</td>\n",
       "      <td>анализ данных, визуализация данных</td>\n",
       "      <td>Qui sont-ils ?   ...</td>\n",
       "      <td>140</td>\n",
       "      <td>dataiku,nosql,power bi,qlikview,sql,tableau</td>\n",
       "    </tr>\n",
       "    <tr>\n",
       "      <th>1</th>\n",
       "      <td>Commercial Data Analyst</td>\n",
       "      <td>Schiphol</td>\n",
       "      <td>Netherlands</td>\n",
       "      <td>On-site</td>\n",
       "      <td>Royal Schiphol Group</td>\n",
       "      <td>1,001-5,000 employees</td>\n",
       "      <td>Airlines and Aviation</td>\n",
       "      <td>панель управления, анализ данных</td>\n",
       "      <td>De functie    Welk...</td>\n",
       "      <td>13</td>\n",
       "      <td>power bi,scala,sql</td>\n",
       "    </tr>\n",
       "    <tr>\n",
       "      <th>2</th>\n",
       "      <td>Data Analyst II</td>\n",
       "      <td>Dublin</td>\n",
       "      <td>Ireland</td>\n",
       "      <td>On-site</td>\n",
       "      <td>PharmiWeb.Jobs: Global Life Science Jobs</td>\n",
       "      <td>11-50 employees</td>\n",
       "      <td>Staffing and Recruiting</td>\n",
       "      <td>data analytics, компьютерная наука</td>\n",
       "      <td>Title: Senior QA A...</td>\n",
       "      <td>30</td>\n",
       "      <td>power bi,python,spotfire,sql,statistics,machin...</td>\n",
       "    </tr>\n",
       "  </tbody>\n",
       "</table>\n",
       "</div>"
      ],
      "text/plain": [
       "                     title  location       country employment_type  \\\n",
       "0             Data Analyst     Paris        France         On-site   \n",
       "1  Commercial Data Analyst  Schiphol   Netherlands         On-site   \n",
       "2          Data Analyst II    Dublin       Ireland         On-site   \n",
       "\n",
       "                               company_name           employee_qty  \\\n",
       "0                                     eXalt    501-1,000 employees   \n",
       "1                      Royal Schiphol Group  1,001-5,000 employees   \n",
       "2  PharmiWeb.Jobs: Global Life Science Jobs        11-50 employees   \n",
       "\n",
       "                   company_field                               skills  \\\n",
       "0  IT Services and IT Consulting   анализ данных, визуализация данных   \n",
       "1          Airlines and Aviation     панель управления, анализ данных   \n",
       "2        Staffing and Recruiting   data analytics, компьютерная наука   \n",
       "\n",
       "                                     job_description  applicants  \\\n",
       "0                               Qui sont-ils ?   ...         140   \n",
       "1                              De functie    Welk...          13   \n",
       "2                              Title: Senior QA A...          30   \n",
       "\n",
       "                                           new_skill  \n",
       "0        dataiku,nosql,power bi,qlikview,sql,tableau  \n",
       "1                                 power bi,scala,sql  \n",
       "2  power bi,python,spotfire,sql,statistics,machin...  "
      ]
     },
     "execution_count": 33,
     "metadata": {},
     "output_type": "execute_result"
    }
   ],
   "source": [
    "tab_2['new_skill'] = tab_2['new_skill'].apply(lambda x: ','.join([str(i) for i in x]))\n",
    "tab_2.head(3)"
   ]
  },
  {
   "cell_type": "markdown",
   "metadata": {},
   "source": [
    "Создадим новый столбец с общими скилами из двух предыдущих столбцов:"
   ]
  },
  {
   "cell_type": "code",
   "execution_count": 34,
   "metadata": {
    "id": "6Cv_qqX6Gex2"
   },
   "outputs": [],
   "source": [
    "tab_2['new_skills'] = tab_2['skills']+[',']+ tab_2['new_skill']"
   ]
  },
  {
   "cell_type": "code",
   "execution_count": 35,
   "metadata": {
    "colab": {
     "base_uri": "https://localhost:8080/",
     "height": 206
    },
    "id": "nkOLRHQ3Gex2",
    "outputId": "a2f8a5fd-8b3b-43d5-b2da-5b0123ea2754"
   },
   "outputs": [
    {
     "data": {
      "text/html": [
       "<div>\n",
       "<style scoped>\n",
       "    .dataframe tbody tr th:only-of-type {\n",
       "        vertical-align: middle;\n",
       "    }\n",
       "\n",
       "    .dataframe tbody tr th {\n",
       "        vertical-align: top;\n",
       "    }\n",
       "\n",
       "    .dataframe thead th {\n",
       "        text-align: right;\n",
       "    }\n",
       "</style>\n",
       "<table border=\"1\" class=\"dataframe\">\n",
       "  <thead>\n",
       "    <tr style=\"text-align: right;\">\n",
       "      <th></th>\n",
       "      <th>title</th>\n",
       "      <th>location</th>\n",
       "      <th>country</th>\n",
       "      <th>employment_type</th>\n",
       "      <th>company_name</th>\n",
       "      <th>employee_qty</th>\n",
       "      <th>company_field</th>\n",
       "      <th>skills</th>\n",
       "      <th>job_description</th>\n",
       "      <th>applicants</th>\n",
       "      <th>new_skill</th>\n",
       "      <th>new_skills</th>\n",
       "    </tr>\n",
       "  </thead>\n",
       "  <tbody>\n",
       "    <tr>\n",
       "      <th>0</th>\n",
       "      <td>Data Analyst</td>\n",
       "      <td>Paris</td>\n",
       "      <td>France</td>\n",
       "      <td>On-site</td>\n",
       "      <td>eXalt</td>\n",
       "      <td>501-1,000 employees</td>\n",
       "      <td>IT Services and IT Consulting</td>\n",
       "      <td>анализ данных, визуализация данных</td>\n",
       "      <td>Qui sont-ils ?   ...</td>\n",
       "      <td>140</td>\n",
       "      <td>dataiku,nosql,power bi,qlikview,sql,tableau</td>\n",
       "      <td>анализ данных, визуализация данных,dataiku,no...</td>\n",
       "    </tr>\n",
       "    <tr>\n",
       "      <th>1</th>\n",
       "      <td>Commercial Data Analyst</td>\n",
       "      <td>Schiphol</td>\n",
       "      <td>Netherlands</td>\n",
       "      <td>On-site</td>\n",
       "      <td>Royal Schiphol Group</td>\n",
       "      <td>1,001-5,000 employees</td>\n",
       "      <td>Airlines and Aviation</td>\n",
       "      <td>панель управления, анализ данных</td>\n",
       "      <td>De functie    Welk...</td>\n",
       "      <td>13</td>\n",
       "      <td>power bi,scala,sql</td>\n",
       "      <td>панель управления, анализ данных,power bi,sca...</td>\n",
       "    </tr>\n",
       "    <tr>\n",
       "      <th>2</th>\n",
       "      <td>Data Analyst II</td>\n",
       "      <td>Dublin</td>\n",
       "      <td>Ireland</td>\n",
       "      <td>On-site</td>\n",
       "      <td>PharmiWeb.Jobs: Global Life Science Jobs</td>\n",
       "      <td>11-50 employees</td>\n",
       "      <td>Staffing and Recruiting</td>\n",
       "      <td>data analytics, компьютерная наука</td>\n",
       "      <td>Title: Senior QA A...</td>\n",
       "      <td>30</td>\n",
       "      <td>power bi,python,spotfire,sql,statistics,machin...</td>\n",
       "      <td>data analytics, компьютерная наука,power bi,p...</td>\n",
       "    </tr>\n",
       "    <tr>\n",
       "      <th>3</th>\n",
       "      <td>Data Analyst (F/H)</td>\n",
       "      <td>Dijon</td>\n",
       "      <td>France</td>\n",
       "      <td>Hybrid</td>\n",
       "      <td>Neos-SDI</td>\n",
       "      <td>51-200 employees</td>\n",
       "      <td>Information Technology &amp; Services</td>\n",
       "      <td>ssrs, услуги анализа</td>\n",
       "      <td>L’équipe Data de ...</td>\n",
       "      <td>141</td>\n",
       "      <td>power bi,sql</td>\n",
       "      <td>ssrs, услуги анализа,power bi,sql</td>\n",
       "    </tr>\n",
       "    <tr>\n",
       "      <th>4</th>\n",
       "      <td>BI Analyst</td>\n",
       "      <td>Alsónémedi</td>\n",
       "      <td>Hungary</td>\n",
       "      <td>Hybrid</td>\n",
       "      <td>GLS</td>\n",
       "      <td>10,001+ employees</td>\n",
       "      <td>Transportation, Logistics, Supply Chain and St...</td>\n",
       "      <td>sql, анализ бизнес-данных</td>\n",
       "      <td>A GLS dinamikusan...</td>\n",
       "      <td>36</td>\n",
       "      <td>power bi,sql,tableau</td>\n",
       "      <td>sql, анализ бизнес-данных,power bi,sql,tableau</td>\n",
       "    </tr>\n",
       "  </tbody>\n",
       "</table>\n",
       "</div>"
      ],
      "text/plain": [
       "                     title    location       country employment_type  \\\n",
       "0             Data Analyst       Paris        France         On-site   \n",
       "1  Commercial Data Analyst    Schiphol   Netherlands         On-site   \n",
       "2          Data Analyst II      Dublin       Ireland         On-site   \n",
       "3       Data Analyst (F/H)       Dijon        France          Hybrid   \n",
       "4               BI Analyst  Alsónémedi       Hungary          Hybrid   \n",
       "\n",
       "                               company_name           employee_qty  \\\n",
       "0                                     eXalt    501-1,000 employees   \n",
       "1                      Royal Schiphol Group  1,001-5,000 employees   \n",
       "2  PharmiWeb.Jobs: Global Life Science Jobs        11-50 employees   \n",
       "3                                  Neos-SDI       51-200 employees   \n",
       "4                                       GLS      10,001+ employees   \n",
       "\n",
       "                                       company_field  \\\n",
       "0                      IT Services and IT Consulting   \n",
       "1                              Airlines and Aviation   \n",
       "2                            Staffing and Recruiting   \n",
       "3                  Information Technology & Services   \n",
       "4  Transportation, Logistics, Supply Chain and St...   \n",
       "\n",
       "                                skills  \\\n",
       "0   анализ данных, визуализация данных   \n",
       "1     панель управления, анализ данных   \n",
       "2   data analytics, компьютерная наука   \n",
       "3                 ssrs, услуги анализа   \n",
       "4            sql, анализ бизнес-данных   \n",
       "\n",
       "                                     job_description  applicants  \\\n",
       "0                               Qui sont-ils ?   ...         140   \n",
       "1                              De functie    Welk...          13   \n",
       "2                              Title: Senior QA A...          30   \n",
       "3                               L’équipe Data de ...         141   \n",
       "4                               A GLS dinamikusan...          36   \n",
       "\n",
       "                                           new_skill  \\\n",
       "0        dataiku,nosql,power bi,qlikview,sql,tableau   \n",
       "1                                 power bi,scala,sql   \n",
       "2  power bi,python,spotfire,sql,statistics,machin...   \n",
       "3                                       power bi,sql   \n",
       "4                               power bi,sql,tableau   \n",
       "\n",
       "                                          new_skills  \n",
       "0   анализ данных, визуализация данных,dataiku,no...  \n",
       "1   панель управления, анализ данных,power bi,sca...  \n",
       "2   data analytics, компьютерная наука,power bi,p...  \n",
       "3                  ssrs, услуги анализа,power bi,sql  \n",
       "4     sql, анализ бизнес-данных,power bi,sql,tableau  "
      ]
     },
     "execution_count": 35,
     "metadata": {},
     "output_type": "execute_result"
    }
   ],
   "source": [
    "tab_2.head()"
   ]
  },
  {
   "cell_type": "markdown",
   "metadata": {
    "id": "hhuqjOMtGex2"
   },
   "source": [
    "Избавимся от ненужных столбцов:"
   ]
  },
  {
   "cell_type": "code",
   "execution_count": 36,
   "metadata": {
    "colab": {
     "base_uri": "https://localhost:8080/",
     "height": 206
    },
    "id": "oBnG1AIMGex2",
    "outputId": "30c87bfe-d2b3-4321-df47-8d9736835f4b"
   },
   "outputs": [
    {
     "data": {
      "text/html": [
       "<div>\n",
       "<style scoped>\n",
       "    .dataframe tbody tr th:only-of-type {\n",
       "        vertical-align: middle;\n",
       "    }\n",
       "\n",
       "    .dataframe tbody tr th {\n",
       "        vertical-align: top;\n",
       "    }\n",
       "\n",
       "    .dataframe thead th {\n",
       "        text-align: right;\n",
       "    }\n",
       "</style>\n",
       "<table border=\"1\" class=\"dataframe\">\n",
       "  <thead>\n",
       "    <tr style=\"text-align: right;\">\n",
       "      <th></th>\n",
       "      <th>title</th>\n",
       "      <th>location</th>\n",
       "      <th>country</th>\n",
       "      <th>employment_type</th>\n",
       "      <th>company_name</th>\n",
       "      <th>employee_qty</th>\n",
       "      <th>company_field</th>\n",
       "      <th>job_description</th>\n",
       "      <th>applicants</th>\n",
       "      <th>new_skills</th>\n",
       "    </tr>\n",
       "  </thead>\n",
       "  <tbody>\n",
       "    <tr>\n",
       "      <th>0</th>\n",
       "      <td>Data Analyst</td>\n",
       "      <td>Paris</td>\n",
       "      <td>France</td>\n",
       "      <td>On-site</td>\n",
       "      <td>eXalt</td>\n",
       "      <td>501-1,000 employees</td>\n",
       "      <td>IT Services and IT Consulting</td>\n",
       "      <td>Qui sont-ils ?   ...</td>\n",
       "      <td>140</td>\n",
       "      <td>анализ данных, визуализация данных,dataiku,no...</td>\n",
       "    </tr>\n",
       "    <tr>\n",
       "      <th>1</th>\n",
       "      <td>Commercial Data Analyst</td>\n",
       "      <td>Schiphol</td>\n",
       "      <td>Netherlands</td>\n",
       "      <td>On-site</td>\n",
       "      <td>Royal Schiphol Group</td>\n",
       "      <td>1,001-5,000 employees</td>\n",
       "      <td>Airlines and Aviation</td>\n",
       "      <td>De functie    Welk...</td>\n",
       "      <td>13</td>\n",
       "      <td>панель управления, анализ данных,power bi,sca...</td>\n",
       "    </tr>\n",
       "    <tr>\n",
       "      <th>2</th>\n",
       "      <td>Data Analyst II</td>\n",
       "      <td>Dublin</td>\n",
       "      <td>Ireland</td>\n",
       "      <td>On-site</td>\n",
       "      <td>PharmiWeb.Jobs: Global Life Science Jobs</td>\n",
       "      <td>11-50 employees</td>\n",
       "      <td>Staffing and Recruiting</td>\n",
       "      <td>Title: Senior QA A...</td>\n",
       "      <td>30</td>\n",
       "      <td>data analytics, компьютерная наука,power bi,p...</td>\n",
       "    </tr>\n",
       "    <tr>\n",
       "      <th>3</th>\n",
       "      <td>Data Analyst (F/H)</td>\n",
       "      <td>Dijon</td>\n",
       "      <td>France</td>\n",
       "      <td>Hybrid</td>\n",
       "      <td>Neos-SDI</td>\n",
       "      <td>51-200 employees</td>\n",
       "      <td>Information Technology &amp; Services</td>\n",
       "      <td>L’équipe Data de ...</td>\n",
       "      <td>141</td>\n",
       "      <td>ssrs, услуги анализа,power bi,sql</td>\n",
       "    </tr>\n",
       "    <tr>\n",
       "      <th>4</th>\n",
       "      <td>BI Analyst</td>\n",
       "      <td>Alsónémedi</td>\n",
       "      <td>Hungary</td>\n",
       "      <td>Hybrid</td>\n",
       "      <td>GLS</td>\n",
       "      <td>10,001+ employees</td>\n",
       "      <td>Transportation, Logistics, Supply Chain and St...</td>\n",
       "      <td>A GLS dinamikusan...</td>\n",
       "      <td>36</td>\n",
       "      <td>sql, анализ бизнес-данных,power bi,sql,tableau</td>\n",
       "    </tr>\n",
       "  </tbody>\n",
       "</table>\n",
       "</div>"
      ],
      "text/plain": [
       "                     title    location       country employment_type  \\\n",
       "0             Data Analyst       Paris        France         On-site   \n",
       "1  Commercial Data Analyst    Schiphol   Netherlands         On-site   \n",
       "2          Data Analyst II      Dublin       Ireland         On-site   \n",
       "3       Data Analyst (F/H)       Dijon        France          Hybrid   \n",
       "4               BI Analyst  Alsónémedi       Hungary          Hybrid   \n",
       "\n",
       "                               company_name           employee_qty  \\\n",
       "0                                     eXalt    501-1,000 employees   \n",
       "1                      Royal Schiphol Group  1,001-5,000 employees   \n",
       "2  PharmiWeb.Jobs: Global Life Science Jobs        11-50 employees   \n",
       "3                                  Neos-SDI       51-200 employees   \n",
       "4                                       GLS      10,001+ employees   \n",
       "\n",
       "                                       company_field  \\\n",
       "0                      IT Services and IT Consulting   \n",
       "1                              Airlines and Aviation   \n",
       "2                            Staffing and Recruiting   \n",
       "3                  Information Technology & Services   \n",
       "4  Transportation, Logistics, Supply Chain and St...   \n",
       "\n",
       "                                     job_description  applicants  \\\n",
       "0                               Qui sont-ils ?   ...         140   \n",
       "1                              De functie    Welk...          13   \n",
       "2                              Title: Senior QA A...          30   \n",
       "3                               L’équipe Data de ...         141   \n",
       "4                               A GLS dinamikusan...          36   \n",
       "\n",
       "                                          new_skills  \n",
       "0   анализ данных, визуализация данных,dataiku,no...  \n",
       "1   панель управления, анализ данных,power bi,sca...  \n",
       "2   data analytics, компьютерная наука,power bi,p...  \n",
       "3                  ssrs, услуги анализа,power bi,sql  \n",
       "4     sql, анализ бизнес-данных,power bi,sql,tableau  "
      ]
     },
     "execution_count": 36,
     "metadata": {},
     "output_type": "execute_result"
    }
   ],
   "source": [
    "tab_2 = tab_2.drop(['skills','new_skill'], axis=1)\n",
    "tab_2.head()"
   ]
  },
  {
   "cell_type": "markdown",
   "metadata": {
    "id": "T82I0MQYGex2"
   },
   "source": [
    " <a id=\"good_skills\"></a> \n",
    " ### 3.6.  Таблица с корректными hard skills"
   ]
  },
  {
   "cell_type": "markdown",
   "metadata": {
    "id": "BY9tYtjuGex2"
   },
   "source": [
    "Объединим откорректированные таблицы tab_1 и tab_2 для создания финальной таблицы для дальнейшей работы."
   ]
  },
  {
   "cell_type": "code",
   "execution_count": 37,
   "metadata": {
    "id": "bWRRee3UGex2"
   },
   "outputs": [],
   "source": [
    "data_new = pd.concat([tab_1,tab_2], sort = False, axis = 0)"
   ]
  },
  {
   "cell_type": "code",
   "execution_count": 38,
   "metadata": {
    "colab": {
     "base_uri": "https://localhost:8080/",
     "height": 206
    },
    "id": "E0lfydGOGex2",
    "outputId": "c8b1f8e6-1754-4d6e-91d9-ed249e0de576"
   },
   "outputs": [
    {
     "data": {
      "text/html": [
       "<div>\n",
       "<style scoped>\n",
       "    .dataframe tbody tr th:only-of-type {\n",
       "        vertical-align: middle;\n",
       "    }\n",
       "\n",
       "    .dataframe tbody tr th {\n",
       "        vertical-align: top;\n",
       "    }\n",
       "\n",
       "    .dataframe thead th {\n",
       "        text-align: right;\n",
       "    }\n",
       "</style>\n",
       "<table border=\"1\" class=\"dataframe\">\n",
       "  <thead>\n",
       "    <tr style=\"text-align: right;\">\n",
       "      <th></th>\n",
       "      <th>title</th>\n",
       "      <th>location</th>\n",
       "      <th>country</th>\n",
       "      <th>employment_type</th>\n",
       "      <th>company_name</th>\n",
       "      <th>employee_qty</th>\n",
       "      <th>company_field</th>\n",
       "      <th>job_description</th>\n",
       "      <th>applicants</th>\n",
       "      <th>new_skills</th>\n",
       "    </tr>\n",
       "  </thead>\n",
       "  <tbody>\n",
       "    <tr>\n",
       "      <th>0</th>\n",
       "      <td>Data Analyst</td>\n",
       "      <td>Basel</td>\n",
       "      <td>Switzerland</td>\n",
       "      <td>On-site</td>\n",
       "      <td>PharmiWeb.Jobs: Global Life Science Jobs</td>\n",
       "      <td>11-50 employees</td>\n",
       "      <td>Staffing and Recruiting</td>\n",
       "      <td>What You Will Achi...</td>\n",
       "      <td>47</td>\n",
       "      <td>data mining,excel,sap,sas,spss,sql,statistics</td>\n",
       "    </tr>\n",
       "    <tr>\n",
       "      <th>1</th>\n",
       "      <td>Data Analyst - Logistics</td>\n",
       "      <td>Coventry</td>\n",
       "      <td>United Kingdom</td>\n",
       "      <td>On-site</td>\n",
       "      <td>Resolute Recruitment</td>\n",
       "      <td>not specified</td>\n",
       "      <td>not specified</td>\n",
       "      <td></td>\n",
       "      <td>0</td>\n",
       "      <td></td>\n",
       "    </tr>\n",
       "    <tr>\n",
       "      <th>2</th>\n",
       "      <td>Data Analyst - Logistics</td>\n",
       "      <td>Coventry</td>\n",
       "      <td>United Kingdom</td>\n",
       "      <td>On-site</td>\n",
       "      <td>Resolute Recruitment</td>\n",
       "      <td>not specified</td>\n",
       "      <td>not specified</td>\n",
       "      <td>Data Analyst - Lo...</td>\n",
       "      <td>0</td>\n",
       "      <td>wfh</td>\n",
       "    </tr>\n",
       "    <tr>\n",
       "      <th>3</th>\n",
       "      <td>Data Analyst (Space &amp; Planning)</td>\n",
       "      <td>South Molton</td>\n",
       "      <td>United Kingdom</td>\n",
       "      <td>On-site</td>\n",
       "      <td>Mole Valley Farmers</td>\n",
       "      <td>not specified</td>\n",
       "      <td>not specified</td>\n",
       "      <td>Salary:     To b...</td>\n",
       "      <td>0</td>\n",
       "      <td>excel</td>\n",
       "    </tr>\n",
       "    <tr>\n",
       "      <th>4</th>\n",
       "      <td>Data Analyst</td>\n",
       "      <td>Lugano</td>\n",
       "      <td>Switzerland</td>\n",
       "      <td>On-site</td>\n",
       "      <td>FORFIRM</td>\n",
       "      <td>not specified</td>\n",
       "      <td>not specified</td>\n",
       "      <td>FORFIRM     is p...</td>\n",
       "      <td>0</td>\n",
       "      <td>aws,data warehouse,etl,gcp,oracle,oracle data ...</td>\n",
       "    </tr>\n",
       "  </tbody>\n",
       "</table>\n",
       "</div>"
      ],
      "text/plain": [
       "                             title      location          country  \\\n",
       "0                     Data Analyst         Basel      Switzerland   \n",
       "1         Data Analyst - Logistics      Coventry   United Kingdom   \n",
       "2         Data Analyst - Logistics      Coventry   United Kingdom   \n",
       "3  Data Analyst (Space & Planning)  South Molton   United Kingdom   \n",
       "4                     Data Analyst        Lugano      Switzerland   \n",
       "\n",
       "  employment_type                              company_name     employee_qty  \\\n",
       "0         On-site  PharmiWeb.Jobs: Global Life Science Jobs  11-50 employees   \n",
       "1         On-site                      Resolute Recruitment    not specified   \n",
       "2         On-site                      Resolute Recruitment    not specified   \n",
       "3         On-site                       Mole Valley Farmers    not specified   \n",
       "4         On-site                                   FORFIRM    not specified   \n",
       "\n",
       "             company_field                                    job_description  \\\n",
       "0  Staffing and Recruiting                              What You Will Achi...   \n",
       "1            not specified                                                      \n",
       "2            not specified                               Data Analyst - Lo...   \n",
       "3            not specified                                Salary:     To b...   \n",
       "4            not specified                                FORFIRM     is p...   \n",
       "\n",
       "   applicants                                         new_skills  \n",
       "0          47      data mining,excel,sap,sas,spss,sql,statistics  \n",
       "1           0                                                     \n",
       "2           0                                                wfh  \n",
       "3           0                                              excel  \n",
       "4           0  aws,data warehouse,etl,gcp,oracle,oracle data ...  "
      ]
     },
     "execution_count": 38,
     "metadata": {},
     "output_type": "execute_result"
    }
   ],
   "source": [
    "data_new.head()"
   ]
  },
  {
   "cell_type": "markdown",
   "metadata": {
    "id": "0hNY_bmXGex2"
   },
   "source": [
    "Проверим корректность объединения таблиц:"
   ]
  },
  {
   "cell_type": "code",
   "execution_count": 39,
   "metadata": {
    "colab": {
     "base_uri": "https://localhost:8080/"
    },
    "id": "I52A4EKtGex2",
    "outputId": "dd28c39a-40c4-423d-a805-aa767d0cab5b"
   },
   "outputs": [
    {
     "data": {
      "text/plain": [
       "(589, 10)"
      ]
     },
     "execution_count": 39,
     "metadata": {},
     "output_type": "execute_result"
    }
   ],
   "source": [
    "# размер объединенной таблицы:\n",
    "data_new.shape"
   ]
  },
  {
   "cell_type": "code",
   "execution_count": 40,
   "metadata": {
    "colab": {
     "base_uri": "https://localhost:8080/"
    },
    "id": "jPUW0U6MGex3",
    "outputId": "f7127dd3-3208-4ff8-9b8c-2b9b4396e4b5"
   },
   "outputs": [
    {
     "data": {
      "text/plain": [
       "589"
      ]
     },
     "execution_count": 40,
     "metadata": {},
     "output_type": "execute_result"
    }
   ],
   "source": [
    "# размер суммы двух таблиц:\n",
    "len(tab_1)+len(tab_2)"
   ]
  },
  {
   "cell_type": "markdown",
   "metadata": {
    "id": "8R57wT3QGex3"
   },
   "source": [
    "Талицы объединились корректно."
   ]
  },
  {
   "cell_type": "markdown",
   "metadata": {},
   "source": [
    "Для удобства чтения приведем данные столбца 'new_skills' к верхнему регистру:"
   ]
  },
  {
   "cell_type": "code",
   "execution_count": 41,
   "metadata": {},
   "outputs": [],
   "source": [
    "data_new['new_skills'] = data_new['new_skills'].str.title()"
   ]
  },
  {
   "cell_type": "markdown",
   "metadata": {},
   "source": [
    "Столбец с описанием вакансий нам больше не нужен, избавимся от него:"
   ]
  },
  {
   "cell_type": "code",
   "execution_count": 42,
   "metadata": {},
   "outputs": [],
   "source": [
    "data_new = data_new.drop(['job_description'], axis=1)"
   ]
  },
  {
   "cell_type": "markdown",
   "metadata": {
    "id": "9qwafxpAGex3"
   },
   "source": [
    " <a id=\"employment_type\"></a> \n",
    " ### 3.7.  Анализ столбца с типом занятости"
   ]
  },
  {
   "cell_type": "markdown",
   "metadata": {
    "id": "aE9oCMFqGex3"
   },
   "source": [
    "По условию ТЗ нам нужно учитывать тип занятости для каждой вакансии. Изучим данные этого столбца:"
   ]
  },
  {
   "cell_type": "code",
   "execution_count": 43,
   "metadata": {
    "colab": {
     "base_uri": "https://localhost:8080/"
    },
    "id": "Z0L1tRI7Gex3",
    "outputId": "4eee492d-fd00-4209-9bc1-09d89919282c"
   },
   "outputs": [
    {
     "data": {
      "text/plain": [
       "array(['On-site', 'Hybrid', 'not specified', 'Remote'], dtype=object)"
      ]
     },
     "execution_count": 43,
     "metadata": {},
     "output_type": "execute_result"
    }
   ],
   "source": [
    "data_new['employment_type'].unique()"
   ]
  },
  {
   "cell_type": "markdown",
   "metadata": {
    "id": "o_yVwQU8Gex3"
   },
   "source": [
    "Никаких проблем с этим столбцом нет, данные корректны."
   ]
  },
  {
   "cell_type": "markdown",
   "metadata": {
    "id": "7vQRAKvnGex3"
   },
   "source": [
    " <a id=\"location\"></a> \n",
    " ### 3.8.  Корректировка данных с городами и странами"
   ]
  },
  {
   "cell_type": "markdown",
   "metadata": {
    "id": "vpch836AGex3"
   },
   "source": [
    " <a id=\"country\"></a> \n",
    " #### 3.8.1.  Корректировка столбца со странами"
   ]
  },
  {
   "cell_type": "markdown",
   "metadata": {
    "id": "lma75I3nGex3"
   },
   "source": [
    "Изучим данные столбца \"country\":"
   ]
  },
  {
   "cell_type": "code",
   "execution_count": 44,
   "metadata": {
    "colab": {
     "base_uri": "https://localhost:8080/"
    },
    "id": "ug9tUarGGex3",
    "outputId": "9ac5a8dd-6661-42dc-ff0b-b0d69b174a18",
    "scrolled": true
   },
   "outputs": [
    {
     "data": {
      "text/plain": [
       "[' Austria',\n",
       " ' Belgium',\n",
       " ' Bulgaria',\n",
       " ' Croatia',\n",
       " ' Czechia',\n",
       " ' Denmark',\n",
       " ' Estonia',\n",
       " ' France',\n",
       " ' Germany',\n",
       " ' Greece',\n",
       " ' Hungary',\n",
       " ' Ireland',\n",
       " ' Italy',\n",
       " ' Latvia',\n",
       " ' Lithuania',\n",
       " ' Luxembourg',\n",
       " ' Malta',\n",
       " ' Monaco',\n",
       " ' Netherlands',\n",
       " ' Norway',\n",
       " ' Poland',\n",
       " ' Portugal',\n",
       " ' Romania',\n",
       " ' Slovakia',\n",
       " ' Spain',\n",
       " ' Sweden',\n",
       " ' Switzerland',\n",
       " ' United Kingdom',\n",
       " 'Amsterdam Area',\n",
       " 'Athens Metropolitan Area',\n",
       " 'Berlin Metropolitan Area',\n",
       " 'Brussels Metropolitan Area',\n",
       " 'Bulgaria',\n",
       " 'Cologne Bonn Region',\n",
       " 'Denmark',\n",
       " 'Eindhoven Area',\n",
       " 'Finland',\n",
       " 'France',\n",
       " 'Germany',\n",
       " 'Greater Banska Bystrica Area',\n",
       " 'Greater Barcelona Metropolitan Area',\n",
       " 'Greater Milan Metropolitan Area',\n",
       " 'Greater Munster Area',\n",
       " 'Greater Nuremberg Metropolitan Area',\n",
       " 'Greater Palma de Mallorca Metropolitan Area',\n",
       " 'Greater Paris Metropolitan Region',\n",
       " 'Greater Pau Area',\n",
       " 'Hungary',\n",
       " 'Italy',\n",
       " 'Krakow Metropolitan Area',\n",
       " 'Lisbon Metropolitan Area',\n",
       " 'Lithuania',\n",
       " 'Netherlands',\n",
       " 'Poland',\n",
       " 'Portugal',\n",
       " 'Prague Metropolitan Area',\n",
       " 'Romania',\n",
       " 'Rotterdam and The Hague',\n",
       " 'Spain',\n",
       " 'Stuttgart Region',\n",
       " 'Warsaw Metropolitan Area',\n",
       " 'Wroclaw Metropolitan Area']"
      ]
     },
     "execution_count": 44,
     "metadata": {},
     "output_type": "execute_result"
    }
   ],
   "source": [
    "# Посмотрим уникальные значения:\n",
    "sorted(data_new['country'].unique())"
   ]
  },
  {
   "cell_type": "markdown",
   "metadata": {
    "id": "jetHWU9mGex3"
   },
   "source": [
    "Наименования стран требуют корректировки:"
   ]
  },
  {
   "cell_type": "code",
   "execution_count": 45,
   "metadata": {},
   "outputs": [],
   "source": [
    "# Составим словарь с наименованиями под замену:\n",
    "country_dict = {'Brussels Metropolitan Area':'Belgium',\n",
    "'Greater Paris Metropolitan Region':'France',\n",
    "'Wroclaw Metropolitan Area':'Poland',\n",
    "'Iasi Metropolitan Area':'Romania',\n",
    "'Cologne Bonn Region':'Germany',\n",
    "'Greater Munster Area':'Ierland',\n",
    "'Greater Banska Bystrica Area':'Slovakia',\n",
    "'Greater Nuremberg Metropolitan Area':'Germany',\n",
    "'Berlin Metropolitan Area':'Germany',\n",
    "'Greater Barcelona Metropolitan Area':'Spain',\n",
    "'Rotterdam and The Hague':'Netherlands',\n",
    "'Prague Metropolitan Area':'Czechia',\n",
    "'Greater Pau Area':'France',\n",
    "'Lisbon Metropolitan Area':'Portugal',\n",
    "'Athens Metropolitan Area':'Greece',\n",
    "'Stuttgart Region':'Germany',\n",
    "'Greater Milan Metropolitan Area':'Italy',\n",
    "'Amsterdam Area':'Netherlands',\n",
    "'Eindhoven Area':'Netherlands',\n",
    "'Krakow Metropolitan Area':'Poland',\n",
    "'Warsaw Metropolitan Area':'Poland',\n",
    "'Greater Palma de Mallorca Metropolitan Area':'Spain',\n",
    "'Greater Munich Metropolitan Area':'Germany',\n",
    "'Greater Lyon Area':'France'}"
   ]
  },
  {
   "cell_type": "code",
   "execution_count": 46,
   "metadata": {},
   "outputs": [],
   "source": [
    "for char in country_dict.keys():\n",
    "       data_new['country'] = data_new['country'].replace(char, country_dict[char])"
   ]
  },
  {
   "cell_type": "code",
   "execution_count": 47,
   "metadata": {},
   "outputs": [],
   "source": [
    "# Удалим пробелы в начале наименований стран:\n",
    "data_new['country'] = data_new['country'].str.lstrip()"
   ]
  },
  {
   "cell_type": "code",
   "execution_count": 48,
   "metadata": {
    "scrolled": true
   },
   "outputs": [
    {
     "data": {
      "text/plain": [
       "Italy             101\n",
       "France             82\n",
       "United Kingdom     71\n",
       "Germany            68\n",
       "Netherlands        52\n",
       "Poland             41\n",
       "Spain              34\n",
       "Belgium            22\n",
       "Sweden             14\n",
       "Portugal           14\n",
       "Ireland            12\n",
       "Greece             11\n",
       "Bulgaria           10\n",
       "Hungary             8\n",
       "Luxembourg          7\n",
       "Austria             6\n",
       "Czechia             5\n",
       "Switzerland         4\n",
       "Romania             4\n",
       "Lithuania           4\n",
       "Malta               3\n",
       "Latvia              3\n",
       "Denmark             3\n",
       "Slovakia            3\n",
       "Norway              2\n",
       "Estonia             1\n",
       "Ierland             1\n",
       "Croatia             1\n",
       "Finland             1\n",
       "Monaco              1\n",
       "Name: country, dtype: int64"
      ]
     },
     "execution_count": 48,
     "metadata": {},
     "output_type": "execute_result"
    }
   ],
   "source": [
    "data_new['country'].value_counts()"
   ]
  },
  {
   "cell_type": "markdown",
   "metadata": {
    "id": "7eTYO3YxGex3"
   },
   "source": [
    "Наименования стран откорректированы. Также список стран удовлетворяет условию ТЗ, согласно которому поиск вакансий осуществляется только в Европе."
   ]
  },
  {
   "cell_type": "markdown",
   "metadata": {
    "id": "4dEfBSbKGex3"
   },
   "source": [
    " <a id=\"city\"></a> \n",
    " #### 3.8.2.  Корректировка столбца с городами"
   ]
  },
  {
   "cell_type": "markdown",
   "metadata": {
    "id": "_RypMJeBGex3"
   },
   "source": [
    "Изучим данные столбца \"location\":"
   ]
  },
  {
   "cell_type": "code",
   "execution_count": 49,
   "metadata": {
    "colab": {
     "base_uri": "https://localhost:8080/"
    },
    "id": "KKi0lQBdGex3",
    "outputId": "56f95ccf-5865-4757-d43e-3709e4d457f6"
   },
   "outputs": [
    {
     "data": {
      "text/plain": [
       "[\"'s-Hertogenbosch\",\n",
       " 'Ahlen',\n",
       " 'Aix-en-Provence',\n",
       " 'Alsónémedi',\n",
       " 'Amersfoort',\n",
       " 'Amsterdam',\n",
       " 'Amsterdam Area',\n",
       " 'Arconate',\n",
       " 'Arluno',\n",
       " 'Arnhem',\n",
       " 'Arrasate / Mondragón',\n",
       " 'Athens',\n",
       " 'Athens Metropolitan Area',\n",
       " 'Augusta',\n",
       " 'Baierbrunn',\n",
       " 'Barcelona',\n",
       " 'Bari',\n",
       " 'Basel',\n",
       " 'Basingstoke',\n",
       " 'Bath',\n",
       " 'Belfast',\n",
       " 'Bellinzago Lombardo',\n",
       " 'Bergamo',\n",
       " 'Bergen op Zoom',\n",
       " 'Bergisch Gladbach',\n",
       " 'Berlin',\n",
       " 'Berlin Metropolitan Area',\n",
       " 'Bertrange',\n",
       " 'Binasco',\n",
       " 'Birkirkara',\n",
       " 'Blackpool',\n",
       " 'Boadilla del Monte',\n",
       " 'Bois-Colombes',\n",
       " 'Bollate',\n",
       " 'Bologna',\n",
       " 'Bordeaux',\n",
       " 'Boulogne-Billancourt',\n",
       " 'Bracknell',\n",
       " 'Bremen',\n",
       " 'Brindisi',\n",
       " 'Bristol',\n",
       " 'Brussels',\n",
       " 'Brussels Metropolitan Area',\n",
       " 'Brussels Region',\n",
       " 'Bucharest',\n",
       " 'Buckinghamshire',\n",
       " 'Budapest',\n",
       " 'Bulgaria',\n",
       " 'Calvignasco',\n",
       " 'Cambridge',\n",
       " 'Canegrate',\n",
       " 'Carpi',\n",
       " 'Carpiano',\n",
       " \"Cassano d'Adda\",\n",
       " \"Cassina de' Pecchi\",\n",
       " 'Cerdanyola del Vallès',\n",
       " 'Cernusco sul Naviglio',\n",
       " 'Cesate',\n",
       " 'Chappes',\n",
       " 'Chaucer',\n",
       " 'Chester',\n",
       " 'Coimbra',\n",
       " 'Cologne',\n",
       " 'Cologne Bonn Region',\n",
       " 'Colturano',\n",
       " 'Copenhagen',\n",
       " 'Cork',\n",
       " 'Cornaredo',\n",
       " 'Corsico',\n",
       " 'County Dublin',\n",
       " 'Courbevoie',\n",
       " 'Coventry',\n",
       " 'Cracow',\n",
       " 'Craven Arms',\n",
       " 'Croix',\n",
       " 'Cusago',\n",
       " 'Cusano Milanino',\n",
       " 'Danderyd',\n",
       " 'Debrecen',\n",
       " 'Denmark',\n",
       " 'Derby',\n",
       " 'Dijon',\n",
       " 'Doncaster',\n",
       " 'Douai',\n",
       " 'Drammen',\n",
       " 'Dresano',\n",
       " 'Dresden',\n",
       " 'Dublin',\n",
       " 'Dublin City',\n",
       " 'Durham',\n",
       " 'Düsseldorf',\n",
       " 'Edinburgh',\n",
       " 'Egham',\n",
       " 'Eindhoven',\n",
       " 'Eindhoven Area',\n",
       " 'Elliniko-Argyroupoli',\n",
       " 'Elsbethen',\n",
       " 'Emmen',\n",
       " 'Epsom',\n",
       " 'Esch-Sur-Alzette',\n",
       " 'Faenza',\n",
       " 'Farum',\n",
       " 'Finland',\n",
       " 'Flemish Region',\n",
       " 'Florence',\n",
       " 'Fontenay-sous-Bois',\n",
       " 'France',\n",
       " 'Frankfurt',\n",
       " 'Frankfurt am Main',\n",
       " 'Frosinone',\n",
       " 'Fuschl am See',\n",
       " 'Galway',\n",
       " 'Garwolin',\n",
       " 'Gaydon',\n",
       " 'Gdańsk',\n",
       " 'Gdynia',\n",
       " 'Gennevilliers',\n",
       " 'Germany',\n",
       " 'Gessate',\n",
       " 'Getafe',\n",
       " 'Ghent',\n",
       " 'Gießen',\n",
       " 'Gillingham',\n",
       " 'Gloucestershire',\n",
       " \"Granarolo dell'Emilia\",\n",
       " 'Greater Banska Bystrica Area',\n",
       " 'Greater Barcelona Metropolitan Area',\n",
       " 'Greater Milan Metropolitan Area',\n",
       " 'Greater Munster Area',\n",
       " 'Greater Nuremberg Metropolitan Area',\n",
       " 'Greater Palma de Mallorca Metropolitan Area',\n",
       " 'Greater Paris Metropolitan Region',\n",
       " 'Greater Pau Area',\n",
       " 'Grünheide',\n",
       " 'Guissona',\n",
       " 'Guyancourt',\n",
       " 'Hamburg',\n",
       " 'Harlestone',\n",
       " 'Hasselt',\n",
       " 'Hatfield',\n",
       " 'Hawthorn',\n",
       " 'Heerlen',\n",
       " 'Heidelberg',\n",
       " 'Helsingborg',\n",
       " 'Hereford',\n",
       " 'Hertfordshire',\n",
       " 'Hoofddorp',\n",
       " 'Hook of Holland',\n",
       " 'Hungary',\n",
       " 'Höchberg',\n",
       " 'Inzago',\n",
       " 'Iráklion',\n",
       " 'Issy-les-Moulineaux',\n",
       " 'Italy',\n",
       " 'Jonkoping County',\n",
       " 'Karlstad',\n",
       " 'Kosice',\n",
       " 'Krakow Metropolitan Area',\n",
       " 'La Défense',\n",
       " 'Lacchiarella',\n",
       " 'Laudio / Llodio',\n",
       " 'Leeds',\n",
       " 'Leiden',\n",
       " 'Levallois-Perret',\n",
       " 'Lille',\n",
       " 'Limburg',\n",
       " 'Lindau',\n",
       " 'Lisboa',\n",
       " 'Lisbon',\n",
       " 'Lisbon Metropolitan Area',\n",
       " 'Lithuania',\n",
       " 'Liège',\n",
       " 'Lombardy',\n",
       " 'London',\n",
       " 'Lucerne',\n",
       " 'Lugano',\n",
       " 'Luleå',\n",
       " 'Lund',\n",
       " 'Luxembourg',\n",
       " 'Lyon',\n",
       " 'Madrid',\n",
       " 'Mainz',\n",
       " 'Manchester',\n",
       " 'Manchester Area',\n",
       " 'Mannheim',\n",
       " 'Marcallo con Casone',\n",
       " 'Marlow',\n",
       " 'Massy',\n",
       " 'Matera',\n",
       " 'Mechelen',\n",
       " 'Meudon',\n",
       " 'Middlesbrough',\n",
       " 'Milan',\n",
       " 'Milton Keynes',\n",
       " 'Monaco',\n",
       " 'Montévrain',\n",
       " 'Moravia-Silesia',\n",
       " 'Munich',\n",
       " 'Mönchengladbach',\n",
       " 'Mülheim an der Ruhr',\n",
       " 'Münster',\n",
       " 'Nanterre',\n",
       " 'Nantes',\n",
       " 'Naples',\n",
       " 'Neckarsulm',\n",
       " 'Netherlands',\n",
       " 'Neuilly-sur-Seine',\n",
       " 'Neuss',\n",
       " 'Newcastle upon Tyne',\n",
       " 'Nitra Region',\n",
       " 'North Holland',\n",
       " 'Novate Milanese',\n",
       " 'Nuneaton',\n",
       " 'Oeiras',\n",
       " 'Olèrdola',\n",
       " 'Orosháza',\n",
       " 'Oslo',\n",
       " 'Osnabrück',\n",
       " 'Oudenaarde',\n",
       " 'Oxford',\n",
       " 'Padua',\n",
       " 'Palaiseau',\n",
       " 'Palermo',\n",
       " 'Palma',\n",
       " 'Paris',\n",
       " 'Parma',\n",
       " 'Paterna',\n",
       " 'Pieve Emanuele',\n",
       " 'Pioltello',\n",
       " 'Pistoia',\n",
       " 'Plaisir',\n",
       " 'Poissy',\n",
       " 'Poland',\n",
       " 'Porto',\n",
       " 'Portugal',\n",
       " 'Prague',\n",
       " 'Prague Metropolitan Area',\n",
       " 'Puteaux',\n",
       " 'Raamsdonksveer',\n",
       " 'Rethymno',\n",
       " 'Riga',\n",
       " 'Rijswijk',\n",
       " 'Romania',\n",
       " 'Rome',\n",
       " 'Ronda',\n",
       " 'Rosate',\n",
       " 'Rotterdam',\n",
       " 'Rotterdam and The Hague',\n",
       " 'Roubaix',\n",
       " 'Rouen',\n",
       " 'Rozzano',\n",
       " 'Salzburg',\n",
       " 'San Colombano al Lambro',\n",
       " 'San Donato Milanese',\n",
       " 'San Zenone al Lambro',\n",
       " 'San Ġiljan',\n",
       " 'Sant Just Desvern',\n",
       " \"Sant'Elpidio a Mare\",\n",
       " 'Schiphol',\n",
       " 'Schwäbisch Gmünd',\n",
       " 'Sedriano',\n",
       " 'Senago',\n",
       " 'Sesto San Giovanni',\n",
       " 'Sintra',\n",
       " 'Sligo',\n",
       " 'Sofia',\n",
       " 'Solihull',\n",
       " 'Solna',\n",
       " 'South Molton',\n",
       " 'Southampton',\n",
       " 'Spain',\n",
       " 'Sparta',\n",
       " 'Spinea',\n",
       " 'St.-Denis',\n",
       " 'St.-Ouen',\n",
       " 'Stockholm',\n",
       " 'Stockholm County',\n",
       " 'Stuttgart',\n",
       " 'Stuttgart Region',\n",
       " 'Sunderland',\n",
       " 'Suresnes',\n",
       " 'Szczecin',\n",
       " 'Taibon',\n",
       " 'Tartu',\n",
       " 'Tessenderlo',\n",
       " 'The Hague',\n",
       " 'The Randstad',\n",
       " 'Thessaloniki',\n",
       " 'Toulouse',\n",
       " 'Treviso',\n",
       " 'Trezzano Rosa',\n",
       " \"Trezzo sull'Adda\",\n",
       " 'Truccazzano',\n",
       " 'Turin',\n",
       " 'Umeå',\n",
       " 'Utrecht',\n",
       " 'Valencia',\n",
       " 'Valletta',\n",
       " 'Vanzaghello',\n",
       " 'Vanzago',\n",
       " \"Vaprio d'Adda\",\n",
       " 'Venlo',\n",
       " 'Vermezzo',\n",
       " 'Vienna',\n",
       " 'Vila Nova de Cerveira',\n",
       " 'Viladecans',\n",
       " 'Villeneuve-d’Ascq',\n",
       " 'Villes',\n",
       " 'Vilnius',\n",
       " 'Vilvoorde',\n",
       " 'Vitry-sur-Seine',\n",
       " 'Vittuone',\n",
       " 'Warsaw',\n",
       " 'Warsaw Metropolitan Area',\n",
       " 'Wasserburg (Bodensee)',\n",
       " 'Weinheim',\n",
       " 'West Flanders',\n",
       " 'West Malling',\n",
       " 'West Midlands',\n",
       " 'Wiesbaden',\n",
       " 'Wolfsburg',\n",
       " 'Worksop',\n",
       " 'Wroclaw Metropolitan Area',\n",
       " 'Wrocław',\n",
       " 'Zagreb',\n",
       " 'Zaventem',\n",
       " 'Ziano di Fiemme',\n",
       " 'Zoetermeer',\n",
       " 'Zwaagdijk-Oost',\n",
       " 'Île-de-France']"
      ]
     },
     "execution_count": 49,
     "metadata": {},
     "output_type": "execute_result"
    }
   ],
   "source": [
    "sorted(data_new['location'].unique())"
   ]
  },
  {
   "cell_type": "markdown",
   "metadata": {
    "id": "WulUcBPVGex3"
   },
   "source": [
    "Данные требуют корректировки:"
   ]
  },
  {
   "cell_type": "markdown",
   "metadata": {},
   "source": [
    "Удалим сперва часто встречающие наименования округов: "
   ]
  },
  {
   "cell_type": "code",
   "execution_count": 50,
   "metadata": {},
   "outputs": [],
   "source": [
    "for i in ['Greater','Metropolitan', 'Area','County','Region','City']:\n",
    "    data_new['location'] = data_new['location'].str.replace(i,'').str.strip()   "
   ]
  },
  {
   "cell_type": "markdown",
   "metadata": {
    "id": "lKf5gNEVGex4"
   },
   "source": [
    "В столбце есть некорректные наименования - вместо городов, указаны страны. Можно предположить, что город не был указан в вакансии, так как тип трудоустройства в таких строках  - \"Remote\"."
   ]
  },
  {
   "cell_type": "code",
   "execution_count": 51,
   "metadata": {},
   "outputs": [],
   "source": [
    "# Строки с городами, в котрых прописаны названия стран, заменим на пропуск:\n",
    "data_new.loc[data_new['location']==data_new['country'],'location']='not specified'"
   ]
  },
  {
   "cell_type": "code",
   "execution_count": 52,
   "metadata": {},
   "outputs": [],
   "source": [
    "# Составим словарь для точечной замены наименований городов: \n",
    "city = {'Cologne Bonn':'Cologne',\n",
    "        'Cracow':'Krakow',\n",
    "        'Frankfurt am Main':'Frankfurt',\n",
    "        'Brussels':'Brussel',\n",
    "        'Elliniko-Argyroupoli':'Argyroupoli',\n",
    "        'Flemish':'',\n",
    "        'Palma de Mallorca':'Palma',\n",
    "        'Lisboa':'Lisbon',\n",
    "        'Munster':'Münster',\n",
    "        'Rotterdam and The Hague':'Rotterdam',\n",
    "        'Wrocław':'Wroclaw',\n",
    "               }"
   ]
  },
  {
   "cell_type": "code",
   "execution_count": 53,
   "metadata": {},
   "outputs": [],
   "source": [
    "# с помощью цикла произведем замену по словарю:\n",
    "for key, value in city.items():\n",
    "    data_new['location'] = data_new['location'].str.replace(key, value)    "
   ]
  },
  {
   "cell_type": "markdown",
   "metadata": {},
   "source": [
    "Данные по городам откорректированы."
   ]
  },
  {
   "cell_type": "markdown",
   "metadata": {},
   "source": [
    " <a id=\"company_size\"></a> \n",
    " ### 3.9.  Категоризация компаний по количеству сотрудников"
   ]
  },
  {
   "cell_type": "markdown",
   "metadata": {},
   "source": [
    "Оценим ситуацию с размером компаний:"
   ]
  },
  {
   "cell_type": "code",
   "execution_count": 54,
   "metadata": {
    "scrolled": true
   },
   "outputs": [
    {
     "data": {
      "text/plain": [
       "array(['11-50 employees', 'not specified', '501-1,000 employees',\n",
       "       '51-200 employees', '10,001+ employees', '1-10 employees',\n",
       "       '1,001-5,000 employees', '201-500 employees',\n",
       "       'See how you compare to 9 applicants. Try Premium for free',\n",
       "       '5,001-10,000 employees',\n",
       "       'See how you compare to 19 applicants. Try Premium for free',\n",
       "       'See how you compare to 22 applicants. Try Premium for free',\n",
       "       'See how you compare to 13 applicants. Try Premium for free',\n",
       "       'See recent hiring trends for Devonshire Hayes Recruitment Specialists Ltd. Try Premium for free',\n",
       "       'See how you compare to 10 applicants. Try Premium for free',\n",
       "       'See how you compare to 4 applicants. Try Premium for free',\n",
       "       'Svein Grande is hiring for this job'], dtype=object)"
      ]
     },
     "execution_count": 54,
     "metadata": {},
     "output_type": "execute_result"
    }
   ],
   "source": [
    "data_new['employee_qty'].unique()"
   ]
  },
  {
   "cell_type": "markdown",
   "metadata": {},
   "source": [
    "Заменим отсутствующие данные на \"not specified\":"
   ]
  },
  {
   "cell_type": "code",
   "execution_count": 55,
   "metadata": {},
   "outputs": [],
   "source": [
    "# Создадим список слов под замену:\n",
    "qty = ['See','Svein']\n",
    "em_qty = '|'.join(qty)"
   ]
  },
  {
   "cell_type": "code",
   "execution_count": 56,
   "metadata": {},
   "outputs": [],
   "source": [
    "# Произведем замену на заглушку по словарю:\n",
    "data_new.loc[data_new['employee_qty'].str.contains(em_qty), 'employee_qty'] = 'not specified'"
   ]
  },
  {
   "cell_type": "code",
   "execution_count": 57,
   "metadata": {},
   "outputs": [
    {
     "data": {
      "text/plain": [
       "array(['11-50 employees', 'not specified', '501-1,000 employees',\n",
       "       '51-200 employees', '10,001+ employees', '1-10 employees',\n",
       "       '1,001-5,000 employees', '201-500 employees',\n",
       "       '5,001-10,000 employees'], dtype=object)"
      ]
     },
     "execution_count": 57,
     "metadata": {},
     "output_type": "execute_result"
    }
   ],
   "source": [
    "# Проверим:\n",
    "data_new['employee_qty'].unique()"
   ]
  },
  {
   "cell_type": "markdown",
   "metadata": {},
   "source": [
    "Если посмотреть на строку со 'Svein', можно заметить, что ячейка с областью деятельности данной компании также заполнена некорректно. Заменим на \"not specified\":"
   ]
  },
  {
   "cell_type": "code",
   "execution_count": 58,
   "metadata": {},
   "outputs": [],
   "source": [
    "data_new.loc[data_new['company_field'].str.contains('Svein'), 'company_field'] = 'not specified'"
   ]
  },
  {
   "cell_type": "markdown",
   "metadata": {},
   "source": [
    "Теперь можем выделить категории компаний:"
   ]
  },
  {
   "cell_type": "code",
   "execution_count": 59,
   "metadata": {},
   "outputs": [],
   "source": [
    "# Напишем функцию для выделения категорий компаний:\n",
    "def company_category(size):\n",
    "   \n",
    "    if size['employee_qty']=='1-10 employees':\n",
    "        return 'nano'\n",
    "    elif size['employee_qty']=='11-50 employees':\n",
    "        return 'micro'\n",
    "    elif size['employee_qty']=='51-200 employees':\n",
    "        return 'small'\n",
    "    elif size['employee_qty']=='201-500 employees':\n",
    "        return 'medium'\n",
    "    elif size['employee_qty']=='501-1,000 employees':\n",
    "        return 'big'\n",
    "    elif size['employee_qty']=='1,001-5,000 employees':\n",
    "        return 'very big'\n",
    "    elif size['employee_qty']=='5,001-10,000 employees':\n",
    "        return 'huge low'\n",
    "    elif size['employee_qty']=='10,001+ employees':\n",
    "        return 'huge high'\n",
    "    else:\n",
    "        return 'not specified'"
   ]
  },
  {
   "cell_type": "code",
   "execution_count": 60,
   "metadata": {},
   "outputs": [
    {
     "data": {
      "text/html": [
       "<div>\n",
       "<style scoped>\n",
       "    .dataframe tbody tr th:only-of-type {\n",
       "        vertical-align: middle;\n",
       "    }\n",
       "\n",
       "    .dataframe tbody tr th {\n",
       "        vertical-align: top;\n",
       "    }\n",
       "\n",
       "    .dataframe thead th {\n",
       "        text-align: right;\n",
       "    }\n",
       "</style>\n",
       "<table border=\"1\" class=\"dataframe\">\n",
       "  <thead>\n",
       "    <tr style=\"text-align: right;\">\n",
       "      <th></th>\n",
       "      <th>title</th>\n",
       "      <th>location</th>\n",
       "      <th>country</th>\n",
       "      <th>employment_type</th>\n",
       "      <th>company_name</th>\n",
       "      <th>employee_qty</th>\n",
       "      <th>company_field</th>\n",
       "      <th>applicants</th>\n",
       "      <th>new_skills</th>\n",
       "      <th>company_type</th>\n",
       "    </tr>\n",
       "  </thead>\n",
       "  <tbody>\n",
       "    <tr>\n",
       "      <th>0</th>\n",
       "      <td>Data Analyst</td>\n",
       "      <td>Basel</td>\n",
       "      <td>Switzerland</td>\n",
       "      <td>On-site</td>\n",
       "      <td>PharmiWeb.Jobs: Global Life Science Jobs</td>\n",
       "      <td>11-50 employees</td>\n",
       "      <td>Staffing and Recruiting</td>\n",
       "      <td>47</td>\n",
       "      <td>Data Mining,Excel,Sap,Sas,Spss,Sql,Statistics</td>\n",
       "      <td>micro</td>\n",
       "    </tr>\n",
       "    <tr>\n",
       "      <th>1</th>\n",
       "      <td>Data Analyst - Logistics</td>\n",
       "      <td>Coventry</td>\n",
       "      <td>United Kingdom</td>\n",
       "      <td>On-site</td>\n",
       "      <td>Resolute Recruitment</td>\n",
       "      <td>not specified</td>\n",
       "      <td>not specified</td>\n",
       "      <td>0</td>\n",
       "      <td></td>\n",
       "      <td>not specified</td>\n",
       "    </tr>\n",
       "    <tr>\n",
       "      <th>2</th>\n",
       "      <td>Data Analyst - Logistics</td>\n",
       "      <td>Coventry</td>\n",
       "      <td>United Kingdom</td>\n",
       "      <td>On-site</td>\n",
       "      <td>Resolute Recruitment</td>\n",
       "      <td>not specified</td>\n",
       "      <td>not specified</td>\n",
       "      <td>0</td>\n",
       "      <td>Wfh</td>\n",
       "      <td>not specified</td>\n",
       "    </tr>\n",
       "    <tr>\n",
       "      <th>3</th>\n",
       "      <td>Data Analyst (Space &amp; Planning)</td>\n",
       "      <td>South Molton</td>\n",
       "      <td>United Kingdom</td>\n",
       "      <td>On-site</td>\n",
       "      <td>Mole Valley Farmers</td>\n",
       "      <td>not specified</td>\n",
       "      <td>not specified</td>\n",
       "      <td>0</td>\n",
       "      <td>Excel</td>\n",
       "      <td>not specified</td>\n",
       "    </tr>\n",
       "    <tr>\n",
       "      <th>4</th>\n",
       "      <td>Data Analyst</td>\n",
       "      <td>Lugano</td>\n",
       "      <td>Switzerland</td>\n",
       "      <td>On-site</td>\n",
       "      <td>FORFIRM</td>\n",
       "      <td>not specified</td>\n",
       "      <td>not specified</td>\n",
       "      <td>0</td>\n",
       "      <td>Aws,Data Warehouse,Etl,Gcp,Oracle,Oracle Data ...</td>\n",
       "      <td>not specified</td>\n",
       "    </tr>\n",
       "  </tbody>\n",
       "</table>\n",
       "</div>"
      ],
      "text/plain": [
       "                             title      location         country  \\\n",
       "0                     Data Analyst         Basel     Switzerland   \n",
       "1         Data Analyst - Logistics      Coventry  United Kingdom   \n",
       "2         Data Analyst - Logistics      Coventry  United Kingdom   \n",
       "3  Data Analyst (Space & Planning)  South Molton  United Kingdom   \n",
       "4                     Data Analyst        Lugano     Switzerland   \n",
       "\n",
       "  employment_type                              company_name     employee_qty  \\\n",
       "0         On-site  PharmiWeb.Jobs: Global Life Science Jobs  11-50 employees   \n",
       "1         On-site                      Resolute Recruitment    not specified   \n",
       "2         On-site                      Resolute Recruitment    not specified   \n",
       "3         On-site                       Mole Valley Farmers    not specified   \n",
       "4         On-site                                   FORFIRM    not specified   \n",
       "\n",
       "             company_field  applicants  \\\n",
       "0  Staffing and Recruiting          47   \n",
       "1            not specified           0   \n",
       "2            not specified           0   \n",
       "3            not specified           0   \n",
       "4            not specified           0   \n",
       "\n",
       "                                          new_skills   company_type  \n",
       "0      Data Mining,Excel,Sap,Sas,Spss,Sql,Statistics          micro  \n",
       "1                                                     not specified  \n",
       "2                                                Wfh  not specified  \n",
       "3                                              Excel  not specified  \n",
       "4  Aws,Data Warehouse,Etl,Gcp,Oracle,Oracle Data ...  not specified  "
      ]
     },
     "execution_count": 60,
     "metadata": {},
     "output_type": "execute_result"
    }
   ],
   "source": [
    "# Применим функцию и создадим новый столбец с категорией компании:\n",
    "data_new['company_type'] = data_new[['employee_qty']].apply(company_category, axis=1) \n",
    "data_new.head()"
   ]
  },
  {
   "cell_type": "code",
   "execution_count": 61,
   "metadata": {},
   "outputs": [
    {
     "data": {
      "text/plain": [
       "huge high        141\n",
       "small            121\n",
       "very big         119\n",
       "medium            52\n",
       "huge low          41\n",
       "big               39\n",
       "micro             33\n",
       "not specified     24\n",
       "nano              19\n",
       "Name: company_type, dtype: int64"
      ]
     },
     "execution_count": 61,
     "metadata": {},
     "output_type": "execute_result"
    }
   ],
   "source": [
    "# Оценим количество каждого типа компаний:\n",
    "data_new['company_type'].value_counts()"
   ]
  },
  {
   "cell_type": "markdown",
   "metadata": {},
   "source": [
    " <a id=\"titles\"></a> \n",
    " ### 3.10. Анализ наименований вакансий  "
   ]
  },
  {
   "cell_type": "markdown",
   "metadata": {},
   "source": [
    "Для удобства сперва переведем все наименования вакансий в нижний регистр:"
   ]
  },
  {
   "cell_type": "code",
   "execution_count": 62,
   "metadata": {},
   "outputs": [],
   "source": [
    "data_new['title'] = data_new['title'].str.lower()"
   ]
  },
  {
   "cell_type": "code",
   "execution_count": 63,
   "metadata": {},
   "outputs": [
    {
     "data": {
      "text/plain": [
       "['(esg) data analyst (w/m/d)',\n",
       " '(junior) consumer business intelligence analyst (m/w/d)',\n",
       " '(junior) data scientist',\n",
       " '[alt] data analyst assistant - h/f',\n",
       " 'afc data analyst',\n",
       " 'alternance - assistance data analyst et reporting rh f/h',\n",
       " 'alternance - data analyst - data etl & visualisation (h/f/d)',\n",
       " 'analista dati di geodesia - categoria protetta',\n",
       " 'analista de datos',\n",
       " 'analista de datos bi',\n",
       " 'analista de datos dept de elaborados (guissona)',\n",
       " 'analityk',\n",
       " 'analityk danych',\n",
       " 'analityk danych internetowych (wszystko.pl)',\n",
       " 'analyst',\n",
       " 'analyst (m/f/d) business intelligence & analytics',\n",
       " 'analyst (strategy, policy and innovation)',\n",
       " 'analyst - french speaking -',\n",
       " 'analyst - marketing effectiveness',\n",
       " 'analyst sourcing & planning',\n",
       " 'analyst*in (m/w/d)',\n",
       " 'analyste data -(h/f)',\n",
       " 'analyste de données pièces de rechange automobile',\n",
       " 'analyste des donnees (h/f)',\n",
       " 'application support specialist - business intelligence',\n",
       " 'applications support analyst (f/m/d)',\n",
       " 'asset data analyst',\n",
       " 'assistant, hr data analytics',\n",
       " 'associate - data research',\n",
       " 'associate data manager',\n",
       " 'associate data scientist',\n",
       " 'associate database analyst---clinical database management',\n",
       " 'b2b analyst, bulgaria',\n",
       " 'becario/a data analyst cliente',\n",
       " 'bi analyst',\n",
       " 'bi analyst (m/w/d)',\n",
       " 'bi analyst (m/w/d) marketing',\n",
       " 'bi analyst (pricing)',\n",
       " 'bi analyst - tableau or other bi tools',\n",
       " 'bi analyst, power bi champion, cee based in warsaw',\n",
       " 'bi specialist',\n",
       " 'bi-analyst (m/w/d)',\n",
       " 'business & data analyst',\n",
       " 'business analyst_power bi',\n",
       " 'business analytics and intelligence analyst',\n",
       " 'business data analyst (m/w/d)',\n",
       " 'business data analyst evolutions (2300046z)',\n",
       " 'business data analyst-(h/f)',\n",
       " 'business insights analyst (nje)',\n",
       " 'business intelligence analyst',\n",
       " 'business intelligence analyst (m/w/d)',\n",
       " 'business intelligence analyst junior',\n",
       " 'business intelligence associate',\n",
       " 'business intelligence specialist',\n",
       " 'business intelligence specialist (w/m/d)',\n",
       " 'business intelligence-analyst:in',\n",
       " 'business intelligence-architekt:in',\n",
       " 'cdi - data analyst f/h',\n",
       " 'cdi - data analyst h/f - yves rocher',\n",
       " 'client data analyst (client intelligence specialist - fully remote) )',\n",
       " 'client insights data analyst - sql, python, data bricks',\n",
       " 'commercial analyst',\n",
       " 'commercial data analyst',\n",
       " 'commercial data analyst travel',\n",
       " 'conversion master data analyst to procter & gamble',\n",
       " 'corporate product master specialist/data analyst',\n",
       " 'credit - data analyst (product)',\n",
       " 'crm data analyst (m/w/d)',\n",
       " 'cro /digital analyst',\n",
       " 'customer data analyst (m/w/d) motorsport',\n",
       " 'customer data platform analyst',\n",
       " 'customer support analyst',\n",
       " 'danish language data analyst - barcelona',\n",
       " 'danish language data analyst in barcelona',\n",
       " 'data & analytics analyst - bari, roma',\n",
       " 'data analist',\n",
       " 'data analist - startersfunctie (dutch speaking)',\n",
       " 'data analist cbr',\n",
       " 'data analyst',\n",
       " 'data analyst  h/f',\n",
       " 'data analyst (9 months ftc)',\n",
       " 'data analyst (assortment)',\n",
       " 'data analyst (f/h)',\n",
       " 'data analyst (fraud)*',\n",
       " 'data analyst (ft)',\n",
       " 'data analyst (h/f)',\n",
       " 'data analyst (h/f) - cdi',\n",
       " 'data analyst (legal services)',\n",
       " 'data analyst (m/f)',\n",
       " 'data analyst (m/f/d)',\n",
       " 'data analyst (m/f/d) - global sea logistics systems',\n",
       " 'data analyst (m/f/x)',\n",
       " 'data analyst (m/w/d)',\n",
       " 'data analyst (m/w/d) im controlling',\n",
       " 'data analyst (marketing & comms)',\n",
       " 'data analyst (mobile)',\n",
       " 'data analyst (product data analyst)',\n",
       " 'data analyst (slovakia) irc183410',\n",
       " 'data analyst (space & planning)',\n",
       " 'data analyst (w/m/d) - kurse',\n",
       " 'data analyst - alternance - boursorama-(h/f)',\n",
       " 'data analyst - analyste de données',\n",
       " 'data analyst - bseu raw materials planning',\n",
       " 'data analyst - client insight',\n",
       " 'data analyst - confirmé.e',\n",
       " 'data analyst - customer management domain',\n",
       " 'data analyst - digital marketing (all genders)',\n",
       " 'data analyst - edtech',\n",
       " 'data analyst - finance',\n",
       " 'data analyst - flanders digital',\n",
       " 'data analyst - global marketing agency',\n",
       " 'data analyst - global marketing h/f',\n",
       " 'data analyst - h/f',\n",
       " 'data analyst - hybrid',\n",
       " 'data analyst - hybrid - permanent',\n",
       " 'data analyst - hybrid working',\n",
       " 'data analyst - lisboa e porto - campo grande',\n",
       " 'data analyst - logistics',\n",
       " 'data analyst - marketing & communications insight',\n",
       " 'data analyst - marketing - e-commerce',\n",
       " 'data analyst - milano',\n",
       " 'data analyst - operations',\n",
       " 'data analyst - pilotage transformation cloud-(h/f)',\n",
       " 'data analyst - poland',\n",
       " 'data analyst - scores & etudes',\n",
       " 'data analyst - transportation',\n",
       " 'data analyst - €60,- per hour - amsterdam based',\n",
       " 'data analyst / data scientist (m/f/d)',\n",
       " 'data analyst / decision scientist, growth',\n",
       " 'data analyst / decision scientist, marketing',\n",
       " 'data analyst / mathematiker / statistiker (m/w/d)',\n",
       " 'data analyst / risques de crédit - boursorama-(h/f)',\n",
       " 'data analyst assessor',\n",
       " 'data analyst associate',\n",
       " 'data analyst costing',\n",
       " 'data analyst delivery operations',\n",
       " 'data analyst débutant(e)',\n",
       " 'data analyst en alternance (94) dcf/ab - f/h',\n",
       " 'data analyst en alternance (h/f) - boulogne-billancourt',\n",
       " 'data analyst export',\n",
       " 'data analyst f/h',\n",
       " 'data analyst für customer analytics (m/w/d)',\n",
       " 'data analyst h/f',\n",
       " 'data analyst h/f - alternance 12 ou 24 mois',\n",
       " 'data analyst h/f _ cdd',\n",
       " 'data analyst h/f h/f',\n",
       " 'data analyst ii',\n",
       " 'data analyst im bereich iiot / ki / predictive maintenan ...',\n",
       " 'data analyst im bereich iiot / ki / predictive maintenance (m/w/d)',\n",
       " 'data analyst in the area of iiot / ki / predictive maintenance (m/f/d)',\n",
       " 'data analyst it',\n",
       " 'data analyst job in overseas',\n",
       " 'data analyst m/f',\n",
       " 'data analyst marketing stratégique - boursorama-(h/f)',\n",
       " 'data analyst pilotage operationnel h/f',\n",
       " 'data analyst power bi (m/w/d)',\n",
       " 'data analyst power bi f/h',\n",
       " 'data analyst professional programme',\n",
       " 'data analyst reporting',\n",
       " 'data analyst return solutions',\n",
       " 'data analyst sas - h/f',\n",
       " 'data analyst tableau',\n",
       " 'data analyst telco',\n",
       " 'data analyst | deals (m&a) | cdi | h/f',\n",
       " 'data analyst – web & app (m/w/d)',\n",
       " 'data analyst, metrics & reporting',\n",
       " 'data analyst, product intelligence #swx',\n",
       " 'data analyst, sql/ssis {finance',\n",
       " 'data analyst- 6 month',\n",
       " 'data analyst-(h/f)',\n",
       " 'data analyst:in',\n",
       " 'data analyst_frosinone (fr)',\n",
       " 'data analyste',\n",
       " 'data architect',\n",
       " 'data entry',\n",
       " 'data governance analyst',\n",
       " 'data management specialist',\n",
       " 'data manager',\n",
       " 'data program manager',\n",
       " 'data science & analytics specialist (f/m/x)',\n",
       " 'data science analyst',\n",
       " 'data scientist',\n",
       " 'data scientist & analyst expérimenté',\n",
       " 'data scientist (all genders)',\n",
       " 'data scientist (credit)',\n",
       " 'data scientist (f/m/d)',\n",
       " 'data scientist (h/f)',\n",
       " 'data scientist - data analyst',\n",
       " 'data scientist - marketing',\n",
       " 'data scientist - paris',\n",
       " 'data scientist / analytiker',\n",
       " 'data scientist h/f_cdi',\n",
       " 'data scientist transport & logistics',\n",
       " 'data scientist, marketing analytics',\n",
       " 'data specialist',\n",
       " 'data steward',\n",
       " 'data technology analyst',\n",
       " 'data visualization',\n",
       " 'data-analist',\n",
       " 'dataanalytiker',\n",
       " 'datový analytik',\n",
       " 'datový analytik/vývojář',\n",
       " 'demand & inventory data scientist',\n",
       " 'demand planning analyst',\n",
       " 'digital analyst',\n",
       " 'digital data analist (32-38 uur)',\n",
       " 'digital data analyst',\n",
       " 'digital data analyst (h/f)',\n",
       " 'digital data analyst pharma (m/f/d)',\n",
       " 'digital data analytics',\n",
       " 'ecommerce web analyst',\n",
       " 'esg analyst - real estate (m/w/d)',\n",
       " 'finance - it functional analyst',\n",
       " 'finance data analyst',\n",
       " 'finance data analyst (m/w/d) - gigafactory berlin',\n",
       " 'financial / data analyst',\n",
       " 'fp&a analyst',\n",
       " 'freelance data modeler',\n",
       " 'functional analyst',\n",
       " 'global manager data analytics',\n",
       " 'global onsite data analyst (m/w/d)',\n",
       " 'graduate data analyst',\n",
       " 'information analyst',\n",
       " 'informático/a programador/a analista de datos',\n",
       " 'infrastructure analyst',\n",
       " 'ingeniero/a analista de datos big data',\n",
       " 'insight analyst (m/f/x)',\n",
       " 'insights analyst',\n",
       " 'internet data evaluator | work-from-home',\n",
       " 'it analityk',\n",
       " 'it data analyst',\n",
       " 'it research analyst',\n",
       " 'it solution analyst (m/f/n)',\n",
       " 'it strategy and reporting analyst (m/f)',\n",
       " 'it support analyst, global it',\n",
       " 'job | data analyst e&e&p | brussel',\n",
       " 'jr. data scientist',\n",
       " 'junior / medior web data analyst',\n",
       " 'junior analyst',\n",
       " 'junior analyst - data process',\n",
       " 'junior analyst | h/f',\n",
       " 'junior crm analyst',\n",
       " 'junior data analist',\n",
       " 'junior data analyst',\n",
       " 'junior data analyst power bi - contrato 6 meses',\n",
       " 'junior data analyst sustainability',\n",
       " 'junior data analyst – aerospace',\n",
       " 'junior data analyst/associate (m/f/d)',\n",
       " 'junior data processing specialist',\n",
       " 'junior data scientist',\n",
       " 'junior data scientist/analyst (m/w/d)',\n",
       " 'junior finance analyst',\n",
       " 'junior innovation analyst',\n",
       " 'junior insight analyst',\n",
       " 'junior insights analyst (w/m/d)',\n",
       " 'junior marketing analyst (munich)',\n",
       " 'junior master data analyst',\n",
       " 'junior sales analyst',\n",
       " 'junior stem analyst',\n",
       " 'junior/mid data analyst',\n",
       " 'market analyst- european power market',\n",
       " 'market intelligence analyst',\n",
       " 'market research analyst (remote - within europe)',\n",
       " 'marketing analyst',\n",
       " 'marketing analyst (data analytics and bi)',\n",
       " 'marketing analyst (m/w/d)',\n",
       " 'master data quality analyst',\n",
       " 'medior data analyst',\n",
       " 'monitoring & data analyst (solar pv)',\n",
       " 'nrs13700 grade v, data analyst',\n",
       " 'online data analyst',\n",
       " 'online data analyst (m,f,d)',\n",
       " 'online data analyst - france',\n",
       " 'operational analyst (hybrid)',\n",
       " 'operations analyst - h/f',\n",
       " 'operations data analyst (they/she/he)',\n",
       " 'packaging specification technologist and data analyst',\n",
       " 'planning & control analyst',\n",
       " 'policy analyst',\n",
       " 'power bi / data analyst (m/w/d)',\n",
       " 'pricing analyst',\n",
       " 'principal data analyst - growth',\n",
       " 'privacy data analyst - fluent german',\n",
       " 'process analyst',\n",
       " 'product control analyst',\n",
       " 'product data analyst',\n",
       " 'product data analyst with english',\n",
       " 'ptp analyst',\n",
       " 'quality data analyst (m|w|d)',\n",
       " 'reliability data analyst',\n",
       " 'research analyst',\n",
       " 'responsable data visualisation ms bi',\n",
       " 'référent applicatif business intelligence f/h',\n",
       " 'sales data analyst',\n",
       " 'salesforce analyst',\n",
       " 'salesforce data analyst (f/m/d)',\n",
       " 'sap finance analyst',\n",
       " 'semiconductor data analyst',\n",
       " 'social media data analyst',\n",
       " 'sozialwissenschaftler*in als data analyst (w/m/d)',\n",
       " 'sql/data analyst (m/w/d)',\n",
       " 'stage - data analyst h/f',\n",
       " 'stage | data analyst',\n",
       " 'statistical data analyst',\n",
       " 'supply chain analyst',\n",
       " 'supply chain data analyst',\n",
       " 'supply officer & data analyst - systems & equipment (d/f/m)',\n",
       " 'technical analyst for databricks (all genders)',\n",
       " 'technical data analyst',\n",
       " 'trading and business support analyst',\n",
       " 'traineeship data analyst',\n",
       " 'v.i.e performance management  analyst',\n",
       " 'wavemaker i data analyst with python',\n",
       " 'web analyst f/h en cdi',\n",
       " 'web data analyst f/h']"
      ]
     },
     "execution_count": 63,
     "metadata": {},
     "output_type": "execute_result"
    }
   ],
   "source": [
    "sorted(data_new['title'].unique())"
   ]
  },
  {
   "cell_type": "markdown",
   "metadata": {},
   "source": [
    "Сперва найдем всем BI Аналитиков:"
   ]
  },
  {
   "cell_type": "code",
   "execution_count": 64,
   "metadata": {},
   "outputs": [],
   "source": [
    "# Создадим список нужных слов:\n",
    "title_dict_bi = ['business','commercial','finance','policy','bi','visualization','market','b2b']\n",
    "bi_data = '|'.join(title_dict_bi)\n",
    "\n",
    "# Произведем замену на заглушку по словарю:\n",
    "data_new.loc[data_new['title'].str.contains(bi_data), 'title'] = 'business intelligence'"
   ]
  },
  {
   "cell_type": "markdown",
   "metadata": {},
   "source": [
    "Теперь найдем всех Data Schientist-ов:"
   ]
  },
  {
   "cell_type": "code",
   "execution_count": 65,
   "metadata": {},
   "outputs": [],
   "source": [
    "# Создадим список слов под замену:\n",
    "title_dict_sci = ['science','scientist']\n",
    "sci_data = '|'.join(title_dict_sci)\n",
    "\n",
    "# Произведем замену на заглушку по словарю:\n",
    "data_new.loc[data_new['title'].str.contains(sci_data), 'title'] = 'scientist'"
   ]
  },
  {
   "cell_type": "markdown",
   "metadata": {},
   "source": [
    "Все остальные станут Data Аналитиками:"
   ]
  },
  {
   "cell_type": "code",
   "execution_count": 66,
   "metadata": {},
   "outputs": [],
   "source": [
    "title_dict_an = ['anal','dat']\n",
    "an_data = '|'.join(title_dict_an)\n",
    "data_new.loc[data_new['title'].str.contains(an_data), 'title'] = 'data analyst'"
   ]
  },
  {
   "cell_type": "markdown",
   "metadata": {},
   "source": [
    "После укрупнения наименований вакансий, изменим наименованая на классические наименования:"
   ]
  },
  {
   "cell_type": "code",
   "execution_count": 67,
   "metadata": {},
   "outputs": [],
   "source": [
    "data_new['title'] = data_new['title'].str.replace('scientist','data scientist')\n",
    "data_new['title'] = data_new['title'].str.replace('business intelligence','bi analyst')"
   ]
  },
  {
   "cell_type": "markdown",
   "metadata": {},
   "source": [
    "Для удобства восприятия приведем наименования вакансий к верхнему регистру:"
   ]
  },
  {
   "cell_type": "code",
   "execution_count": 68,
   "metadata": {},
   "outputs": [],
   "source": [
    "data_new['title'] = data_new['title'].str.title()"
   ]
  },
  {
   "cell_type": "code",
   "execution_count": 69,
   "metadata": {},
   "outputs": [
    {
     "data": {
      "text/plain": [
       "['Bi Analyst', 'Data Analyst', 'Data Scientist']"
      ]
     },
     "execution_count": 69,
     "metadata": {},
     "output_type": "execute_result"
    }
   ],
   "source": [
    "sorted(data_new['title'].unique())"
   ]
  },
  {
   "cell_type": "markdown",
   "metadata": {},
   "source": [
    "Наименования вакансий откорректированы."
   ]
  },
  {
   "cell_type": "markdown",
   "metadata": {},
   "source": [
    " <a id=\"company_field\"></a> \n",
    " ### 3.11.  Анализ столбца со сферой деятельности компаний"
   ]
  },
  {
   "cell_type": "code",
   "execution_count": 70,
   "metadata": {
    "scrolled": true
   },
   "outputs": [
    {
     "data": {
      "text/plain": [
       "['1-10 employees',\n",
       " '11-50 employees',\n",
       " '201-500 employees',\n",
       " '51-200 employees',\n",
       " 'Advertising Services',\n",
       " 'Airlines and Aviation',\n",
       " 'Appliances, Electrical, and Electronics Manufacturing',\n",
       " 'Armed Forces',\n",
       " 'Aviation and Aerospace Component Manufacturing',\n",
       " 'Banking',\n",
       " 'Biotechnology Research',\n",
       " 'Book and Periodical Publishing',\n",
       " 'Business Consulting and Services',\n",
       " 'Chemical Manufacturing',\n",
       " 'Computer Games',\n",
       " 'Computer and Network Security',\n",
       " 'Computers and Electronics Manufacturing',\n",
       " 'Consumer Services',\n",
       " 'Cosmetics',\n",
       " 'Defense & Space',\n",
       " 'Defense and Space Manufacturing',\n",
       " 'Education Administration Programs',\n",
       " 'Entertainment Providers',\n",
       " 'Environmental Services',\n",
       " 'Farming',\n",
       " 'Financial Services',\n",
       " 'Food & Beverages',\n",
       " 'Food Production',\n",
       " 'Food and Beverage Manufacturing',\n",
       " 'Food and Beverage Services',\n",
       " 'Gambling Facilities and Casinos',\n",
       " 'Glass, Ceramics and Concrete Manufacturing',\n",
       " 'Government Administration',\n",
       " 'Higher Education',\n",
       " 'Hospitality',\n",
       " 'Hospitals and Health Care',\n",
       " 'Human Resources',\n",
       " 'Human Resources Services',\n",
       " 'IT Services and IT Consulting',\n",
       " 'Individual and Family Services',\n",
       " 'Industrial Machinery Manufacturing',\n",
       " 'Information Services',\n",
       " 'Information Technology & Services',\n",
       " 'Insurance',\n",
       " 'International Affairs',\n",
       " 'International Trade and Development',\n",
       " 'Internet Marketplace Platforms',\n",
       " 'Internet Publishing',\n",
       " 'Investment Banking',\n",
       " 'Investment Management',\n",
       " 'Law Enforcement',\n",
       " 'Manufacturing',\n",
       " 'Market Research',\n",
       " 'Mechanical Or Industrial Engineering',\n",
       " 'Medical Equipment Manufacturing',\n",
       " 'Mental Health Care',\n",
       " 'Motor Vehicle Manufacturing',\n",
       " 'Motor Vehicle Parts Manufacturing',\n",
       " 'Musicians',\n",
       " 'Newspaper Publishing',\n",
       " 'Non-profit Organizations',\n",
       " 'Oil and Gas',\n",
       " 'Outsourcing and Offshoring Consulting',\n",
       " 'Packaging and Containers Manufacturing',\n",
       " 'Performing Arts',\n",
       " 'Personal Care Product Manufacturing',\n",
       " 'Pharmaceutical Manufacturing',\n",
       " 'Philanthropic Fundraising Services',\n",
       " 'Primary Metal Manufacturing',\n",
       " 'Professional Services',\n",
       " 'Public Relations and Communications Services',\n",
       " 'Real Estate',\n",
       " 'Renewable Energy Semiconductor Manufacturing',\n",
       " 'Research',\n",
       " 'Research Services',\n",
       " 'Retail',\n",
       " 'Retail Apparel and Fashion',\n",
       " 'Retail Groceries',\n",
       " 'Retail Health and Personal Care Products',\n",
       " 'Retail Luxury Goods and Jewelry',\n",
       " 'Retail Office Equipment',\n",
       " 'See how you compare to 10 applicants. Try Premium for free',\n",
       " 'See how you compare to 13 applicants. Try Premium for free',\n",
       " 'See how you compare to 19 applicants. Try Premium for free',\n",
       " 'See how you compare to 22 applicants. Try Premium for free',\n",
       " 'See how you compare to 4 applicants. Try Premium for free',\n",
       " 'See how you compare to 9 applicants. Try Premium for free',\n",
       " 'See recent hiring trends for Devonshire Hayes Recruitment Specialists Ltd. Try Premium for free',\n",
       " 'Software Development',\n",
       " 'Spectator Sports',\n",
       " 'Sporting Goods Manufacturing',\n",
       " 'Staffing and Recruiting',\n",
       " 'Technology, Information and Internet',\n",
       " 'Telecommunications',\n",
       " 'Translation and Localization',\n",
       " 'Transportation, Logistics, Supply Chain and Storage',\n",
       " 'Travel Arrangements',\n",
       " 'Truck Transportation',\n",
       " 'Utilities',\n",
       " 'Wholesale',\n",
       " 'Wind Electric Power Generation',\n",
       " 'not specified']"
      ]
     },
     "execution_count": 70,
     "metadata": {},
     "output_type": "execute_result"
    }
   ],
   "source": [
    "sorted(data_new['company_field'].unique())"
   ]
  },
  {
   "cell_type": "code",
   "execution_count": 71,
   "metadata": {},
   "outputs": [],
   "source": [
    "# Создадим список слов под замену:\n",
    "f_dict = ['See','employees']\n",
    "f_data = '|'.join(f_dict)\n",
    "data_new.loc[data_new['company_field'].str.contains(f_data), 'company_field'] = 'not specified'"
   ]
  },
  {
   "cell_type": "markdown",
   "metadata": {},
   "source": [
    "Столбец откорректирован."
   ]
  },
  {
   "cell_type": "markdown",
   "metadata": {},
   "source": [
    " <a id=\"preparation\"></a> \n",
    " ### 3.12.  Подготовка данных для построения Дашборда"
   ]
  },
  {
   "cell_type": "markdown",
   "metadata": {},
   "source": [
    "Одним из условий ТЗ для построения Дашборда является полный список хард скилов по каждой вакансии. Ввиду того, что каждая строка столбца представляет собой список со скилами, для удобства нам нужно этот список разбить на отдельные скилы. Для этого мы будем использовать метод explode()."
   ]
  },
  {
   "cell_type": "code",
   "execution_count": 72,
   "metadata": {},
   "outputs": [],
   "source": [
    "# Чтобы не потерять данные данные, создадим столбец с id каждой вакансии:\n",
    "data_new['id'] = range(1, len(data_new)+1)"
   ]
  },
  {
   "cell_type": "code",
   "execution_count": 73,
   "metadata": {},
   "outputs": [],
   "source": [
    "# Применим метод explode к столбцу со скилами:\n",
    "data_new['new_skills'] = data_new['new_skills'].str.split(',')\n",
    "df = data_new.explode('new_skills')"
   ]
  },
  {
   "cell_type": "markdown",
   "metadata": {},
   "source": [
    "Проверим таблицу на дубликаты:"
   ]
  },
  {
   "cell_type": "code",
   "execution_count": 74,
   "metadata": {},
   "outputs": [
    {
     "data": {
      "text/plain": [
       "array([], dtype=object)"
      ]
     },
     "execution_count": 74,
     "metadata": {},
     "output_type": "execute_result"
    }
   ],
   "source": [
    "df[df.duplicated()]['new_skills'].unique()"
   ]
  },
  {
   "cell_type": "markdown",
   "metadata": {},
   "source": [
    "Видим, что дубликаты это пропуски в столбце со скилами. Удалим их."
   ]
  },
  {
   "cell_type": "code",
   "execution_count": 75,
   "metadata": {},
   "outputs": [],
   "source": [
    "df = df.drop_duplicates()"
   ]
  },
  {
   "cell_type": "markdown",
   "metadata": {},
   "source": [
    "Оценим данные столбца со скилами:"
   ]
  },
  {
   "cell_type": "code",
   "execution_count": 76,
   "metadata": {},
   "outputs": [],
   "source": [
    "# Уберем пробелы слева:\n",
    "df['new_skills'] = df['new_skills'].str.lstrip()"
   ]
  },
  {
   "cell_type": "code",
   "execution_count": 77,
   "metadata": {},
   "outputs": [],
   "source": [
    "# Уберем слово 'Microsoft':\n",
    "v_dict = ['Microsoft','Algorithms']\n",
    "v_data = '|'.join(v_dict)\n",
    "df['new_skills'] = df['new_skills'].str.replace(v_data,'').str.strip()   "
   ]
  },
  {
   "cell_type": "code",
   "execution_count": 78,
   "metadata": {},
   "outputs": [],
   "source": [
    "# Уберем дубликаты по АВ тестированию:\n",
    "ab_dict = ['A/B Testing','A/B Тестирование','Ab Testing']\n",
    "ab_data = '|'.join(ab_dict)\n",
    "df.loc[df['new_skills'].str.contains(ab_data), 'new_skills'] = 'AB Testing'"
   ]
  },
  {
   "cell_type": "code",
   "execution_count": 79,
   "metadata": {},
   "outputs": [],
   "source": [
    "# Произведем точечную замену:\n",
    "df.loc[df['new_skills'].str.contains('Oracle'), 'new_skills'] = 'Oracle'\n",
    "df.loc[df['new_skills'].str.contains('Машинное Обучение'), 'new_skills'] = 'Machine Learning'\n",
    "df.loc[df['new_skills'].str.contains('Looker'), 'new_skills'] = 'Looker'\n",
    "df.loc[df['new_skills'].str.contains('Анал'), 'new_skills'] = 'Аналитические навыки'\n",
    "df.loc[df['new_skills'].str.contains('Visual'), 'new_skills'] = 'Визуализация Данных'"
   ]
  },
  {
   "cell_type": "markdown",
   "metadata": {},
   "source": [
    "Данные готовы к выгрузке для Дашборда."
   ]
  },
  {
   "cell_type": "markdown",
   "metadata": {
    "id": "BzzCB1ZOGex4"
   },
   "source": [
    " <a id=\"losses\"></a> \n",
    " ### 3.13.  Оценка потерь в данных после предобработки"
   ]
  },
  {
   "cell_type": "markdown",
   "metadata": {
    "id": "cV2K6oaJGex4"
   },
   "source": [
    "Оценим объем потерянных данных:"
   ]
  },
  {
   "cell_type": "code",
   "execution_count": 80,
   "metadata": {
    "colab": {
     "base_uri": "https://localhost:8080/",
     "height": 35
    },
    "id": "kxgniRElGex4",
    "outputId": "c8a00e41-0494-40cb-e99f-70cc836f67c9"
   },
   "outputs": [
    {
     "data": {
      "text/plain": [
       "'После фильтрации потеряли: 33.52% данных.'"
      ]
     },
     "metadata": {},
     "output_type": "display_data"
    }
   ],
   "source": [
    "lost_persent = round((100*(len(data)-len(data_new)))/len(data),2)\n",
    "display(f\"После фильтрации потеряли: {lost_persent}% данных.\")"
   ]
  },
  {
   "cell_type": "markdown",
   "metadata": {
    "id": "Ozu-tj_ZGex4"
   },
   "source": [
    "Потери значительные, но согласно условию ТЗ было необходимо избавиться от дубликатов и нерелевантных вакансий, что и было проделано. "
   ]
  },
  {
   "cell_type": "code",
   "execution_count": 81,
   "metadata": {
    "colab": {
     "base_uri": "https://localhost:8080/",
     "height": 35
    },
    "id": "27x-T6eCGex4",
    "outputId": "a1bf1bf0-ed5e-4102-c5d7-dcb92bf3325b"
   },
   "outputs": [
    {
     "data": {
      "text/plain": [
       "'Для дальнейшей работы в нашем распоряжении: 589 строк данных.'"
      ]
     },
     "metadata": {},
     "output_type": "display_data"
    }
   ],
   "source": [
    "display(f\"Для дальнейшей работы в нашем распоряжении: {len(data_new)} строк данных.\")"
   ]
  },
  {
   "cell_type": "markdown",
   "metadata": {
    "id": "nqYqy3zSGex4"
   },
   "source": [
    " <a id=\"conclusion\"></a> \n",
    "## 4. Общие выводы по проведенной работе"
   ]
  },
  {
   "cell_type": "markdown",
   "metadata": {
    "id": "DUUsBXYlGex4"
   },
   "source": [
    "По условию ТЗ было необходимо подготовить данные для построения интерактивного Дашборда вакансий для DA и DS в Европе. Для этого над исходным датасетом были произведены следующие работы:\n",
    "\n",
    " - удалены дубликаты строк;\n",
    " - откорректированы типы данных таблицы;\n",
    " - выявлены хард скилы каждой вакансии;\n",
    " - откоррекированы данные по городу и стране каждой вакансии.   \n",
    " \n",
    " Данные очищены и подготовлены для дальнейшей работы по созданию Дашборда."
   ]
  },
  {
   "cell_type": "code",
   "execution_count": 82,
   "metadata": {},
   "outputs": [],
   "source": [
    "# Запишем очищенные данные для дашборда:\n",
    "df.to_csv('E:\\Analytics\\Warehouse\\Vacancy.csv', index=False)"
   ]
  }
 ],
 "metadata": {
  "colab": {
   "provenance": []
  },
  "kernelspec": {
   "display_name": "Python 3",
   "language": "python",
   "name": "python3"
  },
  "language_info": {
   "codemirror_mode": {
    "name": "ipython",
    "version": 3
   },
   "file_extension": ".py",
   "mimetype": "text/x-python",
   "name": "python",
   "nbconvert_exporter": "python",
   "pygments_lexer": "ipython3",
   "version": "3.7.0"
  }
 },
 "nbformat": 4,
 "nbformat_minor": 1
}
